{
 "cells": [
  {
   "cell_type": "code",
   "execution_count": 1,
   "id": "b770eab2-28cd-4971-bb3d-4b407c6e9377",
   "metadata": {},
   "outputs": [
    {
     "name": "stdout",
     "output_type": "stream",
     "text": [
      "Using CUDA\n"
     ]
    }
   ],
   "source": [
    "import os, pathlib, time, copy, librosa, gc\n",
    "\n",
    "import torch\n",
    "import torchaudio\n",
    "import numpy as np\n",
    "import torch.nn as nn\n",
    "import matplotlib.pyplot as plt\n",
    "from torch.optim import lr_scheduler\n",
    "\n",
    "from rich_logger import RichTablePrinter\n",
    "from tqdm import trange\n",
    "from rich import pretty\n",
    "from rich.console import Console\n",
    "from IPython.display import Audio\n",
    "\n",
    "console = Console()\n",
    "pretty.install()\n",
    "plt.ion()\n",
    "\n",
    "use_gpu = torch.cuda.is_available()\n",
    "if use_gpu:\n",
    "    device = 'cuda'\n",
    "    print(\"Using CUDA\")\n",
    "else:\n",
    "    device = 'cpu'\n",
    "    print('Using CPU')"
   ]
  },
  {
   "cell_type": "code",
   "execution_count": 2,
   "id": "cd850d8b-1ffb-4a2e-ac25-87e148d1c864",
   "metadata": {},
   "outputs": [],
   "source": [
    "class GreedyCTCDecoder(torch.nn.Module):\n",
    "    def __init__(self, labels, blank=0):\n",
    "        super().__init__()\n",
    "        self.labels = labels\n",
    "        self.blank = blank\n",
    "\n",
    "    def forward(self, emission: torch.Tensor) -> str:\n",
    "        \"\"\"Given a sequence emission over labels, get the best path string\n",
    "        Args:\n",
    "          emission (Tensor): Logit tensors. Shape `[num_seq, num_label]`.\n",
    "\n",
    "        Returns:\n",
    "          str: The resulting transcript\n",
    "        \"\"\"\n",
    "        indices = torch.argmax(emission, dim=-1)  # [num_seq,]\n",
    "        indices = torch.unique_consecutive(indices, dim=-1)\n",
    "        indices = [i for i in indices if i != self.blank]\n",
    "        return \"\".join([self.labels[i] for i in indices])"
   ]
  },
  {
   "cell_type": "code",
   "execution_count": 3,
   "id": "3f0b6b26-05cf-4f3c-839d-de5dffa04ae4",
   "metadata": {},
   "outputs": [],
   "source": [
    "bundle = torchaudio.pipelines.WAV2VEC2_ASR_BASE_960H\n",
    "model = bundle.get_model().to(device)"
   ]
  },
  {
   "cell_type": "code",
   "execution_count": 4,
   "id": "f2ed08a7-df09-4969-9710-766d337ca8b3",
   "metadata": {},
   "outputs": [],
   "source": [
    "test_file = './datasets/speech-handsign_commands/speech/val/down/bf5d409d_nohash_0.wav'\n",
    "wav, sr = torchaudio.load(test_file)\n",
    "Audio(wav.numpy()[0], rate=sr)\n",
    "wav = wav.to(device)"
   ]
  },
  {
   "cell_type": "code",
   "execution_count": 59,
   "id": "262ad40d-03f3-44e2-b153-cf90c1f4cedb",
   "metadata": {},
   "outputs": [],
   "source": [
    "down_1 = 'datasets/speech-handsign_commands/speech/val/down/c0445658_nohash_3.wav'\n",
    "down_2 = 'datasets/speech-handsign_commands/speech/val/down/c4e1f6e0_nohash_1.wav'\n",
    "right_1 = 'datasets/speech-handsign_commands/speech/val/right/c44d2a58_nohash_2.wav'\n",
    "right_2 = 'datasets/speech-handsign_commands/speech/val/right/c6a23ff5_nohash_2.wav'\n",
    "stop_1 = 'datasets/speech-handsign_commands/speech/val/stop/bf8d5617_nohash_0.wav'\n",
    "stop_2 = 'datasets/speech-handsign_commands/speech/val/stop/cc6bae0d_nohash_0.wav'\n",
    "\n",
    "\n",
    "def pad_seq(seq):\n",
    "    num_frames = seq.shape[1]\n",
    "    if num_frames > 16000:\n",
    "        seq = seq[:, :16000]\n",
    "    else:\n",
    "        pad_width = 16000 - num_frames\n",
    "        seq = np.pad(seq, [(0, 0), (0, pad_width)], mode=\"constant\")\n",
    "    return seq\n",
    "\n",
    "\n",
    "wav_down_1 = pad_seq(torchaudio.load(down_1)[0])\n",
    "wav_down_2 = pad_seq(torchaudio.load(down_2)[0])\n",
    "wav_right_1 = pad_seq(torchaudio.load(right_1)[0])\n",
    "wav_right_2 = pad_seq(torchaudio.load(right_2)[0])\n",
    "wav_stop_1 = pad_seq(torchaudio.load(stop_1)[0])\n",
    "wav_stop_2 = pad_seq(torchaudio.load(stop_2)[0])\n",
    "\n",
    "wav_down_1 = torch.from_numpy(wav_down_1).to(device)\n",
    "wav_down_2 = torch.from_numpy(wav_down_2).to(device)\n",
    "wav_right_1 = torch.from_numpy(wav_right_1).to(device)\n",
    "wav_right_2 = torch.from_numpy(wav_right_2).to(device)\n",
    "wav_stop_1 = torch.from_numpy(wav_stop_1).to(device)\n",
    "wav_stop_2 = torch.from_numpy(wav_stop_2).to(device)\n",
    "\n",
    "with torch.inference_mode():\n",
    "    down_features_1, _ = model(wav_down_1)\n",
    "    down_features_2, _ = model(wav_down_2)\n",
    "    right_features_1, _ = model(wav_right_1)\n",
    "    right_features_2, _ = model(wav_right_2)\n",
    "    stop_features_1, _ = model(wav_stop_1)\n",
    "    stop_features_2, _ = model(wav_stop_2)\n",
    "down_features_1 = down_features_1[0].squeeze(0).flatten()#.mean(dim=0)\n",
    "down_features_2 = down_features_2[0].squeeze(0).flatten()#.mean(dim=0)\n",
    "right_features_1 = right_features_1[0].squeeze(0).flatten()#.mean(dim=0)\n",
    "right_features_2 = right_features_1[0].squeeze(0).flatten()#.mean(dim=0)\n",
    "stop_features_1 = stop_features_1[0].squeeze(0).flatten()#.mean(dim=0)\n",
    "stop_features_2 = stop_features_2[0].squeeze(0).flatten()#.mean(dim=0)"
   ]
  },
  {
   "cell_type": "code",
   "execution_count": 60,
   "id": "316be299-61ed-4315-bc01-684f79ec9f9d",
   "metadata": {},
   "outputs": [
    {
     "data": {
      "text/plain": [
       "torch.Size([1421])"
      ]
     },
     "execution_count": 60,
     "metadata": {},
     "output_type": "execute_result"
    }
   ],
   "source": [
    "down_features_1.shape"
   ]
  },
  {
   "cell_type": "code",
   "execution_count": 61,
   "id": "0dc91ccd-42f1-4ae6-bda3-7eb892c3fff1",
   "metadata": {},
   "outputs": [
    {
     "data": {
      "text/html": [
       "<pre style=\"white-space:pre;overflow-x:auto;line-height:normal;font-family:Menlo,'DejaVu Sans Mono',consolas,'Courier New',monospace\"><span style=\"color: #7fbfbf; text-decoration-color: #7fbfbf\">[09:12:19] </span>Similarity                                                                              <a href=\"file:///tmp/ipykernel_2244664/3292757301.py\" target=\"_blank\"><span style=\"color: #7f7f7f; text-decoration-color: #7f7f7f\">3292757301.py</span></a><span style=\"color: #7f7f7f; text-decoration-color: #7f7f7f\">:</span><a href=\"file:///tmp/ipykernel_2244664/3292757301.py#10\" target=\"_blank\"><span style=\"color: #7f7f7f; text-decoration-color: #7f7f7f\">10</span></a>\n",
       "<span style=\"color: #7fbfbf; text-decoration-color: #7fbfbf\">           </span>down_1 X down_2 : <span style=\"color: #008080; text-decoration-color: #008080; font-weight: bold\">0.8353593349456787</span>                                                    <span style=\"color: #7f7f7f; text-decoration-color: #7f7f7f\">                </span>\n",
       "<span style=\"color: #7fbfbf; text-decoration-color: #7fbfbf\">           </span>down_1 X right_1 : <span style=\"color: #008080; text-decoration-color: #008080; font-weight: bold\">0.8317064046859741</span>                                                   <span style=\"color: #7f7f7f; text-decoration-color: #7f7f7f\">                </span>\n",
       "<span style=\"color: #7fbfbf; text-decoration-color: #7fbfbf\">           </span>right_1 X right_2 : <span style=\"color: #008080; text-decoration-color: #008080; font-weight: bold\">-0.596428394317627</span>                                                  <span style=\"color: #7f7f7f; text-decoration-color: #7f7f7f\">                </span>\n",
       "<span style=\"color: #7fbfbf; text-decoration-color: #7fbfbf\">           </span>down_2 X right_2 : <span style=\"color: #008080; text-decoration-color: #008080; font-weight: bold\">-0.5869486927986145</span>                                                  <span style=\"color: #7f7f7f; text-decoration-color: #7f7f7f\">                </span>\n",
       "<span style=\"color: #7fbfbf; text-decoration-color: #7fbfbf\">           </span>stop_1 X down_1 : <span style=\"color: #008080; text-decoration-color: #008080; font-weight: bold\">0.8446945548057556</span>                                                    <span style=\"color: #7f7f7f; text-decoration-color: #7f7f7f\">                </span>\n",
       "<span style=\"color: #7fbfbf; text-decoration-color: #7fbfbf\">           </span>stop_1 X right_1 : <span style=\"color: #008080; text-decoration-color: #008080; font-weight: bold\">0.8397865891456604</span>                                                   <span style=\"color: #7f7f7f; text-decoration-color: #7f7f7f\">                </span>\n",
       "<span style=\"color: #7fbfbf; text-decoration-color: #7fbfbf\">           </span>stop_1 X stop_2 : <span style=\"color: #008080; text-decoration-color: #008080; font-weight: bold\">0.7577064633369446</span>                                                    <span style=\"color: #7f7f7f; text-decoration-color: #7f7f7f\">                </span>\n",
       "</pre>\n"
      ],
      "text/plain": [
       "\u001b[2;36m[09:12:19]\u001b[0m\u001b[2;36m \u001b[0mSimilarity                                                                              \u001b]8;id=786922;file:///tmp/ipykernel_2244664/3292757301.py\u001b\\\u001b[2m3292757301.py\u001b[0m\u001b]8;;\u001b\\\u001b[2m:\u001b[0m\u001b]8;id=767455;file:///tmp/ipykernel_2244664/3292757301.py#10\u001b\\\u001b[2m10\u001b[0m\u001b]8;;\u001b\\\n",
       "\u001b[2;36m           \u001b[0mdown_1 X down_2 : \u001b[1;36m0.8353593349456787\u001b[0m                                                    \u001b[2m                \u001b[0m\n",
       "\u001b[2;36m           \u001b[0mdown_1 X right_1 : \u001b[1;36m0.8317064046859741\u001b[0m                                                   \u001b[2m                \u001b[0m\n",
       "\u001b[2;36m           \u001b[0mright_1 X right_2 : \u001b[1;36m-0.596428394317627\u001b[0m                                                  \u001b[2m                \u001b[0m\n",
       "\u001b[2;36m           \u001b[0mdown_2 X right_2 : \u001b[1;36m-0.5869486927986145\u001b[0m                                                  \u001b[2m                \u001b[0m\n",
       "\u001b[2;36m           \u001b[0mstop_1 X down_1 : \u001b[1;36m0.8446945548057556\u001b[0m                                                    \u001b[2m                \u001b[0m\n",
       "\u001b[2;36m           \u001b[0mstop_1 X right_1 : \u001b[1;36m0.8397865891456604\u001b[0m                                                   \u001b[2m                \u001b[0m\n",
       "\u001b[2;36m           \u001b[0mstop_1 X stop_2 : \u001b[1;36m0.7577064633369446\u001b[0m                                                    \u001b[2m                \u001b[0m\n"
      ]
     },
     "metadata": {},
     "output_type": "display_data"
    }
   ],
   "source": [
    "cosim = torch.nn.CosineSimilarity(dim=0)\n",
    "sim_1 = cosim(down_features_1, down_features_2)\n",
    "sim_2 = cosim(down_features_1, right_features_1)\n",
    "sim_3 = cosim(right_features_1, right_features_2)\n",
    "sim_4 = cosim(down_features_2, right_features_2)\n",
    "\n",
    "sim_5 = cosim(stop_features_1, down_features_1)\n",
    "sim_6 = cosim(stop_features_1, right_features_1)\n",
    "sim_7 = cosim(stop_features_1, stop_features_2)\n",
    "console.log(\n",
    "    \"Similarity\\ndown_1 X down_2 : {}\\ndown_1 X right_1 : {}\\nright_1 X right_2 : {}\\ndown_2 X right_2 : {}\\nstop_1 X down_1 : {}\\nstop_1 X right_1 : {}\\nstop_1 X stop_2 : {}\"\n",
    "    .format(sim_1, sim_2, sim_3, sim_4, sim_5, sim_6, sim_7)\n",
    ")"
   ]
  },
  {
   "cell_type": "code",
   "execution_count": 58,
   "id": "8ff1b2eb-a33a-4eca-b0ef-332663034ba8",
   "metadata": {},
   "outputs": [
    {
     "data": {
      "text/plain": [
       "tensor(0.9542, device='cuda:0')"
      ]
     },
     "execution_count": 58,
     "metadata": {},
     "output_type": "execute_result"
    }
   ],
   "source": [
    "cosim(stop_features_1, stop_features_2)"
   ]
  },
  {
   "cell_type": "code",
   "execution_count": 5,
   "id": "65730c9c-b776-4c98-9e7d-249a701314f4",
   "metadata": {},
   "outputs": [
    {
     "data": {
      "text/html": [
       "<pre style=\"white-space:pre;overflow-x:auto;line-height:normal;font-family:Menlo,'DejaVu Sans Mono',consolas,'Courier New',monospace\"><span style=\"color: #7fbfbf; text-decoration-color: #7fbfbf\">[08:29:55] </span><span style=\"color: #800080; text-decoration-color: #800080; font-weight: bold\">torch.Size</span><span style=\"font-weight: bold\">([</span><span style=\"color: #008080; text-decoration-color: #008080; font-weight: bold\">1</span>, <span style=\"color: #008080; text-decoration-color: #008080; font-weight: bold\">49</span>, <span style=\"color: #008080; text-decoration-color: #008080; font-weight: bold\">768</span><span style=\"font-weight: bold\">])</span>                                                                 <a href=\"file:///tmp/ipykernel_2244664/2654865961.py\" target=\"_blank\"><span style=\"color: #7f7f7f; text-decoration-color: #7f7f7f\">2654865961.py</span></a><span style=\"color: #7f7f7f; text-decoration-color: #7f7f7f\">:</span><a href=\"file:///tmp/ipykernel_2244664/2654865961.py#3\" target=\"_blank\"><span style=\"color: #7f7f7f; text-decoration-color: #7f7f7f\">3</span></a>\n",
       "</pre>\n"
      ],
      "text/plain": [
       "\u001b[2;36m[08:29:55]\u001b[0m\u001b[2;36m \u001b[0m\u001b[1;35mtorch.Size\u001b[0m\u001b[1m(\u001b[0m\u001b[1m[\u001b[0m\u001b[1;36m1\u001b[0m, \u001b[1;36m49\u001b[0m, \u001b[1;36m768\u001b[0m\u001b[1m]\u001b[0m\u001b[1m)\u001b[0m                                                                 \u001b]8;id=718360;file:///tmp/ipykernel_2244664/2654865961.py\u001b\\\u001b[2m2654865961.py\u001b[0m\u001b]8;;\u001b\\\u001b[2m:\u001b[0m\u001b]8;id=852616;file:///tmp/ipykernel_2244664/2654865961.py#3\u001b\\\u001b[2m3\u001b[0m\u001b]8;;\u001b\\\n"
      ]
     },
     "metadata": {},
     "output_type": "display_data"
    }
   ],
   "source": [
    "with torch.inference_mode():\n",
    "    features, _ = model.extract_features(wav)\n",
    "console.log(features[0].shape)"
   ]
  },
  {
   "cell_type": "code",
   "execution_count": 6,
   "id": "48561945-23e3-48e3-929f-efdb08c1fc64",
   "metadata": {},
   "outputs": [
    {
     "data": {
      "text/html": [
       "<pre style=\"white-space:pre;overflow-x:auto;line-height:normal;font-family:Menlo,'DejaVu Sans Mono',consolas,'Courier New',monospace\"><span style=\"color: #7fbfbf; text-decoration-color: #7fbfbf\">[08:29:57] </span><span style=\"color: #800080; text-decoration-color: #800080; font-weight: bold\">torch.Size</span><span style=\"font-weight: bold\">([</span><span style=\"color: #008080; text-decoration-color: #008080; font-weight: bold\">1</span>, <span style=\"color: #008080; text-decoration-color: #008080; font-weight: bold\">49</span>, <span style=\"color: #008080; text-decoration-color: #008080; font-weight: bold\">29</span><span style=\"font-weight: bold\">])</span>                                                                  <a href=\"file:///tmp/ipykernel_2244664/1127526247.py\" target=\"_blank\"><span style=\"color: #7f7f7f; text-decoration-color: #7f7f7f\">1127526247.py</span></a><span style=\"color: #7f7f7f; text-decoration-color: #7f7f7f\">:</span><a href=\"file:///tmp/ipykernel_2244664/1127526247.py#3\" target=\"_blank\"><span style=\"color: #7f7f7f; text-decoration-color: #7f7f7f\">3</span></a>\n",
       "<span style=\"color: #7fbfbf; text-decoration-color: #7fbfbf\">           </span><span style=\"color: #800080; text-decoration-color: #800080; font-weight: bold\">tensor</span><span style=\"font-weight: bold\">([[[</span> <span style=\"color: #008080; text-decoration-color: #008080; font-weight: bold\">11.5509</span>,  <span style=\"color: #008080; text-decoration-color: #008080; font-weight: bold\">-0.2031</span>,  <span style=\"color: #008080; text-decoration-color: #008080; font-weight: bold\">-0.9428</span>,  <span style=\"color: #808000; text-decoration-color: #808000\">...</span>,  <span style=\"color: #008080; text-decoration-color: #008080; font-weight: bold\">-7.0372</span>,  <span style=\"color: #008080; text-decoration-color: #008080; font-weight: bold\">-6.1315</span>,  <span style=\"color: #008080; text-decoration-color: #008080; font-weight: bold\">-7.2063</span><span style=\"font-weight: bold\">]</span>,             <span style=\"color: #7f7f7f; text-decoration-color: #7f7f7f\">               </span>\n",
       "<span style=\"color: #7fbfbf; text-decoration-color: #7fbfbf\">           </span>         <span style=\"font-weight: bold\">[</span> <span style=\"color: #008080; text-decoration-color: #008080; font-weight: bold\">11.5858</span>,  <span style=\"color: #008080; text-decoration-color: #008080; font-weight: bold\">-0.0873</span>,  <span style=\"color: #008080; text-decoration-color: #008080; font-weight: bold\">-0.9814</span>,  <span style=\"color: #808000; text-decoration-color: #808000\">...</span>,  <span style=\"color: #008080; text-decoration-color: #008080; font-weight: bold\">-7.0390</span>,  <span style=\"color: #008080; text-decoration-color: #008080; font-weight: bold\">-6.2226</span>,  <span style=\"color: #008080; text-decoration-color: #008080; font-weight: bold\">-7.1677</span><span style=\"font-weight: bold\">]</span>,             <span style=\"color: #7f7f7f; text-decoration-color: #7f7f7f\">               </span>\n",
       "<span style=\"color: #7fbfbf; text-decoration-color: #7fbfbf\">           </span>         <span style=\"font-weight: bold\">[</span> <span style=\"color: #008080; text-decoration-color: #008080; font-weight: bold\">11.4210</span>,   <span style=\"color: #008080; text-decoration-color: #008080; font-weight: bold\">0.4782</span>,  <span style=\"color: #008080; text-decoration-color: #008080; font-weight: bold\">-1.1381</span>,  <span style=\"color: #808000; text-decoration-color: #808000\">...</span>,  <span style=\"color: #008080; text-decoration-color: #008080; font-weight: bold\">-6.7202</span>,  <span style=\"color: #008080; text-decoration-color: #008080; font-weight: bold\">-6.3945</span>,  <span style=\"color: #008080; text-decoration-color: #008080; font-weight: bold\">-6.6808</span><span style=\"font-weight: bold\">]</span>,             <span style=\"color: #7f7f7f; text-decoration-color: #7f7f7f\">               </span>\n",
       "<span style=\"color: #7fbfbf; text-decoration-color: #7fbfbf\">           </span>         <span style=\"color: #808000; text-decoration-color: #808000\">...</span>,                                                                            <span style=\"color: #7f7f7f; text-decoration-color: #7f7f7f\">               </span>\n",
       "<span style=\"color: #7fbfbf; text-decoration-color: #7fbfbf\">           </span>         <span style=\"font-weight: bold\">[</span> <span style=\"color: #008080; text-decoration-color: #008080; font-weight: bold\">-1.8378</span>,   <span style=\"color: #008080; text-decoration-color: #008080; font-weight: bold\">9.8166</span>,   <span style=\"color: #008080; text-decoration-color: #008080; font-weight: bold\">1.6956</span>,  <span style=\"color: #808000; text-decoration-color: #808000\">...</span>,  <span style=\"color: #008080; text-decoration-color: #008080; font-weight: bold\">-5.9913</span>,  <span style=\"color: #008080; text-decoration-color: #008080; font-weight: bold\">-6.4387</span>,  <span style=\"color: #008080; text-decoration-color: #008080; font-weight: bold\">-5.1268</span><span style=\"font-weight: bold\">]</span>,             <span style=\"color: #7f7f7f; text-decoration-color: #7f7f7f\">               </span>\n",
       "<span style=\"color: #7fbfbf; text-decoration-color: #7fbfbf\">           </span>         <span style=\"font-weight: bold\">[</span>  <span style=\"color: #008080; text-decoration-color: #008080; font-weight: bold\">3.7006</span>,   <span style=\"color: #008080; text-decoration-color: #008080; font-weight: bold\">9.6794</span>,   <span style=\"color: #008080; text-decoration-color: #008080; font-weight: bold\">1.0203</span>,  <span style=\"color: #808000; text-decoration-color: #808000\">...</span>,  <span style=\"color: #008080; text-decoration-color: #008080; font-weight: bold\">-7.3436</span>,  <span style=\"color: #008080; text-decoration-color: #008080; font-weight: bold\">-8.5638</span>,  <span style=\"color: #008080; text-decoration-color: #008080; font-weight: bold\">-6.0118</span><span style=\"font-weight: bold\">]</span>,             <span style=\"color: #7f7f7f; text-decoration-color: #7f7f7f\">               </span>\n",
       "<span style=\"color: #7fbfbf; text-decoration-color: #7fbfbf\">           </span>         <span style=\"font-weight: bold\">[</span> <span style=\"color: #008080; text-decoration-color: #008080; font-weight: bold\">11.0257</span>,   <span style=\"color: #008080; text-decoration-color: #008080; font-weight: bold\">7.6945</span>,  <span style=\"color: #008080; text-decoration-color: #008080; font-weight: bold\">-1.4180</span>,  <span style=\"color: #808000; text-decoration-color: #808000\">...</span>,  <span style=\"color: #008080; text-decoration-color: #008080; font-weight: bold\">-8.6039</span>, <span style=\"color: #008080; text-decoration-color: #008080; font-weight: bold\">-10.0461</span>,  <span style=\"color: #008080; text-decoration-color: #008080; font-weight: bold\">-7.9190</span><span style=\"font-weight: bold\">]]]</span>,           <span style=\"color: #7f7f7f; text-decoration-color: #7f7f7f\">               </span>\n",
       "<span style=\"color: #7fbfbf; text-decoration-color: #7fbfbf\">           </span>       <span style=\"color: #808000; text-decoration-color: #808000\">device</span>=<span style=\"color: #008000; text-decoration-color: #008000\">'cuda:0'</span><span style=\"font-weight: bold\">)</span>                                                                  <span style=\"color: #7f7f7f; text-decoration-color: #7f7f7f\">               </span>\n",
       "</pre>\n"
      ],
      "text/plain": [
       "\u001b[2;36m[08:29:57]\u001b[0m\u001b[2;36m \u001b[0m\u001b[1;35mtorch.Size\u001b[0m\u001b[1m(\u001b[0m\u001b[1m[\u001b[0m\u001b[1;36m1\u001b[0m, \u001b[1;36m49\u001b[0m, \u001b[1;36m29\u001b[0m\u001b[1m]\u001b[0m\u001b[1m)\u001b[0m                                                                  \u001b]8;id=463475;file:///tmp/ipykernel_2244664/1127526247.py\u001b\\\u001b[2m1127526247.py\u001b[0m\u001b]8;;\u001b\\\u001b[2m:\u001b[0m\u001b]8;id=176755;file:///tmp/ipykernel_2244664/1127526247.py#3\u001b\\\u001b[2m3\u001b[0m\u001b]8;;\u001b\\\n",
       "\u001b[2;36m           \u001b[0m\u001b[1;35mtensor\u001b[0m\u001b[1m(\u001b[0m\u001b[1m[\u001b[0m\u001b[1m[\u001b[0m\u001b[1m[\u001b[0m \u001b[1;36m11.5509\u001b[0m,  \u001b[1;36m-0.2031\u001b[0m,  \u001b[1;36m-0.9428\u001b[0m,  \u001b[33m...\u001b[0m,  \u001b[1;36m-7.0372\u001b[0m,  \u001b[1;36m-6.1315\u001b[0m,  \u001b[1;36m-7.2063\u001b[0m\u001b[1m]\u001b[0m,             \u001b[2m               \u001b[0m\n",
       "\u001b[2;36m           \u001b[0m         \u001b[1m[\u001b[0m \u001b[1;36m11.5858\u001b[0m,  \u001b[1;36m-0.0873\u001b[0m,  \u001b[1;36m-0.9814\u001b[0m,  \u001b[33m...\u001b[0m,  \u001b[1;36m-7.0390\u001b[0m,  \u001b[1;36m-6.2226\u001b[0m,  \u001b[1;36m-7.1677\u001b[0m\u001b[1m]\u001b[0m,             \u001b[2m               \u001b[0m\n",
       "\u001b[2;36m           \u001b[0m         \u001b[1m[\u001b[0m \u001b[1;36m11.4210\u001b[0m,   \u001b[1;36m0.4782\u001b[0m,  \u001b[1;36m-1.1381\u001b[0m,  \u001b[33m...\u001b[0m,  \u001b[1;36m-6.7202\u001b[0m,  \u001b[1;36m-6.3945\u001b[0m,  \u001b[1;36m-6.6808\u001b[0m\u001b[1m]\u001b[0m,             \u001b[2m               \u001b[0m\n",
       "\u001b[2;36m           \u001b[0m         \u001b[33m...\u001b[0m,                                                                            \u001b[2m               \u001b[0m\n",
       "\u001b[2;36m           \u001b[0m         \u001b[1m[\u001b[0m \u001b[1;36m-1.8378\u001b[0m,   \u001b[1;36m9.8166\u001b[0m,   \u001b[1;36m1.6956\u001b[0m,  \u001b[33m...\u001b[0m,  \u001b[1;36m-5.9913\u001b[0m,  \u001b[1;36m-6.4387\u001b[0m,  \u001b[1;36m-5.1268\u001b[0m\u001b[1m]\u001b[0m,             \u001b[2m               \u001b[0m\n",
       "\u001b[2;36m           \u001b[0m         \u001b[1m[\u001b[0m  \u001b[1;36m3.7006\u001b[0m,   \u001b[1;36m9.6794\u001b[0m,   \u001b[1;36m1.0203\u001b[0m,  \u001b[33m...\u001b[0m,  \u001b[1;36m-7.3436\u001b[0m,  \u001b[1;36m-8.5638\u001b[0m,  \u001b[1;36m-6.0118\u001b[0m\u001b[1m]\u001b[0m,             \u001b[2m               \u001b[0m\n",
       "\u001b[2;36m           \u001b[0m         \u001b[1m[\u001b[0m \u001b[1;36m11.0257\u001b[0m,   \u001b[1;36m7.6945\u001b[0m,  \u001b[1;36m-1.4180\u001b[0m,  \u001b[33m...\u001b[0m,  \u001b[1;36m-8.6039\u001b[0m, \u001b[1;36m-10.0461\u001b[0m,  \u001b[1;36m-7.9190\u001b[0m\u001b[1m]\u001b[0m\u001b[1m]\u001b[0m\u001b[1m]\u001b[0m,           \u001b[2m               \u001b[0m\n",
       "\u001b[2;36m           \u001b[0m       \u001b[33mdevice\u001b[0m=\u001b[32m'cuda:0'\u001b[0m\u001b[1m)\u001b[0m                                                                  \u001b[2m               \u001b[0m\n"
      ]
     },
     "metadata": {},
     "output_type": "display_data"
    }
   ],
   "source": [
    "with torch.inference_mode():\n",
    "    emission, _ = model(wav)\n",
    "console.log(emission.shape, emission)"
   ]
  },
  {
   "cell_type": "code",
   "execution_count": 7,
   "id": "4e8213d6-3d44-4c36-b50e-6908fd01a196",
   "metadata": {},
   "outputs": [
    {
     "data": {
      "text/html": [
       "<pre style=\"white-space:pre;overflow-x:auto;line-height:normal;font-family:Menlo,'DejaVu Sans Mono',consolas,'Courier New',monospace\"><span style=\"color: #7fbfbf; text-decoration-color: #7fbfbf\">[08:29:58] </span>DOWN|                                                                                    <a href=\"file:///tmp/ipykernel_2244664/2457725976.py\" target=\"_blank\"><span style=\"color: #7f7f7f; text-decoration-color: #7f7f7f\">2457725976.py</span></a><span style=\"color: #7f7f7f; text-decoration-color: #7f7f7f\">:</span><a href=\"file:///tmp/ipykernel_2244664/2457725976.py#4\" target=\"_blank\"><span style=\"color: #7f7f7f; text-decoration-color: #7f7f7f\">4</span></a>\n",
       "</pre>\n"
      ],
      "text/plain": [
       "\u001b[2;36m[08:29:58]\u001b[0m\u001b[2;36m \u001b[0mDOWN|                                                                                    \u001b]8;id=45463;file:///tmp/ipykernel_2244664/2457725976.py\u001b\\\u001b[2m2457725976.py\u001b[0m\u001b]8;;\u001b\\\u001b[2m:\u001b[0m\u001b]8;id=65946;file:///tmp/ipykernel_2244664/2457725976.py#4\u001b\\\u001b[2m4\u001b[0m\u001b]8;;\u001b\\\n"
      ]
     },
     "metadata": {},
     "output_type": "display_data"
    }
   ],
   "source": [
    "decoder = GreedyCTCDecoder(labels=bundle.get_labels())\n",
    "decoder = decoder.to(device)\n",
    "transcript = decoder(emission[0])\n",
    "console.log(transcript)"
   ]
  },
  {
   "cell_type": "code",
   "execution_count": 4,
   "id": "77a7336c-c7ed-4289-8b0f-b0648e709018",
   "metadata": {},
   "outputs": [
    {
     "data": {
      "text/html": [
       "<pre style=\"white-space:pre;overflow-x:auto;line-height:normal;font-family:Menlo,'DejaVu Sans Mono',consolas,'Courier New',monospace\"><span style=\"color: #7fbfbf; text-decoration-color: #7fbfbf\">[15:51:52] </span><span style=\"color: #800080; text-decoration-color: #800080; font-weight: bold\">Wav2Vec2Model</span><span style=\"font-weight: bold\">(</span>                                                                            <a href=\"file:///tmp/ipykernel_2604346/977660610.py\" target=\"_blank\"><span style=\"color: #7f7f7f; text-decoration-color: #7f7f7f\">977660610.py</span></a><span style=\"color: #7f7f7f; text-decoration-color: #7f7f7f\">:</span><a href=\"file:///tmp/ipykernel_2604346/977660610.py#1\" target=\"_blank\"><span style=\"color: #7f7f7f; text-decoration-color: #7f7f7f\">1</span></a>\n",
       "<span style=\"color: #7fbfbf; text-decoration-color: #7fbfbf\">           </span>  <span style=\"font-weight: bold\">(</span>feature_extractor<span style=\"font-weight: bold\">)</span>: <span style=\"color: #800080; text-decoration-color: #800080; font-weight: bold\">FeatureExtractor</span><span style=\"font-weight: bold\">(</span>                                                  <span style=\"color: #7f7f7f; text-decoration-color: #7f7f7f\">              </span>\n",
       "<span style=\"color: #7fbfbf; text-decoration-color: #7fbfbf\">           </span>    <span style=\"font-weight: bold\">(</span>conv_layers<span style=\"font-weight: bold\">)</span>: <span style=\"color: #800080; text-decoration-color: #800080; font-weight: bold\">ModuleList</span><span style=\"font-weight: bold\">(</span>                                                            <span style=\"color: #7f7f7f; text-decoration-color: #7f7f7f\">              </span>\n",
       "<span style=\"color: #7fbfbf; text-decoration-color: #7fbfbf\">           </span>      <span style=\"font-weight: bold\">(</span><span style=\"color: #008080; text-decoration-color: #008080; font-weight: bold\">0</span><span style=\"font-weight: bold\">)</span>: <span style=\"color: #800080; text-decoration-color: #800080; font-weight: bold\">ConvLayerBlock</span><span style=\"font-weight: bold\">(</span>                                                                <span style=\"color: #7f7f7f; text-decoration-color: #7f7f7f\">              </span>\n",
       "<span style=\"color: #7fbfbf; text-decoration-color: #7fbfbf\">           </span>        <span style=\"font-weight: bold\">(</span>layer_norm<span style=\"font-weight: bold\">)</span>: <span style=\"color: #800080; text-decoration-color: #800080; font-weight: bold\">GroupNorm</span><span style=\"font-weight: bold\">(</span><span style=\"color: #008080; text-decoration-color: #008080; font-weight: bold\">512</span>, <span style=\"color: #008080; text-decoration-color: #008080; font-weight: bold\">512</span>, <span style=\"color: #808000; text-decoration-color: #808000\">eps</span>=<span style=\"color: #008080; text-decoration-color: #008080; font-weight: bold\">1e-05</span>, <span style=\"color: #808000; text-decoration-color: #808000\">affine</span>=<span style=\"color: #00ff00; text-decoration-color: #00ff00; font-style: italic\">True</span><span style=\"font-weight: bold\">)</span>                         <span style=\"color: #7f7f7f; text-decoration-color: #7f7f7f\">              </span>\n",
       "<span style=\"color: #7fbfbf; text-decoration-color: #7fbfbf\">           </span>        <span style=\"font-weight: bold\">(</span>conv<span style=\"font-weight: bold\">)</span>: <span style=\"color: #800080; text-decoration-color: #800080; font-weight: bold\">Conv1d</span><span style=\"font-weight: bold\">(</span><span style=\"color: #008080; text-decoration-color: #008080; font-weight: bold\">1</span>, <span style=\"color: #008080; text-decoration-color: #008080; font-weight: bold\">512</span>, <span style=\"color: #808000; text-decoration-color: #808000\">kernel_size</span>=<span style=\"font-weight: bold\">(</span><span style=\"color: #008080; text-decoration-color: #008080; font-weight: bold\">10</span>,<span style=\"font-weight: bold\">)</span>, <span style=\"color: #808000; text-decoration-color: #808000\">stride</span>=<span style=\"font-weight: bold\">(</span><span style=\"color: #008080; text-decoration-color: #008080; font-weight: bold\">5</span>,<span style=\"font-weight: bold\">)</span>, <span style=\"color: #808000; text-decoration-color: #808000\">bias</span>=<span style=\"color: #ff0000; text-decoration-color: #ff0000; font-style: italic\">False</span><span style=\"font-weight: bold\">)</span>                <span style=\"color: #7f7f7f; text-decoration-color: #7f7f7f\">              </span>\n",
       "<span style=\"color: #7fbfbf; text-decoration-color: #7fbfbf\">           </span>      <span style=\"font-weight: bold\">)</span>                                                                                   <span style=\"color: #7f7f7f; text-decoration-color: #7f7f7f\">              </span>\n",
       "<span style=\"color: #7fbfbf; text-decoration-color: #7fbfbf\">           </span>      <span style=\"font-weight: bold\">(</span><span style=\"color: #008080; text-decoration-color: #008080; font-weight: bold\">1</span>-<span style=\"color: #008080; text-decoration-color: #008080; font-weight: bold\">4</span><span style=\"font-weight: bold\">)</span>: <span style=\"color: #008080; text-decoration-color: #008080; font-weight: bold\">4</span> x <span style=\"color: #800080; text-decoration-color: #800080; font-weight: bold\">ConvLayerBlock</span><span style=\"font-weight: bold\">(</span>                                                          <span style=\"color: #7f7f7f; text-decoration-color: #7f7f7f\">              </span>\n",
       "<span style=\"color: #7fbfbf; text-decoration-color: #7fbfbf\">           </span>        <span style=\"font-weight: bold\">(</span>conv<span style=\"font-weight: bold\">)</span>: <span style=\"color: #800080; text-decoration-color: #800080; font-weight: bold\">Conv1d</span><span style=\"font-weight: bold\">(</span><span style=\"color: #008080; text-decoration-color: #008080; font-weight: bold\">512</span>, <span style=\"color: #008080; text-decoration-color: #008080; font-weight: bold\">512</span>, <span style=\"color: #808000; text-decoration-color: #808000\">kernel_size</span>=<span style=\"font-weight: bold\">(</span><span style=\"color: #008080; text-decoration-color: #008080; font-weight: bold\">3</span>,<span style=\"font-weight: bold\">)</span>, <span style=\"color: #808000; text-decoration-color: #808000\">stride</span>=<span style=\"font-weight: bold\">(</span><span style=\"color: #008080; text-decoration-color: #008080; font-weight: bold\">2</span>,<span style=\"font-weight: bold\">)</span>, <span style=\"color: #808000; text-decoration-color: #808000\">bias</span>=<span style=\"color: #ff0000; text-decoration-color: #ff0000; font-style: italic\">False</span><span style=\"font-weight: bold\">)</span>               <span style=\"color: #7f7f7f; text-decoration-color: #7f7f7f\">              </span>\n",
       "<span style=\"color: #7fbfbf; text-decoration-color: #7fbfbf\">           </span>      <span style=\"font-weight: bold\">)</span>                                                                                   <span style=\"color: #7f7f7f; text-decoration-color: #7f7f7f\">              </span>\n",
       "<span style=\"color: #7fbfbf; text-decoration-color: #7fbfbf\">           </span>      <span style=\"font-weight: bold\">(</span><span style=\"color: #008080; text-decoration-color: #008080; font-weight: bold\">5</span>-<span style=\"color: #008080; text-decoration-color: #008080; font-weight: bold\">6</span><span style=\"font-weight: bold\">)</span>: <span style=\"color: #008080; text-decoration-color: #008080; font-weight: bold\">2</span> x <span style=\"color: #800080; text-decoration-color: #800080; font-weight: bold\">ConvLayerBlock</span><span style=\"font-weight: bold\">(</span>                                                          <span style=\"color: #7f7f7f; text-decoration-color: #7f7f7f\">              </span>\n",
       "<span style=\"color: #7fbfbf; text-decoration-color: #7fbfbf\">           </span>        <span style=\"font-weight: bold\">(</span>conv<span style=\"font-weight: bold\">)</span>: <span style=\"color: #800080; text-decoration-color: #800080; font-weight: bold\">Conv1d</span><span style=\"font-weight: bold\">(</span><span style=\"color: #008080; text-decoration-color: #008080; font-weight: bold\">512</span>, <span style=\"color: #008080; text-decoration-color: #008080; font-weight: bold\">512</span>, <span style=\"color: #808000; text-decoration-color: #808000\">kernel_size</span>=<span style=\"font-weight: bold\">(</span><span style=\"color: #008080; text-decoration-color: #008080; font-weight: bold\">2</span>,<span style=\"font-weight: bold\">)</span>, <span style=\"color: #808000; text-decoration-color: #808000\">stride</span>=<span style=\"font-weight: bold\">(</span><span style=\"color: #008080; text-decoration-color: #008080; font-weight: bold\">2</span>,<span style=\"font-weight: bold\">)</span>, <span style=\"color: #808000; text-decoration-color: #808000\">bias</span>=<span style=\"color: #ff0000; text-decoration-color: #ff0000; font-style: italic\">False</span><span style=\"font-weight: bold\">)</span>               <span style=\"color: #7f7f7f; text-decoration-color: #7f7f7f\">              </span>\n",
       "<span style=\"color: #7fbfbf; text-decoration-color: #7fbfbf\">           </span>      <span style=\"font-weight: bold\">)</span>                                                                                   <span style=\"color: #7f7f7f; text-decoration-color: #7f7f7f\">              </span>\n",
       "<span style=\"color: #7fbfbf; text-decoration-color: #7fbfbf\">           </span>    <span style=\"font-weight: bold\">)</span>                                                                                     <span style=\"color: #7f7f7f; text-decoration-color: #7f7f7f\">              </span>\n",
       "<span style=\"color: #7fbfbf; text-decoration-color: #7fbfbf\">           </span>  <span style=\"font-weight: bold\">)</span>                                                                                       <span style=\"color: #7f7f7f; text-decoration-color: #7f7f7f\">              </span>\n",
       "<span style=\"color: #7fbfbf; text-decoration-color: #7fbfbf\">           </span>  <span style=\"font-weight: bold\">(</span>encoder<span style=\"font-weight: bold\">)</span>: <span style=\"color: #800080; text-decoration-color: #800080; font-weight: bold\">Encoder</span><span style=\"font-weight: bold\">(</span>                                                                     <span style=\"color: #7f7f7f; text-decoration-color: #7f7f7f\">              </span>\n",
       "<span style=\"color: #7fbfbf; text-decoration-color: #7fbfbf\">           </span>    <span style=\"font-weight: bold\">(</span>feature_projection<span style=\"font-weight: bold\">)</span>: <span style=\"color: #800080; text-decoration-color: #800080; font-weight: bold\">FeatureProjection</span><span style=\"font-weight: bold\">(</span>                                              <span style=\"color: #7f7f7f; text-decoration-color: #7f7f7f\">              </span>\n",
       "<span style=\"color: #7fbfbf; text-decoration-color: #7fbfbf\">           </span>      <span style=\"font-weight: bold\">(</span>layer_norm<span style=\"font-weight: bold\">)</span>: <span style=\"color: #800080; text-decoration-color: #800080; font-weight: bold\">LayerNorm</span><span style=\"font-weight: bold\">((</span><span style=\"color: #008080; text-decoration-color: #008080; font-weight: bold\">512</span>,<span style=\"font-weight: bold\">)</span>, <span style=\"color: #808000; text-decoration-color: #808000\">eps</span>=<span style=\"color: #008080; text-decoration-color: #008080; font-weight: bold\">1e-05</span>, <span style=\"color: #808000; text-decoration-color: #808000\">elementwise_affine</span>=<span style=\"color: #00ff00; text-decoration-color: #00ff00; font-style: italic\">True</span><span style=\"font-weight: bold\">)</span>                 <span style=\"color: #7f7f7f; text-decoration-color: #7f7f7f\">              </span>\n",
       "<span style=\"color: #7fbfbf; text-decoration-color: #7fbfbf\">           </span>      <span style=\"font-weight: bold\">(</span>projection<span style=\"font-weight: bold\">)</span>: <span style=\"color: #800080; text-decoration-color: #800080; font-weight: bold\">Linear</span><span style=\"font-weight: bold\">(</span><span style=\"color: #808000; text-decoration-color: #808000\">in_features</span>=<span style=\"color: #008080; text-decoration-color: #008080; font-weight: bold\">512</span>, <span style=\"color: #808000; text-decoration-color: #808000\">out_features</span>=<span style=\"color: #008080; text-decoration-color: #008080; font-weight: bold\">768</span>, <span style=\"color: #808000; text-decoration-color: #808000\">bias</span>=<span style=\"color: #00ff00; text-decoration-color: #00ff00; font-style: italic\">True</span><span style=\"font-weight: bold\">)</span>                  <span style=\"color: #7f7f7f; text-decoration-color: #7f7f7f\">              </span>\n",
       "<span style=\"color: #7fbfbf; text-decoration-color: #7fbfbf\">           </span>      <span style=\"font-weight: bold\">(</span>dropout<span style=\"font-weight: bold\">)</span>: <span style=\"color: #800080; text-decoration-color: #800080; font-weight: bold\">Dropout</span><span style=\"font-weight: bold\">(</span><span style=\"color: #808000; text-decoration-color: #808000\">p</span>=<span style=\"color: #008080; text-decoration-color: #008080; font-weight: bold\">0.1</span>, <span style=\"color: #808000; text-decoration-color: #808000\">inplace</span>=<span style=\"color: #ff0000; text-decoration-color: #ff0000; font-style: italic\">False</span><span style=\"font-weight: bold\">)</span>                                            <span style=\"color: #7f7f7f; text-decoration-color: #7f7f7f\">              </span>\n",
       "<span style=\"color: #7fbfbf; text-decoration-color: #7fbfbf\">           </span>    <span style=\"font-weight: bold\">)</span>                                                                                     <span style=\"color: #7f7f7f; text-decoration-color: #7f7f7f\">              </span>\n",
       "<span style=\"color: #7fbfbf; text-decoration-color: #7fbfbf\">           </span>    <span style=\"font-weight: bold\">(</span>transformer<span style=\"font-weight: bold\">)</span>: <span style=\"color: #800080; text-decoration-color: #800080; font-weight: bold\">Transformer</span><span style=\"font-weight: bold\">(</span>                                                           <span style=\"color: #7f7f7f; text-decoration-color: #7f7f7f\">              </span>\n",
       "<span style=\"color: #7fbfbf; text-decoration-color: #7fbfbf\">           </span>      <span style=\"font-weight: bold\">(</span>pos_conv_embed<span style=\"font-weight: bold\">)</span>: <span style=\"color: #800080; text-decoration-color: #800080; font-weight: bold\">ConvolutionalPositionalEmbedding</span><span style=\"font-weight: bold\">(</span>                                 <span style=\"color: #7f7f7f; text-decoration-color: #7f7f7f\">              </span>\n",
       "<span style=\"color: #7fbfbf; text-decoration-color: #7fbfbf\">           </span>        <span style=\"font-weight: bold\">(</span>conv<span style=\"font-weight: bold\">)</span>: <span style=\"color: #800080; text-decoration-color: #800080; font-weight: bold\">Conv1d</span><span style=\"font-weight: bold\">(</span><span style=\"color: #008080; text-decoration-color: #008080; font-weight: bold\">768</span>, <span style=\"color: #008080; text-decoration-color: #008080; font-weight: bold\">768</span>, <span style=\"color: #808000; text-decoration-color: #808000\">kernel_size</span>=<span style=\"font-weight: bold\">(</span><span style=\"color: #008080; text-decoration-color: #008080; font-weight: bold\">128</span>,<span style=\"font-weight: bold\">)</span>, <span style=\"color: #808000; text-decoration-color: #808000\">stride</span>=<span style=\"font-weight: bold\">(</span><span style=\"color: #008080; text-decoration-color: #008080; font-weight: bold\">1</span>,<span style=\"font-weight: bold\">)</span>, <span style=\"color: #808000; text-decoration-color: #808000\">padding</span>=<span style=\"font-weight: bold\">(</span><span style=\"color: #008080; text-decoration-color: #008080; font-weight: bold\">64</span>,<span style=\"font-weight: bold\">)</span>,          <span style=\"color: #7f7f7f; text-decoration-color: #7f7f7f\">              </span>\n",
       "<span style=\"color: #7fbfbf; text-decoration-color: #7fbfbf\">           </span><span style=\"color: #808000; text-decoration-color: #808000\">groups</span>=<span style=\"color: #008080; text-decoration-color: #008080; font-weight: bold\">16</span><span style=\"font-weight: bold\">)</span>                                                                                <span style=\"color: #7f7f7f; text-decoration-color: #7f7f7f\">              </span>\n",
       "<span style=\"color: #7fbfbf; text-decoration-color: #7fbfbf\">           </span>      <span style=\"font-weight: bold\">)</span>                                                                                   <span style=\"color: #7f7f7f; text-decoration-color: #7f7f7f\">              </span>\n",
       "<span style=\"color: #7fbfbf; text-decoration-color: #7fbfbf\">           </span>      <span style=\"font-weight: bold\">(</span>layer_norm<span style=\"font-weight: bold\">)</span>: <span style=\"color: #800080; text-decoration-color: #800080; font-weight: bold\">LayerNorm</span><span style=\"font-weight: bold\">((</span><span style=\"color: #008080; text-decoration-color: #008080; font-weight: bold\">768</span>,<span style=\"font-weight: bold\">)</span>, <span style=\"color: #808000; text-decoration-color: #808000\">eps</span>=<span style=\"color: #008080; text-decoration-color: #008080; font-weight: bold\">1e-05</span>, <span style=\"color: #808000; text-decoration-color: #808000\">elementwise_affine</span>=<span style=\"color: #00ff00; text-decoration-color: #00ff00; font-style: italic\">True</span><span style=\"font-weight: bold\">)</span>                 <span style=\"color: #7f7f7f; text-decoration-color: #7f7f7f\">              </span>\n",
       "<span style=\"color: #7fbfbf; text-decoration-color: #7fbfbf\">           </span>      <span style=\"font-weight: bold\">(</span>dropout<span style=\"font-weight: bold\">)</span>: <span style=\"color: #800080; text-decoration-color: #800080; font-weight: bold\">Dropout</span><span style=\"font-weight: bold\">(</span><span style=\"color: #808000; text-decoration-color: #808000\">p</span>=<span style=\"color: #008080; text-decoration-color: #008080; font-weight: bold\">0.1</span>, <span style=\"color: #808000; text-decoration-color: #808000\">inplace</span>=<span style=\"color: #ff0000; text-decoration-color: #ff0000; font-style: italic\">False</span><span style=\"font-weight: bold\">)</span>                                            <span style=\"color: #7f7f7f; text-decoration-color: #7f7f7f\">              </span>\n",
       "<span style=\"color: #7fbfbf; text-decoration-color: #7fbfbf\">           </span>      <span style=\"font-weight: bold\">(</span>layers<span style=\"font-weight: bold\">)</span>: <span style=\"color: #800080; text-decoration-color: #800080; font-weight: bold\">ModuleList</span><span style=\"font-weight: bold\">(</span>                                                               <span style=\"color: #7f7f7f; text-decoration-color: #7f7f7f\">              </span>\n",
       "<span style=\"color: #7fbfbf; text-decoration-color: #7fbfbf\">           </span>        <span style=\"font-weight: bold\">(</span><span style=\"color: #008080; text-decoration-color: #008080; font-weight: bold\">0</span>-<span style=\"color: #008080; text-decoration-color: #008080; font-weight: bold\">11</span><span style=\"font-weight: bold\">)</span>: <span style=\"color: #008080; text-decoration-color: #008080; font-weight: bold\">12</span> x <span style=\"color: #800080; text-decoration-color: #800080; font-weight: bold\">EncoderLayer</span><span style=\"font-weight: bold\">(</span>                                                        <span style=\"color: #7f7f7f; text-decoration-color: #7f7f7f\">              </span>\n",
       "<span style=\"color: #7fbfbf; text-decoration-color: #7fbfbf\">           </span>          <span style=\"font-weight: bold\">(</span>attention<span style=\"font-weight: bold\">)</span>: <span style=\"color: #800080; text-decoration-color: #800080; font-weight: bold\">SelfAttention</span><span style=\"font-weight: bold\">(</span>                                                     <span style=\"color: #7f7f7f; text-decoration-color: #7f7f7f\">              </span>\n",
       "<span style=\"color: #7fbfbf; text-decoration-color: #7fbfbf\">           </span>            <span style=\"font-weight: bold\">(</span>dropout<span style=\"font-weight: bold\">)</span>: <span style=\"color: #800080; text-decoration-color: #800080; font-weight: bold\">Dropout</span><span style=\"font-weight: bold\">(</span><span style=\"color: #808000; text-decoration-color: #808000\">p</span>=<span style=\"color: #008080; text-decoration-color: #008080; font-weight: bold\">0.1</span>, <span style=\"color: #808000; text-decoration-color: #808000\">inplace</span>=<span style=\"color: #ff0000; text-decoration-color: #ff0000; font-style: italic\">False</span><span style=\"font-weight: bold\">)</span>                                      <span style=\"color: #7f7f7f; text-decoration-color: #7f7f7f\">              </span>\n",
       "<span style=\"color: #7fbfbf; text-decoration-color: #7fbfbf\">           </span>            <span style=\"font-weight: bold\">(</span>k_proj<span style=\"font-weight: bold\">)</span>: <span style=\"color: #800080; text-decoration-color: #800080; font-weight: bold\">Linear</span><span style=\"font-weight: bold\">(</span><span style=\"color: #808000; text-decoration-color: #808000\">in_features</span>=<span style=\"color: #008080; text-decoration-color: #008080; font-weight: bold\">768</span>, <span style=\"color: #808000; text-decoration-color: #808000\">out_features</span>=<span style=\"color: #008080; text-decoration-color: #008080; font-weight: bold\">768</span>, <span style=\"color: #808000; text-decoration-color: #808000\">bias</span>=<span style=\"color: #00ff00; text-decoration-color: #00ff00; font-style: italic\">True</span><span style=\"font-weight: bold\">)</span>                <span style=\"color: #7f7f7f; text-decoration-color: #7f7f7f\">              </span>\n",
       "<span style=\"color: #7fbfbf; text-decoration-color: #7fbfbf\">           </span>            <span style=\"font-weight: bold\">(</span>v_proj<span style=\"font-weight: bold\">)</span>: <span style=\"color: #800080; text-decoration-color: #800080; font-weight: bold\">Linear</span><span style=\"font-weight: bold\">(</span><span style=\"color: #808000; text-decoration-color: #808000\">in_features</span>=<span style=\"color: #008080; text-decoration-color: #008080; font-weight: bold\">768</span>, <span style=\"color: #808000; text-decoration-color: #808000\">out_features</span>=<span style=\"color: #008080; text-decoration-color: #008080; font-weight: bold\">768</span>, <span style=\"color: #808000; text-decoration-color: #808000\">bias</span>=<span style=\"color: #00ff00; text-decoration-color: #00ff00; font-style: italic\">True</span><span style=\"font-weight: bold\">)</span>                <span style=\"color: #7f7f7f; text-decoration-color: #7f7f7f\">              </span>\n",
       "<span style=\"color: #7fbfbf; text-decoration-color: #7fbfbf\">           </span>            <span style=\"font-weight: bold\">(</span>q_proj<span style=\"font-weight: bold\">)</span>: <span style=\"color: #800080; text-decoration-color: #800080; font-weight: bold\">Linear</span><span style=\"font-weight: bold\">(</span><span style=\"color: #808000; text-decoration-color: #808000\">in_features</span>=<span style=\"color: #008080; text-decoration-color: #008080; font-weight: bold\">768</span>, <span style=\"color: #808000; text-decoration-color: #808000\">out_features</span>=<span style=\"color: #008080; text-decoration-color: #008080; font-weight: bold\">768</span>, <span style=\"color: #808000; text-decoration-color: #808000\">bias</span>=<span style=\"color: #00ff00; text-decoration-color: #00ff00; font-style: italic\">True</span><span style=\"font-weight: bold\">)</span>                <span style=\"color: #7f7f7f; text-decoration-color: #7f7f7f\">              </span>\n",
       "<span style=\"color: #7fbfbf; text-decoration-color: #7fbfbf\">           </span>            <span style=\"font-weight: bold\">(</span>out_proj<span style=\"font-weight: bold\">)</span>: <span style=\"color: #800080; text-decoration-color: #800080; font-weight: bold\">Linear</span><span style=\"font-weight: bold\">(</span><span style=\"color: #808000; text-decoration-color: #808000\">in_features</span>=<span style=\"color: #008080; text-decoration-color: #008080; font-weight: bold\">768</span>, <span style=\"color: #808000; text-decoration-color: #808000\">out_features</span>=<span style=\"color: #008080; text-decoration-color: #008080; font-weight: bold\">768</span>, <span style=\"color: #808000; text-decoration-color: #808000\">bias</span>=<span style=\"color: #00ff00; text-decoration-color: #00ff00; font-style: italic\">True</span><span style=\"font-weight: bold\">)</span>              <span style=\"color: #7f7f7f; text-decoration-color: #7f7f7f\">              </span>\n",
       "<span style=\"color: #7fbfbf; text-decoration-color: #7fbfbf\">           </span>          <span style=\"font-weight: bold\">)</span>                                                                               <span style=\"color: #7f7f7f; text-decoration-color: #7f7f7f\">              </span>\n",
       "<span style=\"color: #7fbfbf; text-decoration-color: #7fbfbf\">           </span>          <span style=\"font-weight: bold\">(</span>dropout<span style=\"font-weight: bold\">)</span>: <span style=\"color: #800080; text-decoration-color: #800080; font-weight: bold\">Dropout</span><span style=\"font-weight: bold\">(</span><span style=\"color: #808000; text-decoration-color: #808000\">p</span>=<span style=\"color: #008080; text-decoration-color: #008080; font-weight: bold\">0.1</span>, <span style=\"color: #808000; text-decoration-color: #808000\">inplace</span>=<span style=\"color: #ff0000; text-decoration-color: #ff0000; font-style: italic\">False</span><span style=\"font-weight: bold\">)</span>                                        <span style=\"color: #7f7f7f; text-decoration-color: #7f7f7f\">              </span>\n",
       "<span style=\"color: #7fbfbf; text-decoration-color: #7fbfbf\">           </span>          <span style=\"font-weight: bold\">(</span>layer_norm<span style=\"font-weight: bold\">)</span>: <span style=\"color: #800080; text-decoration-color: #800080; font-weight: bold\">LayerNorm</span><span style=\"font-weight: bold\">((</span><span style=\"color: #008080; text-decoration-color: #008080; font-weight: bold\">768</span>,<span style=\"font-weight: bold\">)</span>, <span style=\"color: #808000; text-decoration-color: #808000\">eps</span>=<span style=\"color: #008080; text-decoration-color: #008080; font-weight: bold\">1e-05</span>, <span style=\"color: #808000; text-decoration-color: #808000\">elementwise_affine</span>=<span style=\"color: #00ff00; text-decoration-color: #00ff00; font-style: italic\">True</span><span style=\"font-weight: bold\">)</span>             <span style=\"color: #7f7f7f; text-decoration-color: #7f7f7f\">              </span>\n",
       "<span style=\"color: #7fbfbf; text-decoration-color: #7fbfbf\">           </span>          <span style=\"font-weight: bold\">(</span>feed_forward<span style=\"font-weight: bold\">)</span>: <span style=\"color: #800080; text-decoration-color: #800080; font-weight: bold\">FeedForward</span><span style=\"font-weight: bold\">(</span>                                                    <span style=\"color: #7f7f7f; text-decoration-color: #7f7f7f\">              </span>\n",
       "<span style=\"color: #7fbfbf; text-decoration-color: #7fbfbf\">           </span>            <span style=\"font-weight: bold\">(</span>intermediate_dense<span style=\"font-weight: bold\">)</span>: <span style=\"color: #800080; text-decoration-color: #800080; font-weight: bold\">Linear</span><span style=\"font-weight: bold\">(</span><span style=\"color: #808000; text-decoration-color: #808000\">in_features</span>=<span style=\"color: #008080; text-decoration-color: #008080; font-weight: bold\">768</span>, <span style=\"color: #808000; text-decoration-color: #808000\">out_features</span>=<span style=\"color: #008080; text-decoration-color: #008080; font-weight: bold\">3072</span>, <span style=\"color: #808000; text-decoration-color: #808000\">bias</span>=<span style=\"color: #00ff00; text-decoration-color: #00ff00; font-style: italic\">True</span><span style=\"font-weight: bold\">)</span>   <span style=\"color: #7f7f7f; text-decoration-color: #7f7f7f\">              </span>\n",
       "<span style=\"color: #7fbfbf; text-decoration-color: #7fbfbf\">           </span>            <span style=\"font-weight: bold\">(</span>intermediate_dropout<span style=\"font-weight: bold\">)</span>: <span style=\"color: #800080; text-decoration-color: #800080; font-weight: bold\">Dropout</span><span style=\"font-weight: bold\">(</span><span style=\"color: #808000; text-decoration-color: #808000\">p</span>=<span style=\"color: #008080; text-decoration-color: #008080; font-weight: bold\">0.0</span>, <span style=\"color: #808000; text-decoration-color: #808000\">inplace</span>=<span style=\"color: #ff0000; text-decoration-color: #ff0000; font-style: italic\">False</span><span style=\"font-weight: bold\">)</span>                         <span style=\"color: #7f7f7f; text-decoration-color: #7f7f7f\">              </span>\n",
       "<span style=\"color: #7fbfbf; text-decoration-color: #7fbfbf\">           </span>            <span style=\"font-weight: bold\">(</span>output_dense<span style=\"font-weight: bold\">)</span>: <span style=\"color: #800080; text-decoration-color: #800080; font-weight: bold\">Linear</span><span style=\"font-weight: bold\">(</span><span style=\"color: #808000; text-decoration-color: #808000\">in_features</span>=<span style=\"color: #008080; text-decoration-color: #008080; font-weight: bold\">3072</span>, <span style=\"color: #808000; text-decoration-color: #808000\">out_features</span>=<span style=\"color: #008080; text-decoration-color: #008080; font-weight: bold\">768</span>, <span style=\"color: #808000; text-decoration-color: #808000\">bias</span>=<span style=\"color: #00ff00; text-decoration-color: #00ff00; font-style: italic\">True</span><span style=\"font-weight: bold\">)</span>         <span style=\"color: #7f7f7f; text-decoration-color: #7f7f7f\">              </span>\n",
       "<span style=\"color: #7fbfbf; text-decoration-color: #7fbfbf\">           </span>            <span style=\"font-weight: bold\">(</span>output_dropout<span style=\"font-weight: bold\">)</span>: <span style=\"color: #800080; text-decoration-color: #800080; font-weight: bold\">Dropout</span><span style=\"font-weight: bold\">(</span><span style=\"color: #808000; text-decoration-color: #808000\">p</span>=<span style=\"color: #008080; text-decoration-color: #008080; font-weight: bold\">0.1</span>, <span style=\"color: #808000; text-decoration-color: #808000\">inplace</span>=<span style=\"color: #ff0000; text-decoration-color: #ff0000; font-style: italic\">False</span><span style=\"font-weight: bold\">)</span>                               <span style=\"color: #7f7f7f; text-decoration-color: #7f7f7f\">              </span>\n",
       "<span style=\"color: #7fbfbf; text-decoration-color: #7fbfbf\">           </span>          <span style=\"font-weight: bold\">)</span>                                                                               <span style=\"color: #7f7f7f; text-decoration-color: #7f7f7f\">              </span>\n",
       "<span style=\"color: #7fbfbf; text-decoration-color: #7fbfbf\">           </span>          <span style=\"font-weight: bold\">(</span>final_layer_norm<span style=\"font-weight: bold\">)</span>: <span style=\"color: #800080; text-decoration-color: #800080; font-weight: bold\">LayerNorm</span><span style=\"font-weight: bold\">((</span><span style=\"color: #008080; text-decoration-color: #008080; font-weight: bold\">768</span>,<span style=\"font-weight: bold\">)</span>, <span style=\"color: #808000; text-decoration-color: #808000\">eps</span>=<span style=\"color: #008080; text-decoration-color: #008080; font-weight: bold\">1e-05</span>, <span style=\"color: #808000; text-decoration-color: #808000\">elementwise_affine</span>=<span style=\"color: #00ff00; text-decoration-color: #00ff00; font-style: italic\">True</span><span style=\"font-weight: bold\">)</span>       <span style=\"color: #7f7f7f; text-decoration-color: #7f7f7f\">              </span>\n",
       "<span style=\"color: #7fbfbf; text-decoration-color: #7fbfbf\">           </span>        <span style=\"font-weight: bold\">)</span>                                                                                 <span style=\"color: #7f7f7f; text-decoration-color: #7f7f7f\">              </span>\n",
       "<span style=\"color: #7fbfbf; text-decoration-color: #7fbfbf\">           </span>      <span style=\"font-weight: bold\">)</span>                                                                                   <span style=\"color: #7f7f7f; text-decoration-color: #7f7f7f\">              </span>\n",
       "<span style=\"color: #7fbfbf; text-decoration-color: #7fbfbf\">           </span>    <span style=\"font-weight: bold\">)</span>                                                                                     <span style=\"color: #7f7f7f; text-decoration-color: #7f7f7f\">              </span>\n",
       "<span style=\"color: #7fbfbf; text-decoration-color: #7fbfbf\">           </span>  <span style=\"font-weight: bold\">)</span>                                                                                       <span style=\"color: #7f7f7f; text-decoration-color: #7f7f7f\">              </span>\n",
       "<span style=\"color: #7fbfbf; text-decoration-color: #7fbfbf\">           </span>  <span style=\"font-weight: bold\">(</span>aux<span style=\"font-weight: bold\">)</span>: <span style=\"color: #800080; text-decoration-color: #800080; font-weight: bold\">Linear</span><span style=\"font-weight: bold\">(</span><span style=\"color: #808000; text-decoration-color: #808000\">in_features</span>=<span style=\"color: #008080; text-decoration-color: #008080; font-weight: bold\">768</span>, <span style=\"color: #808000; text-decoration-color: #808000\">out_features</span>=<span style=\"color: #008080; text-decoration-color: #008080; font-weight: bold\">29</span>, <span style=\"color: #808000; text-decoration-color: #808000\">bias</span>=<span style=\"color: #00ff00; text-decoration-color: #00ff00; font-style: italic\">True</span><span style=\"font-weight: bold\">)</span>                              <span style=\"color: #7f7f7f; text-decoration-color: #7f7f7f\">              </span>\n",
       "<span style=\"color: #7fbfbf; text-decoration-color: #7fbfbf\">           </span><span style=\"font-weight: bold\">)</span>                                                                                         <span style=\"color: #7f7f7f; text-decoration-color: #7f7f7f\">              </span>\n",
       "</pre>\n"
      ],
      "text/plain": [
       "\u001b[2;36m[15:51:52]\u001b[0m\u001b[2;36m \u001b[0m\u001b[1;35mWav2Vec2Model\u001b[0m\u001b[1m(\u001b[0m                                                                            \u001b]8;id=917896;file:///tmp/ipykernel_2604346/977660610.py\u001b\\\u001b[2m977660610.py\u001b[0m\u001b]8;;\u001b\\\u001b[2m:\u001b[0m\u001b]8;id=288307;file:///tmp/ipykernel_2604346/977660610.py#1\u001b\\\u001b[2m1\u001b[0m\u001b]8;;\u001b\\\n",
       "\u001b[2;36m           \u001b[0m  \u001b[1m(\u001b[0mfeature_extractor\u001b[1m)\u001b[0m: \u001b[1;35mFeatureExtractor\u001b[0m\u001b[1m(\u001b[0m                                                  \u001b[2m              \u001b[0m\n",
       "\u001b[2;36m           \u001b[0m    \u001b[1m(\u001b[0mconv_layers\u001b[1m)\u001b[0m: \u001b[1;35mModuleList\u001b[0m\u001b[1m(\u001b[0m                                                            \u001b[2m              \u001b[0m\n",
       "\u001b[2;36m           \u001b[0m      \u001b[1m(\u001b[0m\u001b[1;36m0\u001b[0m\u001b[1m)\u001b[0m: \u001b[1;35mConvLayerBlock\u001b[0m\u001b[1m(\u001b[0m                                                                \u001b[2m              \u001b[0m\n",
       "\u001b[2;36m           \u001b[0m        \u001b[1m(\u001b[0mlayer_norm\u001b[1m)\u001b[0m: \u001b[1;35mGroupNorm\u001b[0m\u001b[1m(\u001b[0m\u001b[1;36m512\u001b[0m, \u001b[1;36m512\u001b[0m, \u001b[33meps\u001b[0m=\u001b[1;36m1e\u001b[0m\u001b[1;36m-05\u001b[0m, \u001b[33maffine\u001b[0m=\u001b[3;92mTrue\u001b[0m\u001b[1m)\u001b[0m                         \u001b[2m              \u001b[0m\n",
       "\u001b[2;36m           \u001b[0m        \u001b[1m(\u001b[0mconv\u001b[1m)\u001b[0m: \u001b[1;35mConv1d\u001b[0m\u001b[1m(\u001b[0m\u001b[1;36m1\u001b[0m, \u001b[1;36m512\u001b[0m, \u001b[33mkernel_size\u001b[0m=\u001b[1m(\u001b[0m\u001b[1;36m10\u001b[0m,\u001b[1m)\u001b[0m, \u001b[33mstride\u001b[0m=\u001b[1m(\u001b[0m\u001b[1;36m5\u001b[0m,\u001b[1m)\u001b[0m, \u001b[33mbias\u001b[0m=\u001b[3;91mFalse\u001b[0m\u001b[1m)\u001b[0m                \u001b[2m              \u001b[0m\n",
       "\u001b[2;36m           \u001b[0m      \u001b[1m)\u001b[0m                                                                                   \u001b[2m              \u001b[0m\n",
       "\u001b[2;36m           \u001b[0m      \u001b[1m(\u001b[0m\u001b[1;36m1\u001b[0m-\u001b[1;36m4\u001b[0m\u001b[1m)\u001b[0m: \u001b[1;36m4\u001b[0m x \u001b[1;35mConvLayerBlock\u001b[0m\u001b[1m(\u001b[0m                                                          \u001b[2m              \u001b[0m\n",
       "\u001b[2;36m           \u001b[0m        \u001b[1m(\u001b[0mconv\u001b[1m)\u001b[0m: \u001b[1;35mConv1d\u001b[0m\u001b[1m(\u001b[0m\u001b[1;36m512\u001b[0m, \u001b[1;36m512\u001b[0m, \u001b[33mkernel_size\u001b[0m=\u001b[1m(\u001b[0m\u001b[1;36m3\u001b[0m,\u001b[1m)\u001b[0m, \u001b[33mstride\u001b[0m=\u001b[1m(\u001b[0m\u001b[1;36m2\u001b[0m,\u001b[1m)\u001b[0m, \u001b[33mbias\u001b[0m=\u001b[3;91mFalse\u001b[0m\u001b[1m)\u001b[0m               \u001b[2m              \u001b[0m\n",
       "\u001b[2;36m           \u001b[0m      \u001b[1m)\u001b[0m                                                                                   \u001b[2m              \u001b[0m\n",
       "\u001b[2;36m           \u001b[0m      \u001b[1m(\u001b[0m\u001b[1;36m5\u001b[0m-\u001b[1;36m6\u001b[0m\u001b[1m)\u001b[0m: \u001b[1;36m2\u001b[0m x \u001b[1;35mConvLayerBlock\u001b[0m\u001b[1m(\u001b[0m                                                          \u001b[2m              \u001b[0m\n",
       "\u001b[2;36m           \u001b[0m        \u001b[1m(\u001b[0mconv\u001b[1m)\u001b[0m: \u001b[1;35mConv1d\u001b[0m\u001b[1m(\u001b[0m\u001b[1;36m512\u001b[0m, \u001b[1;36m512\u001b[0m, \u001b[33mkernel_size\u001b[0m=\u001b[1m(\u001b[0m\u001b[1;36m2\u001b[0m,\u001b[1m)\u001b[0m, \u001b[33mstride\u001b[0m=\u001b[1m(\u001b[0m\u001b[1;36m2\u001b[0m,\u001b[1m)\u001b[0m, \u001b[33mbias\u001b[0m=\u001b[3;91mFalse\u001b[0m\u001b[1m)\u001b[0m               \u001b[2m              \u001b[0m\n",
       "\u001b[2;36m           \u001b[0m      \u001b[1m)\u001b[0m                                                                                   \u001b[2m              \u001b[0m\n",
       "\u001b[2;36m           \u001b[0m    \u001b[1m)\u001b[0m                                                                                     \u001b[2m              \u001b[0m\n",
       "\u001b[2;36m           \u001b[0m  \u001b[1m)\u001b[0m                                                                                       \u001b[2m              \u001b[0m\n",
       "\u001b[2;36m           \u001b[0m  \u001b[1m(\u001b[0mencoder\u001b[1m)\u001b[0m: \u001b[1;35mEncoder\u001b[0m\u001b[1m(\u001b[0m                                                                     \u001b[2m              \u001b[0m\n",
       "\u001b[2;36m           \u001b[0m    \u001b[1m(\u001b[0mfeature_projection\u001b[1m)\u001b[0m: \u001b[1;35mFeatureProjection\u001b[0m\u001b[1m(\u001b[0m                                              \u001b[2m              \u001b[0m\n",
       "\u001b[2;36m           \u001b[0m      \u001b[1m(\u001b[0mlayer_norm\u001b[1m)\u001b[0m: \u001b[1;35mLayerNorm\u001b[0m\u001b[1m(\u001b[0m\u001b[1m(\u001b[0m\u001b[1;36m512\u001b[0m,\u001b[1m)\u001b[0m, \u001b[33meps\u001b[0m=\u001b[1;36m1e\u001b[0m\u001b[1;36m-05\u001b[0m, \u001b[33melementwise_affine\u001b[0m=\u001b[3;92mTrue\u001b[0m\u001b[1m)\u001b[0m                 \u001b[2m              \u001b[0m\n",
       "\u001b[2;36m           \u001b[0m      \u001b[1m(\u001b[0mprojection\u001b[1m)\u001b[0m: \u001b[1;35mLinear\u001b[0m\u001b[1m(\u001b[0m\u001b[33min_features\u001b[0m=\u001b[1;36m512\u001b[0m, \u001b[33mout_features\u001b[0m=\u001b[1;36m768\u001b[0m, \u001b[33mbias\u001b[0m=\u001b[3;92mTrue\u001b[0m\u001b[1m)\u001b[0m                  \u001b[2m              \u001b[0m\n",
       "\u001b[2;36m           \u001b[0m      \u001b[1m(\u001b[0mdropout\u001b[1m)\u001b[0m: \u001b[1;35mDropout\u001b[0m\u001b[1m(\u001b[0m\u001b[33mp\u001b[0m=\u001b[1;36m0\u001b[0m\u001b[1;36m.1\u001b[0m, \u001b[33minplace\u001b[0m=\u001b[3;91mFalse\u001b[0m\u001b[1m)\u001b[0m                                            \u001b[2m              \u001b[0m\n",
       "\u001b[2;36m           \u001b[0m    \u001b[1m)\u001b[0m                                                                                     \u001b[2m              \u001b[0m\n",
       "\u001b[2;36m           \u001b[0m    \u001b[1m(\u001b[0mtransformer\u001b[1m)\u001b[0m: \u001b[1;35mTransformer\u001b[0m\u001b[1m(\u001b[0m                                                           \u001b[2m              \u001b[0m\n",
       "\u001b[2;36m           \u001b[0m      \u001b[1m(\u001b[0mpos_conv_embed\u001b[1m)\u001b[0m: \u001b[1;35mConvolutionalPositionalEmbedding\u001b[0m\u001b[1m(\u001b[0m                                 \u001b[2m              \u001b[0m\n",
       "\u001b[2;36m           \u001b[0m        \u001b[1m(\u001b[0mconv\u001b[1m)\u001b[0m: \u001b[1;35mConv1d\u001b[0m\u001b[1m(\u001b[0m\u001b[1;36m768\u001b[0m, \u001b[1;36m768\u001b[0m, \u001b[33mkernel_size\u001b[0m=\u001b[1m(\u001b[0m\u001b[1;36m128\u001b[0m,\u001b[1m)\u001b[0m, \u001b[33mstride\u001b[0m=\u001b[1m(\u001b[0m\u001b[1;36m1\u001b[0m,\u001b[1m)\u001b[0m, \u001b[33mpadding\u001b[0m=\u001b[1m(\u001b[0m\u001b[1;36m64\u001b[0m,\u001b[1m)\u001b[0m,          \u001b[2m              \u001b[0m\n",
       "\u001b[2;36m           \u001b[0m\u001b[33mgroups\u001b[0m=\u001b[1;36m16\u001b[0m\u001b[1m)\u001b[0m                                                                                \u001b[2m              \u001b[0m\n",
       "\u001b[2;36m           \u001b[0m      \u001b[1m)\u001b[0m                                                                                   \u001b[2m              \u001b[0m\n",
       "\u001b[2;36m           \u001b[0m      \u001b[1m(\u001b[0mlayer_norm\u001b[1m)\u001b[0m: \u001b[1;35mLayerNorm\u001b[0m\u001b[1m(\u001b[0m\u001b[1m(\u001b[0m\u001b[1;36m768\u001b[0m,\u001b[1m)\u001b[0m, \u001b[33meps\u001b[0m=\u001b[1;36m1e\u001b[0m\u001b[1;36m-05\u001b[0m, \u001b[33melementwise_affine\u001b[0m=\u001b[3;92mTrue\u001b[0m\u001b[1m)\u001b[0m                 \u001b[2m              \u001b[0m\n",
       "\u001b[2;36m           \u001b[0m      \u001b[1m(\u001b[0mdropout\u001b[1m)\u001b[0m: \u001b[1;35mDropout\u001b[0m\u001b[1m(\u001b[0m\u001b[33mp\u001b[0m=\u001b[1;36m0\u001b[0m\u001b[1;36m.1\u001b[0m, \u001b[33minplace\u001b[0m=\u001b[3;91mFalse\u001b[0m\u001b[1m)\u001b[0m                                            \u001b[2m              \u001b[0m\n",
       "\u001b[2;36m           \u001b[0m      \u001b[1m(\u001b[0mlayers\u001b[1m)\u001b[0m: \u001b[1;35mModuleList\u001b[0m\u001b[1m(\u001b[0m                                                               \u001b[2m              \u001b[0m\n",
       "\u001b[2;36m           \u001b[0m        \u001b[1m(\u001b[0m\u001b[1;36m0\u001b[0m-\u001b[1;36m11\u001b[0m\u001b[1m)\u001b[0m: \u001b[1;36m12\u001b[0m x \u001b[1;35mEncoderLayer\u001b[0m\u001b[1m(\u001b[0m                                                        \u001b[2m              \u001b[0m\n",
       "\u001b[2;36m           \u001b[0m          \u001b[1m(\u001b[0mattention\u001b[1m)\u001b[0m: \u001b[1;35mSelfAttention\u001b[0m\u001b[1m(\u001b[0m                                                     \u001b[2m              \u001b[0m\n",
       "\u001b[2;36m           \u001b[0m            \u001b[1m(\u001b[0mdropout\u001b[1m)\u001b[0m: \u001b[1;35mDropout\u001b[0m\u001b[1m(\u001b[0m\u001b[33mp\u001b[0m=\u001b[1;36m0\u001b[0m\u001b[1;36m.1\u001b[0m, \u001b[33minplace\u001b[0m=\u001b[3;91mFalse\u001b[0m\u001b[1m)\u001b[0m                                      \u001b[2m              \u001b[0m\n",
       "\u001b[2;36m           \u001b[0m            \u001b[1m(\u001b[0mk_proj\u001b[1m)\u001b[0m: \u001b[1;35mLinear\u001b[0m\u001b[1m(\u001b[0m\u001b[33min_features\u001b[0m=\u001b[1;36m768\u001b[0m, \u001b[33mout_features\u001b[0m=\u001b[1;36m768\u001b[0m, \u001b[33mbias\u001b[0m=\u001b[3;92mTrue\u001b[0m\u001b[1m)\u001b[0m                \u001b[2m              \u001b[0m\n",
       "\u001b[2;36m           \u001b[0m            \u001b[1m(\u001b[0mv_proj\u001b[1m)\u001b[0m: \u001b[1;35mLinear\u001b[0m\u001b[1m(\u001b[0m\u001b[33min_features\u001b[0m=\u001b[1;36m768\u001b[0m, \u001b[33mout_features\u001b[0m=\u001b[1;36m768\u001b[0m, \u001b[33mbias\u001b[0m=\u001b[3;92mTrue\u001b[0m\u001b[1m)\u001b[0m                \u001b[2m              \u001b[0m\n",
       "\u001b[2;36m           \u001b[0m            \u001b[1m(\u001b[0mq_proj\u001b[1m)\u001b[0m: \u001b[1;35mLinear\u001b[0m\u001b[1m(\u001b[0m\u001b[33min_features\u001b[0m=\u001b[1;36m768\u001b[0m, \u001b[33mout_features\u001b[0m=\u001b[1;36m768\u001b[0m, \u001b[33mbias\u001b[0m=\u001b[3;92mTrue\u001b[0m\u001b[1m)\u001b[0m                \u001b[2m              \u001b[0m\n",
       "\u001b[2;36m           \u001b[0m            \u001b[1m(\u001b[0mout_proj\u001b[1m)\u001b[0m: \u001b[1;35mLinear\u001b[0m\u001b[1m(\u001b[0m\u001b[33min_features\u001b[0m=\u001b[1;36m768\u001b[0m, \u001b[33mout_features\u001b[0m=\u001b[1;36m768\u001b[0m, \u001b[33mbias\u001b[0m=\u001b[3;92mTrue\u001b[0m\u001b[1m)\u001b[0m              \u001b[2m              \u001b[0m\n",
       "\u001b[2;36m           \u001b[0m          \u001b[1m)\u001b[0m                                                                               \u001b[2m              \u001b[0m\n",
       "\u001b[2;36m           \u001b[0m          \u001b[1m(\u001b[0mdropout\u001b[1m)\u001b[0m: \u001b[1;35mDropout\u001b[0m\u001b[1m(\u001b[0m\u001b[33mp\u001b[0m=\u001b[1;36m0\u001b[0m\u001b[1;36m.1\u001b[0m, \u001b[33minplace\u001b[0m=\u001b[3;91mFalse\u001b[0m\u001b[1m)\u001b[0m                                        \u001b[2m              \u001b[0m\n",
       "\u001b[2;36m           \u001b[0m          \u001b[1m(\u001b[0mlayer_norm\u001b[1m)\u001b[0m: \u001b[1;35mLayerNorm\u001b[0m\u001b[1m(\u001b[0m\u001b[1m(\u001b[0m\u001b[1;36m768\u001b[0m,\u001b[1m)\u001b[0m, \u001b[33meps\u001b[0m=\u001b[1;36m1e\u001b[0m\u001b[1;36m-05\u001b[0m, \u001b[33melementwise_affine\u001b[0m=\u001b[3;92mTrue\u001b[0m\u001b[1m)\u001b[0m             \u001b[2m              \u001b[0m\n",
       "\u001b[2;36m           \u001b[0m          \u001b[1m(\u001b[0mfeed_forward\u001b[1m)\u001b[0m: \u001b[1;35mFeedForward\u001b[0m\u001b[1m(\u001b[0m                                                    \u001b[2m              \u001b[0m\n",
       "\u001b[2;36m           \u001b[0m            \u001b[1m(\u001b[0mintermediate_dense\u001b[1m)\u001b[0m: \u001b[1;35mLinear\u001b[0m\u001b[1m(\u001b[0m\u001b[33min_features\u001b[0m=\u001b[1;36m768\u001b[0m, \u001b[33mout_features\u001b[0m=\u001b[1;36m3072\u001b[0m, \u001b[33mbias\u001b[0m=\u001b[3;92mTrue\u001b[0m\u001b[1m)\u001b[0m   \u001b[2m              \u001b[0m\n",
       "\u001b[2;36m           \u001b[0m            \u001b[1m(\u001b[0mintermediate_dropout\u001b[1m)\u001b[0m: \u001b[1;35mDropout\u001b[0m\u001b[1m(\u001b[0m\u001b[33mp\u001b[0m=\u001b[1;36m0\u001b[0m\u001b[1;36m.0\u001b[0m, \u001b[33minplace\u001b[0m=\u001b[3;91mFalse\u001b[0m\u001b[1m)\u001b[0m                         \u001b[2m              \u001b[0m\n",
       "\u001b[2;36m           \u001b[0m            \u001b[1m(\u001b[0moutput_dense\u001b[1m)\u001b[0m: \u001b[1;35mLinear\u001b[0m\u001b[1m(\u001b[0m\u001b[33min_features\u001b[0m=\u001b[1;36m3072\u001b[0m, \u001b[33mout_features\u001b[0m=\u001b[1;36m768\u001b[0m, \u001b[33mbias\u001b[0m=\u001b[3;92mTrue\u001b[0m\u001b[1m)\u001b[0m         \u001b[2m              \u001b[0m\n",
       "\u001b[2;36m           \u001b[0m            \u001b[1m(\u001b[0moutput_dropout\u001b[1m)\u001b[0m: \u001b[1;35mDropout\u001b[0m\u001b[1m(\u001b[0m\u001b[33mp\u001b[0m=\u001b[1;36m0\u001b[0m\u001b[1;36m.1\u001b[0m, \u001b[33minplace\u001b[0m=\u001b[3;91mFalse\u001b[0m\u001b[1m)\u001b[0m                               \u001b[2m              \u001b[0m\n",
       "\u001b[2;36m           \u001b[0m          \u001b[1m)\u001b[0m                                                                               \u001b[2m              \u001b[0m\n",
       "\u001b[2;36m           \u001b[0m          \u001b[1m(\u001b[0mfinal_layer_norm\u001b[1m)\u001b[0m: \u001b[1;35mLayerNorm\u001b[0m\u001b[1m(\u001b[0m\u001b[1m(\u001b[0m\u001b[1;36m768\u001b[0m,\u001b[1m)\u001b[0m, \u001b[33meps\u001b[0m=\u001b[1;36m1e\u001b[0m\u001b[1;36m-05\u001b[0m, \u001b[33melementwise_affine\u001b[0m=\u001b[3;92mTrue\u001b[0m\u001b[1m)\u001b[0m       \u001b[2m              \u001b[0m\n",
       "\u001b[2;36m           \u001b[0m        \u001b[1m)\u001b[0m                                                                                 \u001b[2m              \u001b[0m\n",
       "\u001b[2;36m           \u001b[0m      \u001b[1m)\u001b[0m                                                                                   \u001b[2m              \u001b[0m\n",
       "\u001b[2;36m           \u001b[0m    \u001b[1m)\u001b[0m                                                                                     \u001b[2m              \u001b[0m\n",
       "\u001b[2;36m           \u001b[0m  \u001b[1m)\u001b[0m                                                                                       \u001b[2m              \u001b[0m\n",
       "\u001b[2;36m           \u001b[0m  \u001b[1m(\u001b[0maux\u001b[1m)\u001b[0m: \u001b[1;35mLinear\u001b[0m\u001b[1m(\u001b[0m\u001b[33min_features\u001b[0m=\u001b[1;36m768\u001b[0m, \u001b[33mout_features\u001b[0m=\u001b[1;36m29\u001b[0m, \u001b[33mbias\u001b[0m=\u001b[3;92mTrue\u001b[0m\u001b[1m)\u001b[0m                              \u001b[2m              \u001b[0m\n",
       "\u001b[2;36m           \u001b[0m\u001b[1m)\u001b[0m                                                                                         \u001b[2m              \u001b[0m\n"
      ]
     },
     "metadata": {},
     "output_type": "display_data"
    }
   ],
   "source": [
    "console.log(model)"
   ]
  },
  {
   "cell_type": "code",
   "execution_count": 4,
   "id": "8851e512-0907-4cc0-b915-ab274802bcbe",
   "metadata": {},
   "outputs": [],
   "source": [
    "for param in model.feature_extractor.parameters():\n",
    "    param.require_grad = False\n",
    "for param in model.encoder.parameters():\n",
    "    param.require_grad = False\n",
    "for param in model.aux.parameters():\n",
    "    param.require_grad = False\n",
    "# model.aux = torch.nn.Sequential(\n",
    "#     torch.nn.Flatten(),\n",
    "#     torch.nn.Linear(in_features=37632, out_features=4096, device=device),\n",
    "#     torch.nn.Linear(in_features=4096, out_features=8, bias=True, device=device)\n",
    "#     \n",
    "# )\n",
    "# model.aux = torch.nn.Linear(in_features=768, out_features=8, bias=True, device=device)\n",
    "aux = [model.aux]\n",
    "# aux.extend([torch.nn.Linear(in_features=29, out_features=8, bias=True, device=device)])\n",
    "aux.extend([torch.nn.Conv1d(in_channels=49, out_channels=8, kernel_size=29, stride=1, device=device)])\n",
    "model.aux = torch.nn.Sequential(*aux)"
   ]
  },
  {
   "cell_type": "code",
   "execution_count": 5,
   "id": "eaa317a1-642f-4b28-8baa-88e7fd37e8c2",
   "metadata": {},
   "outputs": [
    {
     "data": {
      "text/html": [
       "<pre style=\"white-space:pre;overflow-x:auto;line-height:normal;font-family:Menlo,'DejaVu Sans Mono',consolas,'Courier New',monospace\"><span style=\"color: #7fbfbf; text-decoration-color: #7fbfbf\">[15:58:31] </span><span style=\"color: #800080; text-decoration-color: #800080; font-weight: bold\">Wav2Vec2Model</span><span style=\"font-weight: bold\">(</span>                                                                            <a href=\"file:///tmp/ipykernel_2645657/977660610.py\" target=\"_blank\"><span style=\"color: #7f7f7f; text-decoration-color: #7f7f7f\">977660610.py</span></a><span style=\"color: #7f7f7f; text-decoration-color: #7f7f7f\">:</span><a href=\"file:///tmp/ipykernel_2645657/977660610.py#1\" target=\"_blank\"><span style=\"color: #7f7f7f; text-decoration-color: #7f7f7f\">1</span></a>\n",
       "<span style=\"color: #7fbfbf; text-decoration-color: #7fbfbf\">           </span>  <span style=\"font-weight: bold\">(</span>feature_extractor<span style=\"font-weight: bold\">)</span>: <span style=\"color: #800080; text-decoration-color: #800080; font-weight: bold\">FeatureExtractor</span><span style=\"font-weight: bold\">(</span>                                                  <span style=\"color: #7f7f7f; text-decoration-color: #7f7f7f\">              </span>\n",
       "<span style=\"color: #7fbfbf; text-decoration-color: #7fbfbf\">           </span>    <span style=\"font-weight: bold\">(</span>conv_layers<span style=\"font-weight: bold\">)</span>: <span style=\"color: #800080; text-decoration-color: #800080; font-weight: bold\">ModuleList</span><span style=\"font-weight: bold\">(</span>                                                            <span style=\"color: #7f7f7f; text-decoration-color: #7f7f7f\">              </span>\n",
       "<span style=\"color: #7fbfbf; text-decoration-color: #7fbfbf\">           </span>      <span style=\"font-weight: bold\">(</span><span style=\"color: #008080; text-decoration-color: #008080; font-weight: bold\">0</span><span style=\"font-weight: bold\">)</span>: <span style=\"color: #800080; text-decoration-color: #800080; font-weight: bold\">ConvLayerBlock</span><span style=\"font-weight: bold\">(</span>                                                                <span style=\"color: #7f7f7f; text-decoration-color: #7f7f7f\">              </span>\n",
       "<span style=\"color: #7fbfbf; text-decoration-color: #7fbfbf\">           </span>        <span style=\"font-weight: bold\">(</span>layer_norm<span style=\"font-weight: bold\">)</span>: <span style=\"color: #800080; text-decoration-color: #800080; font-weight: bold\">GroupNorm</span><span style=\"font-weight: bold\">(</span><span style=\"color: #008080; text-decoration-color: #008080; font-weight: bold\">512</span>, <span style=\"color: #008080; text-decoration-color: #008080; font-weight: bold\">512</span>, <span style=\"color: #808000; text-decoration-color: #808000\">eps</span>=<span style=\"color: #008080; text-decoration-color: #008080; font-weight: bold\">1e-05</span>, <span style=\"color: #808000; text-decoration-color: #808000\">affine</span>=<span style=\"color: #00ff00; text-decoration-color: #00ff00; font-style: italic\">True</span><span style=\"font-weight: bold\">)</span>                         <span style=\"color: #7f7f7f; text-decoration-color: #7f7f7f\">              </span>\n",
       "<span style=\"color: #7fbfbf; text-decoration-color: #7fbfbf\">           </span>        <span style=\"font-weight: bold\">(</span>conv<span style=\"font-weight: bold\">)</span>: <span style=\"color: #800080; text-decoration-color: #800080; font-weight: bold\">Conv1d</span><span style=\"font-weight: bold\">(</span><span style=\"color: #008080; text-decoration-color: #008080; font-weight: bold\">1</span>, <span style=\"color: #008080; text-decoration-color: #008080; font-weight: bold\">512</span>, <span style=\"color: #808000; text-decoration-color: #808000\">kernel_size</span>=<span style=\"font-weight: bold\">(</span><span style=\"color: #008080; text-decoration-color: #008080; font-weight: bold\">10</span>,<span style=\"font-weight: bold\">)</span>, <span style=\"color: #808000; text-decoration-color: #808000\">stride</span>=<span style=\"font-weight: bold\">(</span><span style=\"color: #008080; text-decoration-color: #008080; font-weight: bold\">5</span>,<span style=\"font-weight: bold\">)</span>, <span style=\"color: #808000; text-decoration-color: #808000\">bias</span>=<span style=\"color: #ff0000; text-decoration-color: #ff0000; font-style: italic\">False</span><span style=\"font-weight: bold\">)</span>                <span style=\"color: #7f7f7f; text-decoration-color: #7f7f7f\">              </span>\n",
       "<span style=\"color: #7fbfbf; text-decoration-color: #7fbfbf\">           </span>      <span style=\"font-weight: bold\">)</span>                                                                                   <span style=\"color: #7f7f7f; text-decoration-color: #7f7f7f\">              </span>\n",
       "<span style=\"color: #7fbfbf; text-decoration-color: #7fbfbf\">           </span>      <span style=\"font-weight: bold\">(</span><span style=\"color: #008080; text-decoration-color: #008080; font-weight: bold\">1</span>-<span style=\"color: #008080; text-decoration-color: #008080; font-weight: bold\">4</span><span style=\"font-weight: bold\">)</span>: <span style=\"color: #008080; text-decoration-color: #008080; font-weight: bold\">4</span> x <span style=\"color: #800080; text-decoration-color: #800080; font-weight: bold\">ConvLayerBlock</span><span style=\"font-weight: bold\">(</span>                                                          <span style=\"color: #7f7f7f; text-decoration-color: #7f7f7f\">              </span>\n",
       "<span style=\"color: #7fbfbf; text-decoration-color: #7fbfbf\">           </span>        <span style=\"font-weight: bold\">(</span>conv<span style=\"font-weight: bold\">)</span>: <span style=\"color: #800080; text-decoration-color: #800080; font-weight: bold\">Conv1d</span><span style=\"font-weight: bold\">(</span><span style=\"color: #008080; text-decoration-color: #008080; font-weight: bold\">512</span>, <span style=\"color: #008080; text-decoration-color: #008080; font-weight: bold\">512</span>, <span style=\"color: #808000; text-decoration-color: #808000\">kernel_size</span>=<span style=\"font-weight: bold\">(</span><span style=\"color: #008080; text-decoration-color: #008080; font-weight: bold\">3</span>,<span style=\"font-weight: bold\">)</span>, <span style=\"color: #808000; text-decoration-color: #808000\">stride</span>=<span style=\"font-weight: bold\">(</span><span style=\"color: #008080; text-decoration-color: #008080; font-weight: bold\">2</span>,<span style=\"font-weight: bold\">)</span>, <span style=\"color: #808000; text-decoration-color: #808000\">bias</span>=<span style=\"color: #ff0000; text-decoration-color: #ff0000; font-style: italic\">False</span><span style=\"font-weight: bold\">)</span>               <span style=\"color: #7f7f7f; text-decoration-color: #7f7f7f\">              </span>\n",
       "<span style=\"color: #7fbfbf; text-decoration-color: #7fbfbf\">           </span>      <span style=\"font-weight: bold\">)</span>                                                                                   <span style=\"color: #7f7f7f; text-decoration-color: #7f7f7f\">              </span>\n",
       "<span style=\"color: #7fbfbf; text-decoration-color: #7fbfbf\">           </span>      <span style=\"font-weight: bold\">(</span><span style=\"color: #008080; text-decoration-color: #008080; font-weight: bold\">5</span>-<span style=\"color: #008080; text-decoration-color: #008080; font-weight: bold\">6</span><span style=\"font-weight: bold\">)</span>: <span style=\"color: #008080; text-decoration-color: #008080; font-weight: bold\">2</span> x <span style=\"color: #800080; text-decoration-color: #800080; font-weight: bold\">ConvLayerBlock</span><span style=\"font-weight: bold\">(</span>                                                          <span style=\"color: #7f7f7f; text-decoration-color: #7f7f7f\">              </span>\n",
       "<span style=\"color: #7fbfbf; text-decoration-color: #7fbfbf\">           </span>        <span style=\"font-weight: bold\">(</span>conv<span style=\"font-weight: bold\">)</span>: <span style=\"color: #800080; text-decoration-color: #800080; font-weight: bold\">Conv1d</span><span style=\"font-weight: bold\">(</span><span style=\"color: #008080; text-decoration-color: #008080; font-weight: bold\">512</span>, <span style=\"color: #008080; text-decoration-color: #008080; font-weight: bold\">512</span>, <span style=\"color: #808000; text-decoration-color: #808000\">kernel_size</span>=<span style=\"font-weight: bold\">(</span><span style=\"color: #008080; text-decoration-color: #008080; font-weight: bold\">2</span>,<span style=\"font-weight: bold\">)</span>, <span style=\"color: #808000; text-decoration-color: #808000\">stride</span>=<span style=\"font-weight: bold\">(</span><span style=\"color: #008080; text-decoration-color: #008080; font-weight: bold\">2</span>,<span style=\"font-weight: bold\">)</span>, <span style=\"color: #808000; text-decoration-color: #808000\">bias</span>=<span style=\"color: #ff0000; text-decoration-color: #ff0000; font-style: italic\">False</span><span style=\"font-weight: bold\">)</span>               <span style=\"color: #7f7f7f; text-decoration-color: #7f7f7f\">              </span>\n",
       "<span style=\"color: #7fbfbf; text-decoration-color: #7fbfbf\">           </span>      <span style=\"font-weight: bold\">)</span>                                                                                   <span style=\"color: #7f7f7f; text-decoration-color: #7f7f7f\">              </span>\n",
       "<span style=\"color: #7fbfbf; text-decoration-color: #7fbfbf\">           </span>    <span style=\"font-weight: bold\">)</span>                                                                                     <span style=\"color: #7f7f7f; text-decoration-color: #7f7f7f\">              </span>\n",
       "<span style=\"color: #7fbfbf; text-decoration-color: #7fbfbf\">           </span>  <span style=\"font-weight: bold\">)</span>                                                                                       <span style=\"color: #7f7f7f; text-decoration-color: #7f7f7f\">              </span>\n",
       "<span style=\"color: #7fbfbf; text-decoration-color: #7fbfbf\">           </span>  <span style=\"font-weight: bold\">(</span>encoder<span style=\"font-weight: bold\">)</span>: <span style=\"color: #800080; text-decoration-color: #800080; font-weight: bold\">Encoder</span><span style=\"font-weight: bold\">(</span>                                                                     <span style=\"color: #7f7f7f; text-decoration-color: #7f7f7f\">              </span>\n",
       "<span style=\"color: #7fbfbf; text-decoration-color: #7fbfbf\">           </span>    <span style=\"font-weight: bold\">(</span>feature_projection<span style=\"font-weight: bold\">)</span>: <span style=\"color: #800080; text-decoration-color: #800080; font-weight: bold\">FeatureProjection</span><span style=\"font-weight: bold\">(</span>                                              <span style=\"color: #7f7f7f; text-decoration-color: #7f7f7f\">              </span>\n",
       "<span style=\"color: #7fbfbf; text-decoration-color: #7fbfbf\">           </span>      <span style=\"font-weight: bold\">(</span>layer_norm<span style=\"font-weight: bold\">)</span>: <span style=\"color: #800080; text-decoration-color: #800080; font-weight: bold\">LayerNorm</span><span style=\"font-weight: bold\">((</span><span style=\"color: #008080; text-decoration-color: #008080; font-weight: bold\">512</span>,<span style=\"font-weight: bold\">)</span>, <span style=\"color: #808000; text-decoration-color: #808000\">eps</span>=<span style=\"color: #008080; text-decoration-color: #008080; font-weight: bold\">1e-05</span>, <span style=\"color: #808000; text-decoration-color: #808000\">elementwise_affine</span>=<span style=\"color: #00ff00; text-decoration-color: #00ff00; font-style: italic\">True</span><span style=\"font-weight: bold\">)</span>                 <span style=\"color: #7f7f7f; text-decoration-color: #7f7f7f\">              </span>\n",
       "<span style=\"color: #7fbfbf; text-decoration-color: #7fbfbf\">           </span>      <span style=\"font-weight: bold\">(</span>projection<span style=\"font-weight: bold\">)</span>: <span style=\"color: #800080; text-decoration-color: #800080; font-weight: bold\">Linear</span><span style=\"font-weight: bold\">(</span><span style=\"color: #808000; text-decoration-color: #808000\">in_features</span>=<span style=\"color: #008080; text-decoration-color: #008080; font-weight: bold\">512</span>, <span style=\"color: #808000; text-decoration-color: #808000\">out_features</span>=<span style=\"color: #008080; text-decoration-color: #008080; font-weight: bold\">768</span>, <span style=\"color: #808000; text-decoration-color: #808000\">bias</span>=<span style=\"color: #00ff00; text-decoration-color: #00ff00; font-style: italic\">True</span><span style=\"font-weight: bold\">)</span>                  <span style=\"color: #7f7f7f; text-decoration-color: #7f7f7f\">              </span>\n",
       "<span style=\"color: #7fbfbf; text-decoration-color: #7fbfbf\">           </span>      <span style=\"font-weight: bold\">(</span>dropout<span style=\"font-weight: bold\">)</span>: <span style=\"color: #800080; text-decoration-color: #800080; font-weight: bold\">Dropout</span><span style=\"font-weight: bold\">(</span><span style=\"color: #808000; text-decoration-color: #808000\">p</span>=<span style=\"color: #008080; text-decoration-color: #008080; font-weight: bold\">0.1</span>, <span style=\"color: #808000; text-decoration-color: #808000\">inplace</span>=<span style=\"color: #ff0000; text-decoration-color: #ff0000; font-style: italic\">False</span><span style=\"font-weight: bold\">)</span>                                            <span style=\"color: #7f7f7f; text-decoration-color: #7f7f7f\">              </span>\n",
       "<span style=\"color: #7fbfbf; text-decoration-color: #7fbfbf\">           </span>    <span style=\"font-weight: bold\">)</span>                                                                                     <span style=\"color: #7f7f7f; text-decoration-color: #7f7f7f\">              </span>\n",
       "<span style=\"color: #7fbfbf; text-decoration-color: #7fbfbf\">           </span>    <span style=\"font-weight: bold\">(</span>transformer<span style=\"font-weight: bold\">)</span>: <span style=\"color: #800080; text-decoration-color: #800080; font-weight: bold\">Transformer</span><span style=\"font-weight: bold\">(</span>                                                           <span style=\"color: #7f7f7f; text-decoration-color: #7f7f7f\">              </span>\n",
       "<span style=\"color: #7fbfbf; text-decoration-color: #7fbfbf\">           </span>      <span style=\"font-weight: bold\">(</span>pos_conv_embed<span style=\"font-weight: bold\">)</span>: <span style=\"color: #800080; text-decoration-color: #800080; font-weight: bold\">ConvolutionalPositionalEmbedding</span><span style=\"font-weight: bold\">(</span>                                 <span style=\"color: #7f7f7f; text-decoration-color: #7f7f7f\">              </span>\n",
       "<span style=\"color: #7fbfbf; text-decoration-color: #7fbfbf\">           </span>        <span style=\"font-weight: bold\">(</span>conv<span style=\"font-weight: bold\">)</span>: <span style=\"color: #800080; text-decoration-color: #800080; font-weight: bold\">Conv1d</span><span style=\"font-weight: bold\">(</span><span style=\"color: #008080; text-decoration-color: #008080; font-weight: bold\">768</span>, <span style=\"color: #008080; text-decoration-color: #008080; font-weight: bold\">768</span>, <span style=\"color: #808000; text-decoration-color: #808000\">kernel_size</span>=<span style=\"font-weight: bold\">(</span><span style=\"color: #008080; text-decoration-color: #008080; font-weight: bold\">128</span>,<span style=\"font-weight: bold\">)</span>, <span style=\"color: #808000; text-decoration-color: #808000\">stride</span>=<span style=\"font-weight: bold\">(</span><span style=\"color: #008080; text-decoration-color: #008080; font-weight: bold\">1</span>,<span style=\"font-weight: bold\">)</span>, <span style=\"color: #808000; text-decoration-color: #808000\">padding</span>=<span style=\"font-weight: bold\">(</span><span style=\"color: #008080; text-decoration-color: #008080; font-weight: bold\">64</span>,<span style=\"font-weight: bold\">)</span>,          <span style=\"color: #7f7f7f; text-decoration-color: #7f7f7f\">              </span>\n",
       "<span style=\"color: #7fbfbf; text-decoration-color: #7fbfbf\">           </span><span style=\"color: #808000; text-decoration-color: #808000\">groups</span>=<span style=\"color: #008080; text-decoration-color: #008080; font-weight: bold\">16</span><span style=\"font-weight: bold\">)</span>                                                                                <span style=\"color: #7f7f7f; text-decoration-color: #7f7f7f\">              </span>\n",
       "<span style=\"color: #7fbfbf; text-decoration-color: #7fbfbf\">           </span>      <span style=\"font-weight: bold\">)</span>                                                                                   <span style=\"color: #7f7f7f; text-decoration-color: #7f7f7f\">              </span>\n",
       "<span style=\"color: #7fbfbf; text-decoration-color: #7fbfbf\">           </span>      <span style=\"font-weight: bold\">(</span>layer_norm<span style=\"font-weight: bold\">)</span>: <span style=\"color: #800080; text-decoration-color: #800080; font-weight: bold\">LayerNorm</span><span style=\"font-weight: bold\">((</span><span style=\"color: #008080; text-decoration-color: #008080; font-weight: bold\">768</span>,<span style=\"font-weight: bold\">)</span>, <span style=\"color: #808000; text-decoration-color: #808000\">eps</span>=<span style=\"color: #008080; text-decoration-color: #008080; font-weight: bold\">1e-05</span>, <span style=\"color: #808000; text-decoration-color: #808000\">elementwise_affine</span>=<span style=\"color: #00ff00; text-decoration-color: #00ff00; font-style: italic\">True</span><span style=\"font-weight: bold\">)</span>                 <span style=\"color: #7f7f7f; text-decoration-color: #7f7f7f\">              </span>\n",
       "<span style=\"color: #7fbfbf; text-decoration-color: #7fbfbf\">           </span>      <span style=\"font-weight: bold\">(</span>dropout<span style=\"font-weight: bold\">)</span>: <span style=\"color: #800080; text-decoration-color: #800080; font-weight: bold\">Dropout</span><span style=\"font-weight: bold\">(</span><span style=\"color: #808000; text-decoration-color: #808000\">p</span>=<span style=\"color: #008080; text-decoration-color: #008080; font-weight: bold\">0.1</span>, <span style=\"color: #808000; text-decoration-color: #808000\">inplace</span>=<span style=\"color: #ff0000; text-decoration-color: #ff0000; font-style: italic\">False</span><span style=\"font-weight: bold\">)</span>                                            <span style=\"color: #7f7f7f; text-decoration-color: #7f7f7f\">              </span>\n",
       "<span style=\"color: #7fbfbf; text-decoration-color: #7fbfbf\">           </span>      <span style=\"font-weight: bold\">(</span>layers<span style=\"font-weight: bold\">)</span>: <span style=\"color: #800080; text-decoration-color: #800080; font-weight: bold\">ModuleList</span><span style=\"font-weight: bold\">(</span>                                                               <span style=\"color: #7f7f7f; text-decoration-color: #7f7f7f\">              </span>\n",
       "<span style=\"color: #7fbfbf; text-decoration-color: #7fbfbf\">           </span>        <span style=\"font-weight: bold\">(</span><span style=\"color: #008080; text-decoration-color: #008080; font-weight: bold\">0</span>-<span style=\"color: #008080; text-decoration-color: #008080; font-weight: bold\">11</span><span style=\"font-weight: bold\">)</span>: <span style=\"color: #008080; text-decoration-color: #008080; font-weight: bold\">12</span> x <span style=\"color: #800080; text-decoration-color: #800080; font-weight: bold\">EncoderLayer</span><span style=\"font-weight: bold\">(</span>                                                        <span style=\"color: #7f7f7f; text-decoration-color: #7f7f7f\">              </span>\n",
       "<span style=\"color: #7fbfbf; text-decoration-color: #7fbfbf\">           </span>          <span style=\"font-weight: bold\">(</span>attention<span style=\"font-weight: bold\">)</span>: <span style=\"color: #800080; text-decoration-color: #800080; font-weight: bold\">SelfAttention</span><span style=\"font-weight: bold\">(</span>                                                     <span style=\"color: #7f7f7f; text-decoration-color: #7f7f7f\">              </span>\n",
       "<span style=\"color: #7fbfbf; text-decoration-color: #7fbfbf\">           </span>            <span style=\"font-weight: bold\">(</span>dropout<span style=\"font-weight: bold\">)</span>: <span style=\"color: #800080; text-decoration-color: #800080; font-weight: bold\">Dropout</span><span style=\"font-weight: bold\">(</span><span style=\"color: #808000; text-decoration-color: #808000\">p</span>=<span style=\"color: #008080; text-decoration-color: #008080; font-weight: bold\">0.1</span>, <span style=\"color: #808000; text-decoration-color: #808000\">inplace</span>=<span style=\"color: #ff0000; text-decoration-color: #ff0000; font-style: italic\">False</span><span style=\"font-weight: bold\">)</span>                                      <span style=\"color: #7f7f7f; text-decoration-color: #7f7f7f\">              </span>\n",
       "<span style=\"color: #7fbfbf; text-decoration-color: #7fbfbf\">           </span>            <span style=\"font-weight: bold\">(</span>k_proj<span style=\"font-weight: bold\">)</span>: <span style=\"color: #800080; text-decoration-color: #800080; font-weight: bold\">Linear</span><span style=\"font-weight: bold\">(</span><span style=\"color: #808000; text-decoration-color: #808000\">in_features</span>=<span style=\"color: #008080; text-decoration-color: #008080; font-weight: bold\">768</span>, <span style=\"color: #808000; text-decoration-color: #808000\">out_features</span>=<span style=\"color: #008080; text-decoration-color: #008080; font-weight: bold\">768</span>, <span style=\"color: #808000; text-decoration-color: #808000\">bias</span>=<span style=\"color: #00ff00; text-decoration-color: #00ff00; font-style: italic\">True</span><span style=\"font-weight: bold\">)</span>                <span style=\"color: #7f7f7f; text-decoration-color: #7f7f7f\">              </span>\n",
       "<span style=\"color: #7fbfbf; text-decoration-color: #7fbfbf\">           </span>            <span style=\"font-weight: bold\">(</span>v_proj<span style=\"font-weight: bold\">)</span>: <span style=\"color: #800080; text-decoration-color: #800080; font-weight: bold\">Linear</span><span style=\"font-weight: bold\">(</span><span style=\"color: #808000; text-decoration-color: #808000\">in_features</span>=<span style=\"color: #008080; text-decoration-color: #008080; font-weight: bold\">768</span>, <span style=\"color: #808000; text-decoration-color: #808000\">out_features</span>=<span style=\"color: #008080; text-decoration-color: #008080; font-weight: bold\">768</span>, <span style=\"color: #808000; text-decoration-color: #808000\">bias</span>=<span style=\"color: #00ff00; text-decoration-color: #00ff00; font-style: italic\">True</span><span style=\"font-weight: bold\">)</span>                <span style=\"color: #7f7f7f; text-decoration-color: #7f7f7f\">              </span>\n",
       "<span style=\"color: #7fbfbf; text-decoration-color: #7fbfbf\">           </span>            <span style=\"font-weight: bold\">(</span>q_proj<span style=\"font-weight: bold\">)</span>: <span style=\"color: #800080; text-decoration-color: #800080; font-weight: bold\">Linear</span><span style=\"font-weight: bold\">(</span><span style=\"color: #808000; text-decoration-color: #808000\">in_features</span>=<span style=\"color: #008080; text-decoration-color: #008080; font-weight: bold\">768</span>, <span style=\"color: #808000; text-decoration-color: #808000\">out_features</span>=<span style=\"color: #008080; text-decoration-color: #008080; font-weight: bold\">768</span>, <span style=\"color: #808000; text-decoration-color: #808000\">bias</span>=<span style=\"color: #00ff00; text-decoration-color: #00ff00; font-style: italic\">True</span><span style=\"font-weight: bold\">)</span>                <span style=\"color: #7f7f7f; text-decoration-color: #7f7f7f\">              </span>\n",
       "<span style=\"color: #7fbfbf; text-decoration-color: #7fbfbf\">           </span>            <span style=\"font-weight: bold\">(</span>out_proj<span style=\"font-weight: bold\">)</span>: <span style=\"color: #800080; text-decoration-color: #800080; font-weight: bold\">Linear</span><span style=\"font-weight: bold\">(</span><span style=\"color: #808000; text-decoration-color: #808000\">in_features</span>=<span style=\"color: #008080; text-decoration-color: #008080; font-weight: bold\">768</span>, <span style=\"color: #808000; text-decoration-color: #808000\">out_features</span>=<span style=\"color: #008080; text-decoration-color: #008080; font-weight: bold\">768</span>, <span style=\"color: #808000; text-decoration-color: #808000\">bias</span>=<span style=\"color: #00ff00; text-decoration-color: #00ff00; font-style: italic\">True</span><span style=\"font-weight: bold\">)</span>              <span style=\"color: #7f7f7f; text-decoration-color: #7f7f7f\">              </span>\n",
       "<span style=\"color: #7fbfbf; text-decoration-color: #7fbfbf\">           </span>          <span style=\"font-weight: bold\">)</span>                                                                               <span style=\"color: #7f7f7f; text-decoration-color: #7f7f7f\">              </span>\n",
       "<span style=\"color: #7fbfbf; text-decoration-color: #7fbfbf\">           </span>          <span style=\"font-weight: bold\">(</span>dropout<span style=\"font-weight: bold\">)</span>: <span style=\"color: #800080; text-decoration-color: #800080; font-weight: bold\">Dropout</span><span style=\"font-weight: bold\">(</span><span style=\"color: #808000; text-decoration-color: #808000\">p</span>=<span style=\"color: #008080; text-decoration-color: #008080; font-weight: bold\">0.1</span>, <span style=\"color: #808000; text-decoration-color: #808000\">inplace</span>=<span style=\"color: #ff0000; text-decoration-color: #ff0000; font-style: italic\">False</span><span style=\"font-weight: bold\">)</span>                                        <span style=\"color: #7f7f7f; text-decoration-color: #7f7f7f\">              </span>\n",
       "<span style=\"color: #7fbfbf; text-decoration-color: #7fbfbf\">           </span>          <span style=\"font-weight: bold\">(</span>layer_norm<span style=\"font-weight: bold\">)</span>: <span style=\"color: #800080; text-decoration-color: #800080; font-weight: bold\">LayerNorm</span><span style=\"font-weight: bold\">((</span><span style=\"color: #008080; text-decoration-color: #008080; font-weight: bold\">768</span>,<span style=\"font-weight: bold\">)</span>, <span style=\"color: #808000; text-decoration-color: #808000\">eps</span>=<span style=\"color: #008080; text-decoration-color: #008080; font-weight: bold\">1e-05</span>, <span style=\"color: #808000; text-decoration-color: #808000\">elementwise_affine</span>=<span style=\"color: #00ff00; text-decoration-color: #00ff00; font-style: italic\">True</span><span style=\"font-weight: bold\">)</span>             <span style=\"color: #7f7f7f; text-decoration-color: #7f7f7f\">              </span>\n",
       "<span style=\"color: #7fbfbf; text-decoration-color: #7fbfbf\">           </span>          <span style=\"font-weight: bold\">(</span>feed_forward<span style=\"font-weight: bold\">)</span>: <span style=\"color: #800080; text-decoration-color: #800080; font-weight: bold\">FeedForward</span><span style=\"font-weight: bold\">(</span>                                                    <span style=\"color: #7f7f7f; text-decoration-color: #7f7f7f\">              </span>\n",
       "<span style=\"color: #7fbfbf; text-decoration-color: #7fbfbf\">           </span>            <span style=\"font-weight: bold\">(</span>intermediate_dense<span style=\"font-weight: bold\">)</span>: <span style=\"color: #800080; text-decoration-color: #800080; font-weight: bold\">Linear</span><span style=\"font-weight: bold\">(</span><span style=\"color: #808000; text-decoration-color: #808000\">in_features</span>=<span style=\"color: #008080; text-decoration-color: #008080; font-weight: bold\">768</span>, <span style=\"color: #808000; text-decoration-color: #808000\">out_features</span>=<span style=\"color: #008080; text-decoration-color: #008080; font-weight: bold\">3072</span>, <span style=\"color: #808000; text-decoration-color: #808000\">bias</span>=<span style=\"color: #00ff00; text-decoration-color: #00ff00; font-style: italic\">True</span><span style=\"font-weight: bold\">)</span>   <span style=\"color: #7f7f7f; text-decoration-color: #7f7f7f\">              </span>\n",
       "<span style=\"color: #7fbfbf; text-decoration-color: #7fbfbf\">           </span>            <span style=\"font-weight: bold\">(</span>intermediate_dropout<span style=\"font-weight: bold\">)</span>: <span style=\"color: #800080; text-decoration-color: #800080; font-weight: bold\">Dropout</span><span style=\"font-weight: bold\">(</span><span style=\"color: #808000; text-decoration-color: #808000\">p</span>=<span style=\"color: #008080; text-decoration-color: #008080; font-weight: bold\">0.0</span>, <span style=\"color: #808000; text-decoration-color: #808000\">inplace</span>=<span style=\"color: #ff0000; text-decoration-color: #ff0000; font-style: italic\">False</span><span style=\"font-weight: bold\">)</span>                         <span style=\"color: #7f7f7f; text-decoration-color: #7f7f7f\">              </span>\n",
       "<span style=\"color: #7fbfbf; text-decoration-color: #7fbfbf\">           </span>            <span style=\"font-weight: bold\">(</span>output_dense<span style=\"font-weight: bold\">)</span>: <span style=\"color: #800080; text-decoration-color: #800080; font-weight: bold\">Linear</span><span style=\"font-weight: bold\">(</span><span style=\"color: #808000; text-decoration-color: #808000\">in_features</span>=<span style=\"color: #008080; text-decoration-color: #008080; font-weight: bold\">3072</span>, <span style=\"color: #808000; text-decoration-color: #808000\">out_features</span>=<span style=\"color: #008080; text-decoration-color: #008080; font-weight: bold\">768</span>, <span style=\"color: #808000; text-decoration-color: #808000\">bias</span>=<span style=\"color: #00ff00; text-decoration-color: #00ff00; font-style: italic\">True</span><span style=\"font-weight: bold\">)</span>         <span style=\"color: #7f7f7f; text-decoration-color: #7f7f7f\">              </span>\n",
       "<span style=\"color: #7fbfbf; text-decoration-color: #7fbfbf\">           </span>            <span style=\"font-weight: bold\">(</span>output_dropout<span style=\"font-weight: bold\">)</span>: <span style=\"color: #800080; text-decoration-color: #800080; font-weight: bold\">Dropout</span><span style=\"font-weight: bold\">(</span><span style=\"color: #808000; text-decoration-color: #808000\">p</span>=<span style=\"color: #008080; text-decoration-color: #008080; font-weight: bold\">0.1</span>, <span style=\"color: #808000; text-decoration-color: #808000\">inplace</span>=<span style=\"color: #ff0000; text-decoration-color: #ff0000; font-style: italic\">False</span><span style=\"font-weight: bold\">)</span>                               <span style=\"color: #7f7f7f; text-decoration-color: #7f7f7f\">              </span>\n",
       "<span style=\"color: #7fbfbf; text-decoration-color: #7fbfbf\">           </span>          <span style=\"font-weight: bold\">)</span>                                                                               <span style=\"color: #7f7f7f; text-decoration-color: #7f7f7f\">              </span>\n",
       "<span style=\"color: #7fbfbf; text-decoration-color: #7fbfbf\">           </span>          <span style=\"font-weight: bold\">(</span>final_layer_norm<span style=\"font-weight: bold\">)</span>: <span style=\"color: #800080; text-decoration-color: #800080; font-weight: bold\">LayerNorm</span><span style=\"font-weight: bold\">((</span><span style=\"color: #008080; text-decoration-color: #008080; font-weight: bold\">768</span>,<span style=\"font-weight: bold\">)</span>, <span style=\"color: #808000; text-decoration-color: #808000\">eps</span>=<span style=\"color: #008080; text-decoration-color: #008080; font-weight: bold\">1e-05</span>, <span style=\"color: #808000; text-decoration-color: #808000\">elementwise_affine</span>=<span style=\"color: #00ff00; text-decoration-color: #00ff00; font-style: italic\">True</span><span style=\"font-weight: bold\">)</span>       <span style=\"color: #7f7f7f; text-decoration-color: #7f7f7f\">              </span>\n",
       "<span style=\"color: #7fbfbf; text-decoration-color: #7fbfbf\">           </span>        <span style=\"font-weight: bold\">)</span>                                                                                 <span style=\"color: #7f7f7f; text-decoration-color: #7f7f7f\">              </span>\n",
       "<span style=\"color: #7fbfbf; text-decoration-color: #7fbfbf\">           </span>      <span style=\"font-weight: bold\">)</span>                                                                                   <span style=\"color: #7f7f7f; text-decoration-color: #7f7f7f\">              </span>\n",
       "<span style=\"color: #7fbfbf; text-decoration-color: #7fbfbf\">           </span>    <span style=\"font-weight: bold\">)</span>                                                                                     <span style=\"color: #7f7f7f; text-decoration-color: #7f7f7f\">              </span>\n",
       "<span style=\"color: #7fbfbf; text-decoration-color: #7fbfbf\">           </span>  <span style=\"font-weight: bold\">)</span>                                                                                       <span style=\"color: #7f7f7f; text-decoration-color: #7f7f7f\">              </span>\n",
       "<span style=\"color: #7fbfbf; text-decoration-color: #7fbfbf\">           </span>  <span style=\"font-weight: bold\">(</span>aux<span style=\"font-weight: bold\">)</span>: <span style=\"color: #800080; text-decoration-color: #800080; font-weight: bold\">Sequential</span><span style=\"font-weight: bold\">(</span>                                                                      <span style=\"color: #7f7f7f; text-decoration-color: #7f7f7f\">              </span>\n",
       "<span style=\"color: #7fbfbf; text-decoration-color: #7fbfbf\">           </span>    <span style=\"font-weight: bold\">(</span><span style=\"color: #008080; text-decoration-color: #008080; font-weight: bold\">0</span><span style=\"font-weight: bold\">)</span>: <span style=\"color: #800080; text-decoration-color: #800080; font-weight: bold\">Linear</span><span style=\"font-weight: bold\">(</span><span style=\"color: #808000; text-decoration-color: #808000\">in_features</span>=<span style=\"color: #008080; text-decoration-color: #008080; font-weight: bold\">768</span>, <span style=\"color: #808000; text-decoration-color: #808000\">out_features</span>=<span style=\"color: #008080; text-decoration-color: #008080; font-weight: bold\">29</span>, <span style=\"color: #808000; text-decoration-color: #808000\">bias</span>=<span style=\"color: #00ff00; text-decoration-color: #00ff00; font-style: italic\">True</span><span style=\"font-weight: bold\">)</span>                              <span style=\"color: #7f7f7f; text-decoration-color: #7f7f7f\">              </span>\n",
       "<span style=\"color: #7fbfbf; text-decoration-color: #7fbfbf\">           </span>    <span style=\"font-weight: bold\">(</span><span style=\"color: #008080; text-decoration-color: #008080; font-weight: bold\">1</span><span style=\"font-weight: bold\">)</span>: <span style=\"color: #800080; text-decoration-color: #800080; font-weight: bold\">Conv1d</span><span style=\"font-weight: bold\">(</span><span style=\"color: #008080; text-decoration-color: #008080; font-weight: bold\">49</span>, <span style=\"color: #008080; text-decoration-color: #008080; font-weight: bold\">8</span>, <span style=\"color: #808000; text-decoration-color: #808000\">kernel_size</span>=<span style=\"font-weight: bold\">(</span><span style=\"color: #008080; text-decoration-color: #008080; font-weight: bold\">29</span>,<span style=\"font-weight: bold\">)</span>, <span style=\"color: #808000; text-decoration-color: #808000\">stride</span>=<span style=\"font-weight: bold\">(</span><span style=\"color: #008080; text-decoration-color: #008080; font-weight: bold\">1</span>,<span style=\"font-weight: bold\">))</span>                                    <span style=\"color: #7f7f7f; text-decoration-color: #7f7f7f\">              </span>\n",
       "<span style=\"color: #7fbfbf; text-decoration-color: #7fbfbf\">           </span>  <span style=\"font-weight: bold\">)</span>                                                                                       <span style=\"color: #7f7f7f; text-decoration-color: #7f7f7f\">              </span>\n",
       "<span style=\"color: #7fbfbf; text-decoration-color: #7fbfbf\">           </span><span style=\"font-weight: bold\">)</span>                                                                                         <span style=\"color: #7f7f7f; text-decoration-color: #7f7f7f\">              </span>\n",
       "</pre>\n"
      ],
      "text/plain": [
       "\u001b[2;36m[15:58:31]\u001b[0m\u001b[2;36m \u001b[0m\u001b[1;35mWav2Vec2Model\u001b[0m\u001b[1m(\u001b[0m                                                                            \u001b]8;id=601128;file:///tmp/ipykernel_2645657/977660610.py\u001b\\\u001b[2m977660610.py\u001b[0m\u001b]8;;\u001b\\\u001b[2m:\u001b[0m\u001b]8;id=477542;file:///tmp/ipykernel_2645657/977660610.py#1\u001b\\\u001b[2m1\u001b[0m\u001b]8;;\u001b\\\n",
       "\u001b[2;36m           \u001b[0m  \u001b[1m(\u001b[0mfeature_extractor\u001b[1m)\u001b[0m: \u001b[1;35mFeatureExtractor\u001b[0m\u001b[1m(\u001b[0m                                                  \u001b[2m              \u001b[0m\n",
       "\u001b[2;36m           \u001b[0m    \u001b[1m(\u001b[0mconv_layers\u001b[1m)\u001b[0m: \u001b[1;35mModuleList\u001b[0m\u001b[1m(\u001b[0m                                                            \u001b[2m              \u001b[0m\n",
       "\u001b[2;36m           \u001b[0m      \u001b[1m(\u001b[0m\u001b[1;36m0\u001b[0m\u001b[1m)\u001b[0m: \u001b[1;35mConvLayerBlock\u001b[0m\u001b[1m(\u001b[0m                                                                \u001b[2m              \u001b[0m\n",
       "\u001b[2;36m           \u001b[0m        \u001b[1m(\u001b[0mlayer_norm\u001b[1m)\u001b[0m: \u001b[1;35mGroupNorm\u001b[0m\u001b[1m(\u001b[0m\u001b[1;36m512\u001b[0m, \u001b[1;36m512\u001b[0m, \u001b[33meps\u001b[0m=\u001b[1;36m1e\u001b[0m\u001b[1;36m-05\u001b[0m, \u001b[33maffine\u001b[0m=\u001b[3;92mTrue\u001b[0m\u001b[1m)\u001b[0m                         \u001b[2m              \u001b[0m\n",
       "\u001b[2;36m           \u001b[0m        \u001b[1m(\u001b[0mconv\u001b[1m)\u001b[0m: \u001b[1;35mConv1d\u001b[0m\u001b[1m(\u001b[0m\u001b[1;36m1\u001b[0m, \u001b[1;36m512\u001b[0m, \u001b[33mkernel_size\u001b[0m=\u001b[1m(\u001b[0m\u001b[1;36m10\u001b[0m,\u001b[1m)\u001b[0m, \u001b[33mstride\u001b[0m=\u001b[1m(\u001b[0m\u001b[1;36m5\u001b[0m,\u001b[1m)\u001b[0m, \u001b[33mbias\u001b[0m=\u001b[3;91mFalse\u001b[0m\u001b[1m)\u001b[0m                \u001b[2m              \u001b[0m\n",
       "\u001b[2;36m           \u001b[0m      \u001b[1m)\u001b[0m                                                                                   \u001b[2m              \u001b[0m\n",
       "\u001b[2;36m           \u001b[0m      \u001b[1m(\u001b[0m\u001b[1;36m1\u001b[0m-\u001b[1;36m4\u001b[0m\u001b[1m)\u001b[0m: \u001b[1;36m4\u001b[0m x \u001b[1;35mConvLayerBlock\u001b[0m\u001b[1m(\u001b[0m                                                          \u001b[2m              \u001b[0m\n",
       "\u001b[2;36m           \u001b[0m        \u001b[1m(\u001b[0mconv\u001b[1m)\u001b[0m: \u001b[1;35mConv1d\u001b[0m\u001b[1m(\u001b[0m\u001b[1;36m512\u001b[0m, \u001b[1;36m512\u001b[0m, \u001b[33mkernel_size\u001b[0m=\u001b[1m(\u001b[0m\u001b[1;36m3\u001b[0m,\u001b[1m)\u001b[0m, \u001b[33mstride\u001b[0m=\u001b[1m(\u001b[0m\u001b[1;36m2\u001b[0m,\u001b[1m)\u001b[0m, \u001b[33mbias\u001b[0m=\u001b[3;91mFalse\u001b[0m\u001b[1m)\u001b[0m               \u001b[2m              \u001b[0m\n",
       "\u001b[2;36m           \u001b[0m      \u001b[1m)\u001b[0m                                                                                   \u001b[2m              \u001b[0m\n",
       "\u001b[2;36m           \u001b[0m      \u001b[1m(\u001b[0m\u001b[1;36m5\u001b[0m-\u001b[1;36m6\u001b[0m\u001b[1m)\u001b[0m: \u001b[1;36m2\u001b[0m x \u001b[1;35mConvLayerBlock\u001b[0m\u001b[1m(\u001b[0m                                                          \u001b[2m              \u001b[0m\n",
       "\u001b[2;36m           \u001b[0m        \u001b[1m(\u001b[0mconv\u001b[1m)\u001b[0m: \u001b[1;35mConv1d\u001b[0m\u001b[1m(\u001b[0m\u001b[1;36m512\u001b[0m, \u001b[1;36m512\u001b[0m, \u001b[33mkernel_size\u001b[0m=\u001b[1m(\u001b[0m\u001b[1;36m2\u001b[0m,\u001b[1m)\u001b[0m, \u001b[33mstride\u001b[0m=\u001b[1m(\u001b[0m\u001b[1;36m2\u001b[0m,\u001b[1m)\u001b[0m, \u001b[33mbias\u001b[0m=\u001b[3;91mFalse\u001b[0m\u001b[1m)\u001b[0m               \u001b[2m              \u001b[0m\n",
       "\u001b[2;36m           \u001b[0m      \u001b[1m)\u001b[0m                                                                                   \u001b[2m              \u001b[0m\n",
       "\u001b[2;36m           \u001b[0m    \u001b[1m)\u001b[0m                                                                                     \u001b[2m              \u001b[0m\n",
       "\u001b[2;36m           \u001b[0m  \u001b[1m)\u001b[0m                                                                                       \u001b[2m              \u001b[0m\n",
       "\u001b[2;36m           \u001b[0m  \u001b[1m(\u001b[0mencoder\u001b[1m)\u001b[0m: \u001b[1;35mEncoder\u001b[0m\u001b[1m(\u001b[0m                                                                     \u001b[2m              \u001b[0m\n",
       "\u001b[2;36m           \u001b[0m    \u001b[1m(\u001b[0mfeature_projection\u001b[1m)\u001b[0m: \u001b[1;35mFeatureProjection\u001b[0m\u001b[1m(\u001b[0m                                              \u001b[2m              \u001b[0m\n",
       "\u001b[2;36m           \u001b[0m      \u001b[1m(\u001b[0mlayer_norm\u001b[1m)\u001b[0m: \u001b[1;35mLayerNorm\u001b[0m\u001b[1m(\u001b[0m\u001b[1m(\u001b[0m\u001b[1;36m512\u001b[0m,\u001b[1m)\u001b[0m, \u001b[33meps\u001b[0m=\u001b[1;36m1e\u001b[0m\u001b[1;36m-05\u001b[0m, \u001b[33melementwise_affine\u001b[0m=\u001b[3;92mTrue\u001b[0m\u001b[1m)\u001b[0m                 \u001b[2m              \u001b[0m\n",
       "\u001b[2;36m           \u001b[0m      \u001b[1m(\u001b[0mprojection\u001b[1m)\u001b[0m: \u001b[1;35mLinear\u001b[0m\u001b[1m(\u001b[0m\u001b[33min_features\u001b[0m=\u001b[1;36m512\u001b[0m, \u001b[33mout_features\u001b[0m=\u001b[1;36m768\u001b[0m, \u001b[33mbias\u001b[0m=\u001b[3;92mTrue\u001b[0m\u001b[1m)\u001b[0m                  \u001b[2m              \u001b[0m\n",
       "\u001b[2;36m           \u001b[0m      \u001b[1m(\u001b[0mdropout\u001b[1m)\u001b[0m: \u001b[1;35mDropout\u001b[0m\u001b[1m(\u001b[0m\u001b[33mp\u001b[0m=\u001b[1;36m0\u001b[0m\u001b[1;36m.1\u001b[0m, \u001b[33minplace\u001b[0m=\u001b[3;91mFalse\u001b[0m\u001b[1m)\u001b[0m                                            \u001b[2m              \u001b[0m\n",
       "\u001b[2;36m           \u001b[0m    \u001b[1m)\u001b[0m                                                                                     \u001b[2m              \u001b[0m\n",
       "\u001b[2;36m           \u001b[0m    \u001b[1m(\u001b[0mtransformer\u001b[1m)\u001b[0m: \u001b[1;35mTransformer\u001b[0m\u001b[1m(\u001b[0m                                                           \u001b[2m              \u001b[0m\n",
       "\u001b[2;36m           \u001b[0m      \u001b[1m(\u001b[0mpos_conv_embed\u001b[1m)\u001b[0m: \u001b[1;35mConvolutionalPositionalEmbedding\u001b[0m\u001b[1m(\u001b[0m                                 \u001b[2m              \u001b[0m\n",
       "\u001b[2;36m           \u001b[0m        \u001b[1m(\u001b[0mconv\u001b[1m)\u001b[0m: \u001b[1;35mConv1d\u001b[0m\u001b[1m(\u001b[0m\u001b[1;36m768\u001b[0m, \u001b[1;36m768\u001b[0m, \u001b[33mkernel_size\u001b[0m=\u001b[1m(\u001b[0m\u001b[1;36m128\u001b[0m,\u001b[1m)\u001b[0m, \u001b[33mstride\u001b[0m=\u001b[1m(\u001b[0m\u001b[1;36m1\u001b[0m,\u001b[1m)\u001b[0m, \u001b[33mpadding\u001b[0m=\u001b[1m(\u001b[0m\u001b[1;36m64\u001b[0m,\u001b[1m)\u001b[0m,          \u001b[2m              \u001b[0m\n",
       "\u001b[2;36m           \u001b[0m\u001b[33mgroups\u001b[0m=\u001b[1;36m16\u001b[0m\u001b[1m)\u001b[0m                                                                                \u001b[2m              \u001b[0m\n",
       "\u001b[2;36m           \u001b[0m      \u001b[1m)\u001b[0m                                                                                   \u001b[2m              \u001b[0m\n",
       "\u001b[2;36m           \u001b[0m      \u001b[1m(\u001b[0mlayer_norm\u001b[1m)\u001b[0m: \u001b[1;35mLayerNorm\u001b[0m\u001b[1m(\u001b[0m\u001b[1m(\u001b[0m\u001b[1;36m768\u001b[0m,\u001b[1m)\u001b[0m, \u001b[33meps\u001b[0m=\u001b[1;36m1e\u001b[0m\u001b[1;36m-05\u001b[0m, \u001b[33melementwise_affine\u001b[0m=\u001b[3;92mTrue\u001b[0m\u001b[1m)\u001b[0m                 \u001b[2m              \u001b[0m\n",
       "\u001b[2;36m           \u001b[0m      \u001b[1m(\u001b[0mdropout\u001b[1m)\u001b[0m: \u001b[1;35mDropout\u001b[0m\u001b[1m(\u001b[0m\u001b[33mp\u001b[0m=\u001b[1;36m0\u001b[0m\u001b[1;36m.1\u001b[0m, \u001b[33minplace\u001b[0m=\u001b[3;91mFalse\u001b[0m\u001b[1m)\u001b[0m                                            \u001b[2m              \u001b[0m\n",
       "\u001b[2;36m           \u001b[0m      \u001b[1m(\u001b[0mlayers\u001b[1m)\u001b[0m: \u001b[1;35mModuleList\u001b[0m\u001b[1m(\u001b[0m                                                               \u001b[2m              \u001b[0m\n",
       "\u001b[2;36m           \u001b[0m        \u001b[1m(\u001b[0m\u001b[1;36m0\u001b[0m-\u001b[1;36m11\u001b[0m\u001b[1m)\u001b[0m: \u001b[1;36m12\u001b[0m x \u001b[1;35mEncoderLayer\u001b[0m\u001b[1m(\u001b[0m                                                        \u001b[2m              \u001b[0m\n",
       "\u001b[2;36m           \u001b[0m          \u001b[1m(\u001b[0mattention\u001b[1m)\u001b[0m: \u001b[1;35mSelfAttention\u001b[0m\u001b[1m(\u001b[0m                                                     \u001b[2m              \u001b[0m\n",
       "\u001b[2;36m           \u001b[0m            \u001b[1m(\u001b[0mdropout\u001b[1m)\u001b[0m: \u001b[1;35mDropout\u001b[0m\u001b[1m(\u001b[0m\u001b[33mp\u001b[0m=\u001b[1;36m0\u001b[0m\u001b[1;36m.1\u001b[0m, \u001b[33minplace\u001b[0m=\u001b[3;91mFalse\u001b[0m\u001b[1m)\u001b[0m                                      \u001b[2m              \u001b[0m\n",
       "\u001b[2;36m           \u001b[0m            \u001b[1m(\u001b[0mk_proj\u001b[1m)\u001b[0m: \u001b[1;35mLinear\u001b[0m\u001b[1m(\u001b[0m\u001b[33min_features\u001b[0m=\u001b[1;36m768\u001b[0m, \u001b[33mout_features\u001b[0m=\u001b[1;36m768\u001b[0m, \u001b[33mbias\u001b[0m=\u001b[3;92mTrue\u001b[0m\u001b[1m)\u001b[0m                \u001b[2m              \u001b[0m\n",
       "\u001b[2;36m           \u001b[0m            \u001b[1m(\u001b[0mv_proj\u001b[1m)\u001b[0m: \u001b[1;35mLinear\u001b[0m\u001b[1m(\u001b[0m\u001b[33min_features\u001b[0m=\u001b[1;36m768\u001b[0m, \u001b[33mout_features\u001b[0m=\u001b[1;36m768\u001b[0m, \u001b[33mbias\u001b[0m=\u001b[3;92mTrue\u001b[0m\u001b[1m)\u001b[0m                \u001b[2m              \u001b[0m\n",
       "\u001b[2;36m           \u001b[0m            \u001b[1m(\u001b[0mq_proj\u001b[1m)\u001b[0m: \u001b[1;35mLinear\u001b[0m\u001b[1m(\u001b[0m\u001b[33min_features\u001b[0m=\u001b[1;36m768\u001b[0m, \u001b[33mout_features\u001b[0m=\u001b[1;36m768\u001b[0m, \u001b[33mbias\u001b[0m=\u001b[3;92mTrue\u001b[0m\u001b[1m)\u001b[0m                \u001b[2m              \u001b[0m\n",
       "\u001b[2;36m           \u001b[0m            \u001b[1m(\u001b[0mout_proj\u001b[1m)\u001b[0m: \u001b[1;35mLinear\u001b[0m\u001b[1m(\u001b[0m\u001b[33min_features\u001b[0m=\u001b[1;36m768\u001b[0m, \u001b[33mout_features\u001b[0m=\u001b[1;36m768\u001b[0m, \u001b[33mbias\u001b[0m=\u001b[3;92mTrue\u001b[0m\u001b[1m)\u001b[0m              \u001b[2m              \u001b[0m\n",
       "\u001b[2;36m           \u001b[0m          \u001b[1m)\u001b[0m                                                                               \u001b[2m              \u001b[0m\n",
       "\u001b[2;36m           \u001b[0m          \u001b[1m(\u001b[0mdropout\u001b[1m)\u001b[0m: \u001b[1;35mDropout\u001b[0m\u001b[1m(\u001b[0m\u001b[33mp\u001b[0m=\u001b[1;36m0\u001b[0m\u001b[1;36m.1\u001b[0m, \u001b[33minplace\u001b[0m=\u001b[3;91mFalse\u001b[0m\u001b[1m)\u001b[0m                                        \u001b[2m              \u001b[0m\n",
       "\u001b[2;36m           \u001b[0m          \u001b[1m(\u001b[0mlayer_norm\u001b[1m)\u001b[0m: \u001b[1;35mLayerNorm\u001b[0m\u001b[1m(\u001b[0m\u001b[1m(\u001b[0m\u001b[1;36m768\u001b[0m,\u001b[1m)\u001b[0m, \u001b[33meps\u001b[0m=\u001b[1;36m1e\u001b[0m\u001b[1;36m-05\u001b[0m, \u001b[33melementwise_affine\u001b[0m=\u001b[3;92mTrue\u001b[0m\u001b[1m)\u001b[0m             \u001b[2m              \u001b[0m\n",
       "\u001b[2;36m           \u001b[0m          \u001b[1m(\u001b[0mfeed_forward\u001b[1m)\u001b[0m: \u001b[1;35mFeedForward\u001b[0m\u001b[1m(\u001b[0m                                                    \u001b[2m              \u001b[0m\n",
       "\u001b[2;36m           \u001b[0m            \u001b[1m(\u001b[0mintermediate_dense\u001b[1m)\u001b[0m: \u001b[1;35mLinear\u001b[0m\u001b[1m(\u001b[0m\u001b[33min_features\u001b[0m=\u001b[1;36m768\u001b[0m, \u001b[33mout_features\u001b[0m=\u001b[1;36m3072\u001b[0m, \u001b[33mbias\u001b[0m=\u001b[3;92mTrue\u001b[0m\u001b[1m)\u001b[0m   \u001b[2m              \u001b[0m\n",
       "\u001b[2;36m           \u001b[0m            \u001b[1m(\u001b[0mintermediate_dropout\u001b[1m)\u001b[0m: \u001b[1;35mDropout\u001b[0m\u001b[1m(\u001b[0m\u001b[33mp\u001b[0m=\u001b[1;36m0\u001b[0m\u001b[1;36m.0\u001b[0m, \u001b[33minplace\u001b[0m=\u001b[3;91mFalse\u001b[0m\u001b[1m)\u001b[0m                         \u001b[2m              \u001b[0m\n",
       "\u001b[2;36m           \u001b[0m            \u001b[1m(\u001b[0moutput_dense\u001b[1m)\u001b[0m: \u001b[1;35mLinear\u001b[0m\u001b[1m(\u001b[0m\u001b[33min_features\u001b[0m=\u001b[1;36m3072\u001b[0m, \u001b[33mout_features\u001b[0m=\u001b[1;36m768\u001b[0m, \u001b[33mbias\u001b[0m=\u001b[3;92mTrue\u001b[0m\u001b[1m)\u001b[0m         \u001b[2m              \u001b[0m\n",
       "\u001b[2;36m           \u001b[0m            \u001b[1m(\u001b[0moutput_dropout\u001b[1m)\u001b[0m: \u001b[1;35mDropout\u001b[0m\u001b[1m(\u001b[0m\u001b[33mp\u001b[0m=\u001b[1;36m0\u001b[0m\u001b[1;36m.1\u001b[0m, \u001b[33minplace\u001b[0m=\u001b[3;91mFalse\u001b[0m\u001b[1m)\u001b[0m                               \u001b[2m              \u001b[0m\n",
       "\u001b[2;36m           \u001b[0m          \u001b[1m)\u001b[0m                                                                               \u001b[2m              \u001b[0m\n",
       "\u001b[2;36m           \u001b[0m          \u001b[1m(\u001b[0mfinal_layer_norm\u001b[1m)\u001b[0m: \u001b[1;35mLayerNorm\u001b[0m\u001b[1m(\u001b[0m\u001b[1m(\u001b[0m\u001b[1;36m768\u001b[0m,\u001b[1m)\u001b[0m, \u001b[33meps\u001b[0m=\u001b[1;36m1e\u001b[0m\u001b[1;36m-05\u001b[0m, \u001b[33melementwise_affine\u001b[0m=\u001b[3;92mTrue\u001b[0m\u001b[1m)\u001b[0m       \u001b[2m              \u001b[0m\n",
       "\u001b[2;36m           \u001b[0m        \u001b[1m)\u001b[0m                                                                                 \u001b[2m              \u001b[0m\n",
       "\u001b[2;36m           \u001b[0m      \u001b[1m)\u001b[0m                                                                                   \u001b[2m              \u001b[0m\n",
       "\u001b[2;36m           \u001b[0m    \u001b[1m)\u001b[0m                                                                                     \u001b[2m              \u001b[0m\n",
       "\u001b[2;36m           \u001b[0m  \u001b[1m)\u001b[0m                                                                                       \u001b[2m              \u001b[0m\n",
       "\u001b[2;36m           \u001b[0m  \u001b[1m(\u001b[0maux\u001b[1m)\u001b[0m: \u001b[1;35mSequential\u001b[0m\u001b[1m(\u001b[0m                                                                      \u001b[2m              \u001b[0m\n",
       "\u001b[2;36m           \u001b[0m    \u001b[1m(\u001b[0m\u001b[1;36m0\u001b[0m\u001b[1m)\u001b[0m: \u001b[1;35mLinear\u001b[0m\u001b[1m(\u001b[0m\u001b[33min_features\u001b[0m=\u001b[1;36m768\u001b[0m, \u001b[33mout_features\u001b[0m=\u001b[1;36m29\u001b[0m, \u001b[33mbias\u001b[0m=\u001b[3;92mTrue\u001b[0m\u001b[1m)\u001b[0m                              \u001b[2m              \u001b[0m\n",
       "\u001b[2;36m           \u001b[0m    \u001b[1m(\u001b[0m\u001b[1;36m1\u001b[0m\u001b[1m)\u001b[0m: \u001b[1;35mConv1d\u001b[0m\u001b[1m(\u001b[0m\u001b[1;36m49\u001b[0m, \u001b[1;36m8\u001b[0m, \u001b[33mkernel_size\u001b[0m=\u001b[1m(\u001b[0m\u001b[1;36m29\u001b[0m,\u001b[1m)\u001b[0m, \u001b[33mstride\u001b[0m=\u001b[1m(\u001b[0m\u001b[1;36m1\u001b[0m,\u001b[1m)\u001b[0m\u001b[1m)\u001b[0m                                    \u001b[2m              \u001b[0m\n",
       "\u001b[2;36m           \u001b[0m  \u001b[1m)\u001b[0m                                                                                       \u001b[2m              \u001b[0m\n",
       "\u001b[2;36m           \u001b[0m\u001b[1m)\u001b[0m                                                                                         \u001b[2m              \u001b[0m\n"
      ]
     },
     "metadata": {},
     "output_type": "display_data"
    }
   ],
   "source": [
    "console.log(model)"
   ]
  },
  {
   "cell_type": "code",
   "execution_count": 21,
   "id": "62b50be9-9b3b-4145-804b-be8034f0259b",
   "metadata": {},
   "outputs": [],
   "source": [
    "model2 = torchaudio.models.wav2vec2_base(aux_num_out=8)\n",
    "model2.aux = torch.nn.Sequential(\n",
    "    torch.nn.Flatten(),\n",
    "    torch.nn.Linear(in_features=37632, out_features=4096, device=device),\n",
    "    torch.nn.Linear(in_features=4096, out_features=8, bias=True, device=device)\n",
    "    \n",
    ")"
   ]
  },
  {
   "cell_type": "code",
   "execution_count": 22,
   "id": "d7e10ddf-a1e1-4a2f-beb3-7e85b8b6ff03",
   "metadata": {},
   "outputs": [
    {
     "data": {
      "text/plain": [
       "<All keys matched successfully>"
      ]
     },
     "execution_count": 22,
     "metadata": {},
     "output_type": "execute_result"
    }
   ],
   "source": [
    "model2.load_state_dict(model.state_dict())"
   ]
  },
  {
   "cell_type": "code",
   "execution_count": 42,
   "id": "ea275855-1ffc-4e12-9cd7-d8384048b343",
   "metadata": {},
   "outputs": [
    {
     "data": {
      "text/html": [
       "<pre style=\"white-space:pre;overflow-x:auto;line-height:normal;font-family:Menlo,'DejaVu Sans Mono',consolas,'Courier New',monospace\"><span style=\"color: #7fbfbf; text-decoration-color: #7fbfbf\">[18:09:23] </span><span style=\"color: #800080; text-decoration-color: #800080; font-weight: bold\">Wav2Vec2Model</span><span style=\"font-weight: bold\">(</span>                                                                           <a href=\"file:///tmp/ipykernel_1521672/1939789862.py\" target=\"_blank\"><span style=\"color: #7f7f7f; text-decoration-color: #7f7f7f\">1939789862.py</span></a><span style=\"color: #7f7f7f; text-decoration-color: #7f7f7f\">:</span><a href=\"file:///tmp/ipykernel_1521672/1939789862.py#1\" target=\"_blank\"><span style=\"color: #7f7f7f; text-decoration-color: #7f7f7f\">1</span></a>\n",
       "<span style=\"color: #7fbfbf; text-decoration-color: #7fbfbf\">           </span>  <span style=\"font-weight: bold\">(</span>feature_extractor<span style=\"font-weight: bold\">)</span>: <span style=\"color: #800080; text-decoration-color: #800080; font-weight: bold\">FeatureExtractor</span><span style=\"font-weight: bold\">(</span>                                                 <span style=\"color: #7f7f7f; text-decoration-color: #7f7f7f\">               </span>\n",
       "<span style=\"color: #7fbfbf; text-decoration-color: #7fbfbf\">           </span>    <span style=\"font-weight: bold\">(</span>conv_layers<span style=\"font-weight: bold\">)</span>: <span style=\"color: #800080; text-decoration-color: #800080; font-weight: bold\">ModuleList</span><span style=\"font-weight: bold\">(</span>                                                           <span style=\"color: #7f7f7f; text-decoration-color: #7f7f7f\">               </span>\n",
       "<span style=\"color: #7fbfbf; text-decoration-color: #7fbfbf\">           </span>      <span style=\"font-weight: bold\">(</span><span style=\"color: #008080; text-decoration-color: #008080; font-weight: bold\">0</span><span style=\"font-weight: bold\">)</span>: <span style=\"color: #800080; text-decoration-color: #800080; font-weight: bold\">ConvLayerBlock</span><span style=\"font-weight: bold\">(</span>                                                               <span style=\"color: #7f7f7f; text-decoration-color: #7f7f7f\">               </span>\n",
       "<span style=\"color: #7fbfbf; text-decoration-color: #7fbfbf\">           </span>        <span style=\"font-weight: bold\">(</span>layer_norm<span style=\"font-weight: bold\">)</span>: <span style=\"color: #800080; text-decoration-color: #800080; font-weight: bold\">GroupNorm</span><span style=\"font-weight: bold\">(</span><span style=\"color: #008080; text-decoration-color: #008080; font-weight: bold\">512</span>, <span style=\"color: #008080; text-decoration-color: #008080; font-weight: bold\">512</span>, <span style=\"color: #808000; text-decoration-color: #808000\">eps</span>=<span style=\"color: #008080; text-decoration-color: #008080; font-weight: bold\">1e-05</span>, <span style=\"color: #808000; text-decoration-color: #808000\">affine</span>=<span style=\"color: #00ff00; text-decoration-color: #00ff00; font-style: italic\">True</span><span style=\"font-weight: bold\">)</span>                        <span style=\"color: #7f7f7f; text-decoration-color: #7f7f7f\">               </span>\n",
       "<span style=\"color: #7fbfbf; text-decoration-color: #7fbfbf\">           </span>        <span style=\"font-weight: bold\">(</span>conv<span style=\"font-weight: bold\">)</span>: <span style=\"color: #800080; text-decoration-color: #800080; font-weight: bold\">Conv1d</span><span style=\"font-weight: bold\">(</span><span style=\"color: #008080; text-decoration-color: #008080; font-weight: bold\">1</span>, <span style=\"color: #008080; text-decoration-color: #008080; font-weight: bold\">512</span>, <span style=\"color: #808000; text-decoration-color: #808000\">kernel_size</span>=<span style=\"font-weight: bold\">(</span><span style=\"color: #008080; text-decoration-color: #008080; font-weight: bold\">10</span>,<span style=\"font-weight: bold\">)</span>, <span style=\"color: #808000; text-decoration-color: #808000\">stride</span>=<span style=\"font-weight: bold\">(</span><span style=\"color: #008080; text-decoration-color: #008080; font-weight: bold\">5</span>,<span style=\"font-weight: bold\">)</span>, <span style=\"color: #808000; text-decoration-color: #808000\">bias</span>=<span style=\"color: #ff0000; text-decoration-color: #ff0000; font-style: italic\">False</span><span style=\"font-weight: bold\">)</span>               <span style=\"color: #7f7f7f; text-decoration-color: #7f7f7f\">               </span>\n",
       "<span style=\"color: #7fbfbf; text-decoration-color: #7fbfbf\">           </span>      <span style=\"font-weight: bold\">)</span>                                                                                  <span style=\"color: #7f7f7f; text-decoration-color: #7f7f7f\">               </span>\n",
       "<span style=\"color: #7fbfbf; text-decoration-color: #7fbfbf\">           </span>      <span style=\"font-weight: bold\">(</span><span style=\"color: #008080; text-decoration-color: #008080; font-weight: bold\">1</span>-<span style=\"color: #008080; text-decoration-color: #008080; font-weight: bold\">4</span><span style=\"font-weight: bold\">)</span>: <span style=\"color: #008080; text-decoration-color: #008080; font-weight: bold\">4</span> x <span style=\"color: #800080; text-decoration-color: #800080; font-weight: bold\">ConvLayerBlock</span><span style=\"font-weight: bold\">(</span>                                                         <span style=\"color: #7f7f7f; text-decoration-color: #7f7f7f\">               </span>\n",
       "<span style=\"color: #7fbfbf; text-decoration-color: #7fbfbf\">           </span>        <span style=\"font-weight: bold\">(</span>conv<span style=\"font-weight: bold\">)</span>: <span style=\"color: #800080; text-decoration-color: #800080; font-weight: bold\">Conv1d</span><span style=\"font-weight: bold\">(</span><span style=\"color: #008080; text-decoration-color: #008080; font-weight: bold\">512</span>, <span style=\"color: #008080; text-decoration-color: #008080; font-weight: bold\">512</span>, <span style=\"color: #808000; text-decoration-color: #808000\">kernel_size</span>=<span style=\"font-weight: bold\">(</span><span style=\"color: #008080; text-decoration-color: #008080; font-weight: bold\">3</span>,<span style=\"font-weight: bold\">)</span>, <span style=\"color: #808000; text-decoration-color: #808000\">stride</span>=<span style=\"font-weight: bold\">(</span><span style=\"color: #008080; text-decoration-color: #008080; font-weight: bold\">2</span>,<span style=\"font-weight: bold\">)</span>, <span style=\"color: #808000; text-decoration-color: #808000\">bias</span>=<span style=\"color: #ff0000; text-decoration-color: #ff0000; font-style: italic\">False</span><span style=\"font-weight: bold\">)</span>              <span style=\"color: #7f7f7f; text-decoration-color: #7f7f7f\">               </span>\n",
       "<span style=\"color: #7fbfbf; text-decoration-color: #7fbfbf\">           </span>      <span style=\"font-weight: bold\">)</span>                                                                                  <span style=\"color: #7f7f7f; text-decoration-color: #7f7f7f\">               </span>\n",
       "<span style=\"color: #7fbfbf; text-decoration-color: #7fbfbf\">           </span>      <span style=\"font-weight: bold\">(</span><span style=\"color: #008080; text-decoration-color: #008080; font-weight: bold\">5</span>-<span style=\"color: #008080; text-decoration-color: #008080; font-weight: bold\">6</span><span style=\"font-weight: bold\">)</span>: <span style=\"color: #008080; text-decoration-color: #008080; font-weight: bold\">2</span> x <span style=\"color: #800080; text-decoration-color: #800080; font-weight: bold\">ConvLayerBlock</span><span style=\"font-weight: bold\">(</span>                                                         <span style=\"color: #7f7f7f; text-decoration-color: #7f7f7f\">               </span>\n",
       "<span style=\"color: #7fbfbf; text-decoration-color: #7fbfbf\">           </span>        <span style=\"font-weight: bold\">(</span>conv<span style=\"font-weight: bold\">)</span>: <span style=\"color: #800080; text-decoration-color: #800080; font-weight: bold\">Conv1d</span><span style=\"font-weight: bold\">(</span><span style=\"color: #008080; text-decoration-color: #008080; font-weight: bold\">512</span>, <span style=\"color: #008080; text-decoration-color: #008080; font-weight: bold\">512</span>, <span style=\"color: #808000; text-decoration-color: #808000\">kernel_size</span>=<span style=\"font-weight: bold\">(</span><span style=\"color: #008080; text-decoration-color: #008080; font-weight: bold\">2</span>,<span style=\"font-weight: bold\">)</span>, <span style=\"color: #808000; text-decoration-color: #808000\">stride</span>=<span style=\"font-weight: bold\">(</span><span style=\"color: #008080; text-decoration-color: #008080; font-weight: bold\">2</span>,<span style=\"font-weight: bold\">)</span>, <span style=\"color: #808000; text-decoration-color: #808000\">bias</span>=<span style=\"color: #ff0000; text-decoration-color: #ff0000; font-style: italic\">False</span><span style=\"font-weight: bold\">)</span>              <span style=\"color: #7f7f7f; text-decoration-color: #7f7f7f\">               </span>\n",
       "<span style=\"color: #7fbfbf; text-decoration-color: #7fbfbf\">           </span>      <span style=\"font-weight: bold\">)</span>                                                                                  <span style=\"color: #7f7f7f; text-decoration-color: #7f7f7f\">               </span>\n",
       "<span style=\"color: #7fbfbf; text-decoration-color: #7fbfbf\">           </span>    <span style=\"font-weight: bold\">)</span>                                                                                    <span style=\"color: #7f7f7f; text-decoration-color: #7f7f7f\">               </span>\n",
       "<span style=\"color: #7fbfbf; text-decoration-color: #7fbfbf\">           </span>  <span style=\"font-weight: bold\">)</span>                                                                                      <span style=\"color: #7f7f7f; text-decoration-color: #7f7f7f\">               </span>\n",
       "<span style=\"color: #7fbfbf; text-decoration-color: #7fbfbf\">           </span>  <span style=\"font-weight: bold\">(</span>encoder<span style=\"font-weight: bold\">)</span>: <span style=\"color: #800080; text-decoration-color: #800080; font-weight: bold\">Encoder</span><span style=\"font-weight: bold\">(</span>                                                                    <span style=\"color: #7f7f7f; text-decoration-color: #7f7f7f\">               </span>\n",
       "<span style=\"color: #7fbfbf; text-decoration-color: #7fbfbf\">           </span>    <span style=\"font-weight: bold\">(</span>feature_projection<span style=\"font-weight: bold\">)</span>: <span style=\"color: #800080; text-decoration-color: #800080; font-weight: bold\">FeatureProjection</span><span style=\"font-weight: bold\">(</span>                                             <span style=\"color: #7f7f7f; text-decoration-color: #7f7f7f\">               </span>\n",
       "<span style=\"color: #7fbfbf; text-decoration-color: #7fbfbf\">           </span>      <span style=\"font-weight: bold\">(</span>layer_norm<span style=\"font-weight: bold\">)</span>: <span style=\"color: #800080; text-decoration-color: #800080; font-weight: bold\">LayerNorm</span><span style=\"font-weight: bold\">((</span><span style=\"color: #008080; text-decoration-color: #008080; font-weight: bold\">512</span>,<span style=\"font-weight: bold\">)</span>, <span style=\"color: #808000; text-decoration-color: #808000\">eps</span>=<span style=\"color: #008080; text-decoration-color: #008080; font-weight: bold\">1e-05</span>, <span style=\"color: #808000; text-decoration-color: #808000\">elementwise_affine</span>=<span style=\"color: #00ff00; text-decoration-color: #00ff00; font-style: italic\">True</span><span style=\"font-weight: bold\">)</span>                <span style=\"color: #7f7f7f; text-decoration-color: #7f7f7f\">               </span>\n",
       "<span style=\"color: #7fbfbf; text-decoration-color: #7fbfbf\">           </span>      <span style=\"font-weight: bold\">(</span>projection<span style=\"font-weight: bold\">)</span>: <span style=\"color: #800080; text-decoration-color: #800080; font-weight: bold\">Linear</span><span style=\"font-weight: bold\">(</span><span style=\"color: #808000; text-decoration-color: #808000\">in_features</span>=<span style=\"color: #008080; text-decoration-color: #008080; font-weight: bold\">512</span>, <span style=\"color: #808000; text-decoration-color: #808000\">out_features</span>=<span style=\"color: #008080; text-decoration-color: #008080; font-weight: bold\">768</span>, <span style=\"color: #808000; text-decoration-color: #808000\">bias</span>=<span style=\"color: #00ff00; text-decoration-color: #00ff00; font-style: italic\">True</span><span style=\"font-weight: bold\">)</span>                 <span style=\"color: #7f7f7f; text-decoration-color: #7f7f7f\">               </span>\n",
       "<span style=\"color: #7fbfbf; text-decoration-color: #7fbfbf\">           </span>      <span style=\"font-weight: bold\">(</span>dropout<span style=\"font-weight: bold\">)</span>: <span style=\"color: #800080; text-decoration-color: #800080; font-weight: bold\">Dropout</span><span style=\"font-weight: bold\">(</span><span style=\"color: #808000; text-decoration-color: #808000\">p</span>=<span style=\"color: #008080; text-decoration-color: #008080; font-weight: bold\">0.1</span>, <span style=\"color: #808000; text-decoration-color: #808000\">inplace</span>=<span style=\"color: #ff0000; text-decoration-color: #ff0000; font-style: italic\">False</span><span style=\"font-weight: bold\">)</span>                                           <span style=\"color: #7f7f7f; text-decoration-color: #7f7f7f\">               </span>\n",
       "<span style=\"color: #7fbfbf; text-decoration-color: #7fbfbf\">           </span>    <span style=\"font-weight: bold\">)</span>                                                                                    <span style=\"color: #7f7f7f; text-decoration-color: #7f7f7f\">               </span>\n",
       "<span style=\"color: #7fbfbf; text-decoration-color: #7fbfbf\">           </span>    <span style=\"font-weight: bold\">(</span>transformer<span style=\"font-weight: bold\">)</span>: <span style=\"color: #800080; text-decoration-color: #800080; font-weight: bold\">Transformer</span><span style=\"font-weight: bold\">(</span>                                                          <span style=\"color: #7f7f7f; text-decoration-color: #7f7f7f\">               </span>\n",
       "<span style=\"color: #7fbfbf; text-decoration-color: #7fbfbf\">           </span>      <span style=\"font-weight: bold\">(</span>pos_conv_embed<span style=\"font-weight: bold\">)</span>: <span style=\"color: #800080; text-decoration-color: #800080; font-weight: bold\">ConvolutionalPositionalEmbedding</span><span style=\"font-weight: bold\">(</span>                                <span style=\"color: #7f7f7f; text-decoration-color: #7f7f7f\">               </span>\n",
       "<span style=\"color: #7fbfbf; text-decoration-color: #7fbfbf\">           </span>        <span style=\"font-weight: bold\">(</span>conv<span style=\"font-weight: bold\">)</span>: <span style=\"color: #800080; text-decoration-color: #800080; font-weight: bold\">Conv1d</span><span style=\"font-weight: bold\">(</span><span style=\"color: #008080; text-decoration-color: #008080; font-weight: bold\">768</span>, <span style=\"color: #008080; text-decoration-color: #008080; font-weight: bold\">768</span>, <span style=\"color: #808000; text-decoration-color: #808000\">kernel_size</span>=<span style=\"font-weight: bold\">(</span><span style=\"color: #008080; text-decoration-color: #008080; font-weight: bold\">128</span>,<span style=\"font-weight: bold\">)</span>, <span style=\"color: #808000; text-decoration-color: #808000\">stride</span>=<span style=\"font-weight: bold\">(</span><span style=\"color: #008080; text-decoration-color: #008080; font-weight: bold\">1</span>,<span style=\"font-weight: bold\">)</span>, <span style=\"color: #808000; text-decoration-color: #808000\">padding</span>=<span style=\"font-weight: bold\">(</span><span style=\"color: #008080; text-decoration-color: #008080; font-weight: bold\">64</span>,<span style=\"font-weight: bold\">)</span>,         <span style=\"color: #7f7f7f; text-decoration-color: #7f7f7f\">               </span>\n",
       "<span style=\"color: #7fbfbf; text-decoration-color: #7fbfbf\">           </span><span style=\"color: #808000; text-decoration-color: #808000\">groups</span>=<span style=\"color: #008080; text-decoration-color: #008080; font-weight: bold\">16</span><span style=\"font-weight: bold\">)</span>                                                                               <span style=\"color: #7f7f7f; text-decoration-color: #7f7f7f\">               </span>\n",
       "<span style=\"color: #7fbfbf; text-decoration-color: #7fbfbf\">           </span>      <span style=\"font-weight: bold\">)</span>                                                                                  <span style=\"color: #7f7f7f; text-decoration-color: #7f7f7f\">               </span>\n",
       "<span style=\"color: #7fbfbf; text-decoration-color: #7fbfbf\">           </span>      <span style=\"font-weight: bold\">(</span>layer_norm<span style=\"font-weight: bold\">)</span>: <span style=\"color: #800080; text-decoration-color: #800080; font-weight: bold\">LayerNorm</span><span style=\"font-weight: bold\">((</span><span style=\"color: #008080; text-decoration-color: #008080; font-weight: bold\">768</span>,<span style=\"font-weight: bold\">)</span>, <span style=\"color: #808000; text-decoration-color: #808000\">eps</span>=<span style=\"color: #008080; text-decoration-color: #008080; font-weight: bold\">1e-05</span>, <span style=\"color: #808000; text-decoration-color: #808000\">elementwise_affine</span>=<span style=\"color: #00ff00; text-decoration-color: #00ff00; font-style: italic\">True</span><span style=\"font-weight: bold\">)</span>                <span style=\"color: #7f7f7f; text-decoration-color: #7f7f7f\">               </span>\n",
       "<span style=\"color: #7fbfbf; text-decoration-color: #7fbfbf\">           </span>      <span style=\"font-weight: bold\">(</span>dropout<span style=\"font-weight: bold\">)</span>: <span style=\"color: #800080; text-decoration-color: #800080; font-weight: bold\">Dropout</span><span style=\"font-weight: bold\">(</span><span style=\"color: #808000; text-decoration-color: #808000\">p</span>=<span style=\"color: #008080; text-decoration-color: #008080; font-weight: bold\">0.1</span>, <span style=\"color: #808000; text-decoration-color: #808000\">inplace</span>=<span style=\"color: #ff0000; text-decoration-color: #ff0000; font-style: italic\">False</span><span style=\"font-weight: bold\">)</span>                                           <span style=\"color: #7f7f7f; text-decoration-color: #7f7f7f\">               </span>\n",
       "<span style=\"color: #7fbfbf; text-decoration-color: #7fbfbf\">           </span>      <span style=\"font-weight: bold\">(</span>layers<span style=\"font-weight: bold\">)</span>: <span style=\"color: #800080; text-decoration-color: #800080; font-weight: bold\">ModuleList</span><span style=\"font-weight: bold\">(</span>                                                              <span style=\"color: #7f7f7f; text-decoration-color: #7f7f7f\">               </span>\n",
       "<span style=\"color: #7fbfbf; text-decoration-color: #7fbfbf\">           </span>        <span style=\"font-weight: bold\">(</span><span style=\"color: #008080; text-decoration-color: #008080; font-weight: bold\">0</span>-<span style=\"color: #008080; text-decoration-color: #008080; font-weight: bold\">11</span><span style=\"font-weight: bold\">)</span>: <span style=\"color: #008080; text-decoration-color: #008080; font-weight: bold\">12</span> x <span style=\"color: #800080; text-decoration-color: #800080; font-weight: bold\">EncoderLayer</span><span style=\"font-weight: bold\">(</span>                                                       <span style=\"color: #7f7f7f; text-decoration-color: #7f7f7f\">               </span>\n",
       "<span style=\"color: #7fbfbf; text-decoration-color: #7fbfbf\">           </span>          <span style=\"font-weight: bold\">(</span>attention<span style=\"font-weight: bold\">)</span>: <span style=\"color: #800080; text-decoration-color: #800080; font-weight: bold\">SelfAttention</span><span style=\"font-weight: bold\">(</span>                                                    <span style=\"color: #7f7f7f; text-decoration-color: #7f7f7f\">               </span>\n",
       "<span style=\"color: #7fbfbf; text-decoration-color: #7fbfbf\">           </span>            <span style=\"font-weight: bold\">(</span>dropout<span style=\"font-weight: bold\">)</span>: <span style=\"color: #800080; text-decoration-color: #800080; font-weight: bold\">Dropout</span><span style=\"font-weight: bold\">(</span><span style=\"color: #808000; text-decoration-color: #808000\">p</span>=<span style=\"color: #008080; text-decoration-color: #008080; font-weight: bold\">0.1</span>, <span style=\"color: #808000; text-decoration-color: #808000\">inplace</span>=<span style=\"color: #ff0000; text-decoration-color: #ff0000; font-style: italic\">False</span><span style=\"font-weight: bold\">)</span>                                     <span style=\"color: #7f7f7f; text-decoration-color: #7f7f7f\">               </span>\n",
       "<span style=\"color: #7fbfbf; text-decoration-color: #7fbfbf\">           </span>            <span style=\"font-weight: bold\">(</span>k_proj<span style=\"font-weight: bold\">)</span>: <span style=\"color: #800080; text-decoration-color: #800080; font-weight: bold\">Linear</span><span style=\"font-weight: bold\">(</span><span style=\"color: #808000; text-decoration-color: #808000\">in_features</span>=<span style=\"color: #008080; text-decoration-color: #008080; font-weight: bold\">768</span>, <span style=\"color: #808000; text-decoration-color: #808000\">out_features</span>=<span style=\"color: #008080; text-decoration-color: #008080; font-weight: bold\">768</span>, <span style=\"color: #808000; text-decoration-color: #808000\">bias</span>=<span style=\"color: #00ff00; text-decoration-color: #00ff00; font-style: italic\">True</span><span style=\"font-weight: bold\">)</span>               <span style=\"color: #7f7f7f; text-decoration-color: #7f7f7f\">               </span>\n",
       "<span style=\"color: #7fbfbf; text-decoration-color: #7fbfbf\">           </span>            <span style=\"font-weight: bold\">(</span>v_proj<span style=\"font-weight: bold\">)</span>: <span style=\"color: #800080; text-decoration-color: #800080; font-weight: bold\">Linear</span><span style=\"font-weight: bold\">(</span><span style=\"color: #808000; text-decoration-color: #808000\">in_features</span>=<span style=\"color: #008080; text-decoration-color: #008080; font-weight: bold\">768</span>, <span style=\"color: #808000; text-decoration-color: #808000\">out_features</span>=<span style=\"color: #008080; text-decoration-color: #008080; font-weight: bold\">768</span>, <span style=\"color: #808000; text-decoration-color: #808000\">bias</span>=<span style=\"color: #00ff00; text-decoration-color: #00ff00; font-style: italic\">True</span><span style=\"font-weight: bold\">)</span>               <span style=\"color: #7f7f7f; text-decoration-color: #7f7f7f\">               </span>\n",
       "<span style=\"color: #7fbfbf; text-decoration-color: #7fbfbf\">           </span>            <span style=\"font-weight: bold\">(</span>q_proj<span style=\"font-weight: bold\">)</span>: <span style=\"color: #800080; text-decoration-color: #800080; font-weight: bold\">Linear</span><span style=\"font-weight: bold\">(</span><span style=\"color: #808000; text-decoration-color: #808000\">in_features</span>=<span style=\"color: #008080; text-decoration-color: #008080; font-weight: bold\">768</span>, <span style=\"color: #808000; text-decoration-color: #808000\">out_features</span>=<span style=\"color: #008080; text-decoration-color: #008080; font-weight: bold\">768</span>, <span style=\"color: #808000; text-decoration-color: #808000\">bias</span>=<span style=\"color: #00ff00; text-decoration-color: #00ff00; font-style: italic\">True</span><span style=\"font-weight: bold\">)</span>               <span style=\"color: #7f7f7f; text-decoration-color: #7f7f7f\">               </span>\n",
       "<span style=\"color: #7fbfbf; text-decoration-color: #7fbfbf\">           </span>            <span style=\"font-weight: bold\">(</span>out_proj<span style=\"font-weight: bold\">)</span>: <span style=\"color: #800080; text-decoration-color: #800080; font-weight: bold\">Linear</span><span style=\"font-weight: bold\">(</span><span style=\"color: #808000; text-decoration-color: #808000\">in_features</span>=<span style=\"color: #008080; text-decoration-color: #008080; font-weight: bold\">768</span>, <span style=\"color: #808000; text-decoration-color: #808000\">out_features</span>=<span style=\"color: #008080; text-decoration-color: #008080; font-weight: bold\">768</span>, <span style=\"color: #808000; text-decoration-color: #808000\">bias</span>=<span style=\"color: #00ff00; text-decoration-color: #00ff00; font-style: italic\">True</span><span style=\"font-weight: bold\">)</span>             <span style=\"color: #7f7f7f; text-decoration-color: #7f7f7f\">               </span>\n",
       "<span style=\"color: #7fbfbf; text-decoration-color: #7fbfbf\">           </span>          <span style=\"font-weight: bold\">)</span>                                                                              <span style=\"color: #7f7f7f; text-decoration-color: #7f7f7f\">               </span>\n",
       "<span style=\"color: #7fbfbf; text-decoration-color: #7fbfbf\">           </span>          <span style=\"font-weight: bold\">(</span>dropout<span style=\"font-weight: bold\">)</span>: <span style=\"color: #800080; text-decoration-color: #800080; font-weight: bold\">Dropout</span><span style=\"font-weight: bold\">(</span><span style=\"color: #808000; text-decoration-color: #808000\">p</span>=<span style=\"color: #008080; text-decoration-color: #008080; font-weight: bold\">0.1</span>, <span style=\"color: #808000; text-decoration-color: #808000\">inplace</span>=<span style=\"color: #ff0000; text-decoration-color: #ff0000; font-style: italic\">False</span><span style=\"font-weight: bold\">)</span>                                       <span style=\"color: #7f7f7f; text-decoration-color: #7f7f7f\">               </span>\n",
       "<span style=\"color: #7fbfbf; text-decoration-color: #7fbfbf\">           </span>          <span style=\"font-weight: bold\">(</span>layer_norm<span style=\"font-weight: bold\">)</span>: <span style=\"color: #800080; text-decoration-color: #800080; font-weight: bold\">LayerNorm</span><span style=\"font-weight: bold\">((</span><span style=\"color: #008080; text-decoration-color: #008080; font-weight: bold\">768</span>,<span style=\"font-weight: bold\">)</span>, <span style=\"color: #808000; text-decoration-color: #808000\">eps</span>=<span style=\"color: #008080; text-decoration-color: #008080; font-weight: bold\">1e-05</span>, <span style=\"color: #808000; text-decoration-color: #808000\">elementwise_affine</span>=<span style=\"color: #00ff00; text-decoration-color: #00ff00; font-style: italic\">True</span><span style=\"font-weight: bold\">)</span>            <span style=\"color: #7f7f7f; text-decoration-color: #7f7f7f\">               </span>\n",
       "<span style=\"color: #7fbfbf; text-decoration-color: #7fbfbf\">           </span>          <span style=\"font-weight: bold\">(</span>feed_forward<span style=\"font-weight: bold\">)</span>: <span style=\"color: #800080; text-decoration-color: #800080; font-weight: bold\">FeedForward</span><span style=\"font-weight: bold\">(</span>                                                   <span style=\"color: #7f7f7f; text-decoration-color: #7f7f7f\">               </span>\n",
       "<span style=\"color: #7fbfbf; text-decoration-color: #7fbfbf\">           </span>            <span style=\"font-weight: bold\">(</span>intermediate_dense<span style=\"font-weight: bold\">)</span>: <span style=\"color: #800080; text-decoration-color: #800080; font-weight: bold\">Linear</span><span style=\"font-weight: bold\">(</span><span style=\"color: #808000; text-decoration-color: #808000\">in_features</span>=<span style=\"color: #008080; text-decoration-color: #008080; font-weight: bold\">768</span>, <span style=\"color: #808000; text-decoration-color: #808000\">out_features</span>=<span style=\"color: #008080; text-decoration-color: #008080; font-weight: bold\">3072</span>, <span style=\"color: #808000; text-decoration-color: #808000\">bias</span>=<span style=\"color: #00ff00; text-decoration-color: #00ff00; font-style: italic\">True</span><span style=\"font-weight: bold\">)</span>  <span style=\"color: #7f7f7f; text-decoration-color: #7f7f7f\">               </span>\n",
       "<span style=\"color: #7fbfbf; text-decoration-color: #7fbfbf\">           </span>            <span style=\"font-weight: bold\">(</span>intermediate_dropout<span style=\"font-weight: bold\">)</span>: <span style=\"color: #800080; text-decoration-color: #800080; font-weight: bold\">Dropout</span><span style=\"font-weight: bold\">(</span><span style=\"color: #808000; text-decoration-color: #808000\">p</span>=<span style=\"color: #008080; text-decoration-color: #008080; font-weight: bold\">0.1</span>, <span style=\"color: #808000; text-decoration-color: #808000\">inplace</span>=<span style=\"color: #ff0000; text-decoration-color: #ff0000; font-style: italic\">False</span><span style=\"font-weight: bold\">)</span>                        <span style=\"color: #7f7f7f; text-decoration-color: #7f7f7f\">               </span>\n",
       "<span style=\"color: #7fbfbf; text-decoration-color: #7fbfbf\">           </span>            <span style=\"font-weight: bold\">(</span>output_dense<span style=\"font-weight: bold\">)</span>: <span style=\"color: #800080; text-decoration-color: #800080; font-weight: bold\">Linear</span><span style=\"font-weight: bold\">(</span><span style=\"color: #808000; text-decoration-color: #808000\">in_features</span>=<span style=\"color: #008080; text-decoration-color: #008080; font-weight: bold\">3072</span>, <span style=\"color: #808000; text-decoration-color: #808000\">out_features</span>=<span style=\"color: #008080; text-decoration-color: #008080; font-weight: bold\">768</span>, <span style=\"color: #808000; text-decoration-color: #808000\">bias</span>=<span style=\"color: #00ff00; text-decoration-color: #00ff00; font-style: italic\">True</span><span style=\"font-weight: bold\">)</span>        <span style=\"color: #7f7f7f; text-decoration-color: #7f7f7f\">               </span>\n",
       "<span style=\"color: #7fbfbf; text-decoration-color: #7fbfbf\">           </span>            <span style=\"font-weight: bold\">(</span>output_dropout<span style=\"font-weight: bold\">)</span>: <span style=\"color: #800080; text-decoration-color: #800080; font-weight: bold\">Dropout</span><span style=\"font-weight: bold\">(</span><span style=\"color: #808000; text-decoration-color: #808000\">p</span>=<span style=\"color: #008080; text-decoration-color: #008080; font-weight: bold\">0.1</span>, <span style=\"color: #808000; text-decoration-color: #808000\">inplace</span>=<span style=\"color: #ff0000; text-decoration-color: #ff0000; font-style: italic\">False</span><span style=\"font-weight: bold\">)</span>                              <span style=\"color: #7f7f7f; text-decoration-color: #7f7f7f\">               </span>\n",
       "<span style=\"color: #7fbfbf; text-decoration-color: #7fbfbf\">           </span>          <span style=\"font-weight: bold\">)</span>                                                                              <span style=\"color: #7f7f7f; text-decoration-color: #7f7f7f\">               </span>\n",
       "<span style=\"color: #7fbfbf; text-decoration-color: #7fbfbf\">           </span>          <span style=\"font-weight: bold\">(</span>final_layer_norm<span style=\"font-weight: bold\">)</span>: <span style=\"color: #800080; text-decoration-color: #800080; font-weight: bold\">LayerNorm</span><span style=\"font-weight: bold\">((</span><span style=\"color: #008080; text-decoration-color: #008080; font-weight: bold\">768</span>,<span style=\"font-weight: bold\">)</span>, <span style=\"color: #808000; text-decoration-color: #808000\">eps</span>=<span style=\"color: #008080; text-decoration-color: #008080; font-weight: bold\">1e-05</span>, <span style=\"color: #808000; text-decoration-color: #808000\">elementwise_affine</span>=<span style=\"color: #00ff00; text-decoration-color: #00ff00; font-style: italic\">True</span><span style=\"font-weight: bold\">)</span>      <span style=\"color: #7f7f7f; text-decoration-color: #7f7f7f\">               </span>\n",
       "<span style=\"color: #7fbfbf; text-decoration-color: #7fbfbf\">           </span>        <span style=\"font-weight: bold\">)</span>                                                                                <span style=\"color: #7f7f7f; text-decoration-color: #7f7f7f\">               </span>\n",
       "<span style=\"color: #7fbfbf; text-decoration-color: #7fbfbf\">           </span>      <span style=\"font-weight: bold\">)</span>                                                                                  <span style=\"color: #7f7f7f; text-decoration-color: #7f7f7f\">               </span>\n",
       "<span style=\"color: #7fbfbf; text-decoration-color: #7fbfbf\">           </span>    <span style=\"font-weight: bold\">)</span>                                                                                    <span style=\"color: #7f7f7f; text-decoration-color: #7f7f7f\">               </span>\n",
       "<span style=\"color: #7fbfbf; text-decoration-color: #7fbfbf\">           </span>  <span style=\"font-weight: bold\">)</span>                                                                                      <span style=\"color: #7f7f7f; text-decoration-color: #7f7f7f\">               </span>\n",
       "<span style=\"color: #7fbfbf; text-decoration-color: #7fbfbf\">           </span>  <span style=\"font-weight: bold\">(</span>aux<span style=\"font-weight: bold\">)</span>: <span style=\"color: #800080; text-decoration-color: #800080; font-weight: bold\">Linear</span><span style=\"font-weight: bold\">(</span><span style=\"color: #808000; text-decoration-color: #808000\">in_features</span>=<span style=\"color: #008080; text-decoration-color: #008080; font-weight: bold\">768</span>, <span style=\"color: #808000; text-decoration-color: #808000\">out_features</span>=<span style=\"color: #008080; text-decoration-color: #008080; font-weight: bold\">8</span>, <span style=\"color: #808000; text-decoration-color: #808000\">bias</span>=<span style=\"color: #00ff00; text-decoration-color: #00ff00; font-style: italic\">True</span><span style=\"font-weight: bold\">)</span>                              <span style=\"color: #7f7f7f; text-decoration-color: #7f7f7f\">               </span>\n",
       "<span style=\"color: #7fbfbf; text-decoration-color: #7fbfbf\">           </span><span style=\"font-weight: bold\">)</span>                                                                                        <span style=\"color: #7f7f7f; text-decoration-color: #7f7f7f\">               </span>\n",
       "</pre>\n"
      ],
      "text/plain": [
       "\u001b[2;36m[18:09:23]\u001b[0m\u001b[2;36m \u001b[0m\u001b[1;35mWav2Vec2Model\u001b[0m\u001b[1m(\u001b[0m                                                                           \u001b]8;id=892202;file:///tmp/ipykernel_1521672/1939789862.py\u001b\\\u001b[2m1939789862.py\u001b[0m\u001b]8;;\u001b\\\u001b[2m:\u001b[0m\u001b]8;id=411950;file:///tmp/ipykernel_1521672/1939789862.py#1\u001b\\\u001b[2m1\u001b[0m\u001b]8;;\u001b\\\n",
       "\u001b[2;36m           \u001b[0m  \u001b[1m(\u001b[0mfeature_extractor\u001b[1m)\u001b[0m: \u001b[1;35mFeatureExtractor\u001b[0m\u001b[1m(\u001b[0m                                                 \u001b[2m               \u001b[0m\n",
       "\u001b[2;36m           \u001b[0m    \u001b[1m(\u001b[0mconv_layers\u001b[1m)\u001b[0m: \u001b[1;35mModuleList\u001b[0m\u001b[1m(\u001b[0m                                                           \u001b[2m               \u001b[0m\n",
       "\u001b[2;36m           \u001b[0m      \u001b[1m(\u001b[0m\u001b[1;36m0\u001b[0m\u001b[1m)\u001b[0m: \u001b[1;35mConvLayerBlock\u001b[0m\u001b[1m(\u001b[0m                                                               \u001b[2m               \u001b[0m\n",
       "\u001b[2;36m           \u001b[0m        \u001b[1m(\u001b[0mlayer_norm\u001b[1m)\u001b[0m: \u001b[1;35mGroupNorm\u001b[0m\u001b[1m(\u001b[0m\u001b[1;36m512\u001b[0m, \u001b[1;36m512\u001b[0m, \u001b[33meps\u001b[0m=\u001b[1;36m1e\u001b[0m\u001b[1;36m-05\u001b[0m, \u001b[33maffine\u001b[0m=\u001b[3;92mTrue\u001b[0m\u001b[1m)\u001b[0m                        \u001b[2m               \u001b[0m\n",
       "\u001b[2;36m           \u001b[0m        \u001b[1m(\u001b[0mconv\u001b[1m)\u001b[0m: \u001b[1;35mConv1d\u001b[0m\u001b[1m(\u001b[0m\u001b[1;36m1\u001b[0m, \u001b[1;36m512\u001b[0m, \u001b[33mkernel_size\u001b[0m=\u001b[1m(\u001b[0m\u001b[1;36m10\u001b[0m,\u001b[1m)\u001b[0m, \u001b[33mstride\u001b[0m=\u001b[1m(\u001b[0m\u001b[1;36m5\u001b[0m,\u001b[1m)\u001b[0m, \u001b[33mbias\u001b[0m=\u001b[3;91mFalse\u001b[0m\u001b[1m)\u001b[0m               \u001b[2m               \u001b[0m\n",
       "\u001b[2;36m           \u001b[0m      \u001b[1m)\u001b[0m                                                                                  \u001b[2m               \u001b[0m\n",
       "\u001b[2;36m           \u001b[0m      \u001b[1m(\u001b[0m\u001b[1;36m1\u001b[0m-\u001b[1;36m4\u001b[0m\u001b[1m)\u001b[0m: \u001b[1;36m4\u001b[0m x \u001b[1;35mConvLayerBlock\u001b[0m\u001b[1m(\u001b[0m                                                         \u001b[2m               \u001b[0m\n",
       "\u001b[2;36m           \u001b[0m        \u001b[1m(\u001b[0mconv\u001b[1m)\u001b[0m: \u001b[1;35mConv1d\u001b[0m\u001b[1m(\u001b[0m\u001b[1;36m512\u001b[0m, \u001b[1;36m512\u001b[0m, \u001b[33mkernel_size\u001b[0m=\u001b[1m(\u001b[0m\u001b[1;36m3\u001b[0m,\u001b[1m)\u001b[0m, \u001b[33mstride\u001b[0m=\u001b[1m(\u001b[0m\u001b[1;36m2\u001b[0m,\u001b[1m)\u001b[0m, \u001b[33mbias\u001b[0m=\u001b[3;91mFalse\u001b[0m\u001b[1m)\u001b[0m              \u001b[2m               \u001b[0m\n",
       "\u001b[2;36m           \u001b[0m      \u001b[1m)\u001b[0m                                                                                  \u001b[2m               \u001b[0m\n",
       "\u001b[2;36m           \u001b[0m      \u001b[1m(\u001b[0m\u001b[1;36m5\u001b[0m-\u001b[1;36m6\u001b[0m\u001b[1m)\u001b[0m: \u001b[1;36m2\u001b[0m x \u001b[1;35mConvLayerBlock\u001b[0m\u001b[1m(\u001b[0m                                                         \u001b[2m               \u001b[0m\n",
       "\u001b[2;36m           \u001b[0m        \u001b[1m(\u001b[0mconv\u001b[1m)\u001b[0m: \u001b[1;35mConv1d\u001b[0m\u001b[1m(\u001b[0m\u001b[1;36m512\u001b[0m, \u001b[1;36m512\u001b[0m, \u001b[33mkernel_size\u001b[0m=\u001b[1m(\u001b[0m\u001b[1;36m2\u001b[0m,\u001b[1m)\u001b[0m, \u001b[33mstride\u001b[0m=\u001b[1m(\u001b[0m\u001b[1;36m2\u001b[0m,\u001b[1m)\u001b[0m, \u001b[33mbias\u001b[0m=\u001b[3;91mFalse\u001b[0m\u001b[1m)\u001b[0m              \u001b[2m               \u001b[0m\n",
       "\u001b[2;36m           \u001b[0m      \u001b[1m)\u001b[0m                                                                                  \u001b[2m               \u001b[0m\n",
       "\u001b[2;36m           \u001b[0m    \u001b[1m)\u001b[0m                                                                                    \u001b[2m               \u001b[0m\n",
       "\u001b[2;36m           \u001b[0m  \u001b[1m)\u001b[0m                                                                                      \u001b[2m               \u001b[0m\n",
       "\u001b[2;36m           \u001b[0m  \u001b[1m(\u001b[0mencoder\u001b[1m)\u001b[0m: \u001b[1;35mEncoder\u001b[0m\u001b[1m(\u001b[0m                                                                    \u001b[2m               \u001b[0m\n",
       "\u001b[2;36m           \u001b[0m    \u001b[1m(\u001b[0mfeature_projection\u001b[1m)\u001b[0m: \u001b[1;35mFeatureProjection\u001b[0m\u001b[1m(\u001b[0m                                             \u001b[2m               \u001b[0m\n",
       "\u001b[2;36m           \u001b[0m      \u001b[1m(\u001b[0mlayer_norm\u001b[1m)\u001b[0m: \u001b[1;35mLayerNorm\u001b[0m\u001b[1m(\u001b[0m\u001b[1m(\u001b[0m\u001b[1;36m512\u001b[0m,\u001b[1m)\u001b[0m, \u001b[33meps\u001b[0m=\u001b[1;36m1e\u001b[0m\u001b[1;36m-05\u001b[0m, \u001b[33melementwise_affine\u001b[0m=\u001b[3;92mTrue\u001b[0m\u001b[1m)\u001b[0m                \u001b[2m               \u001b[0m\n",
       "\u001b[2;36m           \u001b[0m      \u001b[1m(\u001b[0mprojection\u001b[1m)\u001b[0m: \u001b[1;35mLinear\u001b[0m\u001b[1m(\u001b[0m\u001b[33min_features\u001b[0m=\u001b[1;36m512\u001b[0m, \u001b[33mout_features\u001b[0m=\u001b[1;36m768\u001b[0m, \u001b[33mbias\u001b[0m=\u001b[3;92mTrue\u001b[0m\u001b[1m)\u001b[0m                 \u001b[2m               \u001b[0m\n",
       "\u001b[2;36m           \u001b[0m      \u001b[1m(\u001b[0mdropout\u001b[1m)\u001b[0m: \u001b[1;35mDropout\u001b[0m\u001b[1m(\u001b[0m\u001b[33mp\u001b[0m=\u001b[1;36m0\u001b[0m\u001b[1;36m.1\u001b[0m, \u001b[33minplace\u001b[0m=\u001b[3;91mFalse\u001b[0m\u001b[1m)\u001b[0m                                           \u001b[2m               \u001b[0m\n",
       "\u001b[2;36m           \u001b[0m    \u001b[1m)\u001b[0m                                                                                    \u001b[2m               \u001b[0m\n",
       "\u001b[2;36m           \u001b[0m    \u001b[1m(\u001b[0mtransformer\u001b[1m)\u001b[0m: \u001b[1;35mTransformer\u001b[0m\u001b[1m(\u001b[0m                                                          \u001b[2m               \u001b[0m\n",
       "\u001b[2;36m           \u001b[0m      \u001b[1m(\u001b[0mpos_conv_embed\u001b[1m)\u001b[0m: \u001b[1;35mConvolutionalPositionalEmbedding\u001b[0m\u001b[1m(\u001b[0m                                \u001b[2m               \u001b[0m\n",
       "\u001b[2;36m           \u001b[0m        \u001b[1m(\u001b[0mconv\u001b[1m)\u001b[0m: \u001b[1;35mConv1d\u001b[0m\u001b[1m(\u001b[0m\u001b[1;36m768\u001b[0m, \u001b[1;36m768\u001b[0m, \u001b[33mkernel_size\u001b[0m=\u001b[1m(\u001b[0m\u001b[1;36m128\u001b[0m,\u001b[1m)\u001b[0m, \u001b[33mstride\u001b[0m=\u001b[1m(\u001b[0m\u001b[1;36m1\u001b[0m,\u001b[1m)\u001b[0m, \u001b[33mpadding\u001b[0m=\u001b[1m(\u001b[0m\u001b[1;36m64\u001b[0m,\u001b[1m)\u001b[0m,         \u001b[2m               \u001b[0m\n",
       "\u001b[2;36m           \u001b[0m\u001b[33mgroups\u001b[0m=\u001b[1;36m16\u001b[0m\u001b[1m)\u001b[0m                                                                               \u001b[2m               \u001b[0m\n",
       "\u001b[2;36m           \u001b[0m      \u001b[1m)\u001b[0m                                                                                  \u001b[2m               \u001b[0m\n",
       "\u001b[2;36m           \u001b[0m      \u001b[1m(\u001b[0mlayer_norm\u001b[1m)\u001b[0m: \u001b[1;35mLayerNorm\u001b[0m\u001b[1m(\u001b[0m\u001b[1m(\u001b[0m\u001b[1;36m768\u001b[0m,\u001b[1m)\u001b[0m, \u001b[33meps\u001b[0m=\u001b[1;36m1e\u001b[0m\u001b[1;36m-05\u001b[0m, \u001b[33melementwise_affine\u001b[0m=\u001b[3;92mTrue\u001b[0m\u001b[1m)\u001b[0m                \u001b[2m               \u001b[0m\n",
       "\u001b[2;36m           \u001b[0m      \u001b[1m(\u001b[0mdropout\u001b[1m)\u001b[0m: \u001b[1;35mDropout\u001b[0m\u001b[1m(\u001b[0m\u001b[33mp\u001b[0m=\u001b[1;36m0\u001b[0m\u001b[1;36m.1\u001b[0m, \u001b[33minplace\u001b[0m=\u001b[3;91mFalse\u001b[0m\u001b[1m)\u001b[0m                                           \u001b[2m               \u001b[0m\n",
       "\u001b[2;36m           \u001b[0m      \u001b[1m(\u001b[0mlayers\u001b[1m)\u001b[0m: \u001b[1;35mModuleList\u001b[0m\u001b[1m(\u001b[0m                                                              \u001b[2m               \u001b[0m\n",
       "\u001b[2;36m           \u001b[0m        \u001b[1m(\u001b[0m\u001b[1;36m0\u001b[0m-\u001b[1;36m11\u001b[0m\u001b[1m)\u001b[0m: \u001b[1;36m12\u001b[0m x \u001b[1;35mEncoderLayer\u001b[0m\u001b[1m(\u001b[0m                                                       \u001b[2m               \u001b[0m\n",
       "\u001b[2;36m           \u001b[0m          \u001b[1m(\u001b[0mattention\u001b[1m)\u001b[0m: \u001b[1;35mSelfAttention\u001b[0m\u001b[1m(\u001b[0m                                                    \u001b[2m               \u001b[0m\n",
       "\u001b[2;36m           \u001b[0m            \u001b[1m(\u001b[0mdropout\u001b[1m)\u001b[0m: \u001b[1;35mDropout\u001b[0m\u001b[1m(\u001b[0m\u001b[33mp\u001b[0m=\u001b[1;36m0\u001b[0m\u001b[1;36m.1\u001b[0m, \u001b[33minplace\u001b[0m=\u001b[3;91mFalse\u001b[0m\u001b[1m)\u001b[0m                                     \u001b[2m               \u001b[0m\n",
       "\u001b[2;36m           \u001b[0m            \u001b[1m(\u001b[0mk_proj\u001b[1m)\u001b[0m: \u001b[1;35mLinear\u001b[0m\u001b[1m(\u001b[0m\u001b[33min_features\u001b[0m=\u001b[1;36m768\u001b[0m, \u001b[33mout_features\u001b[0m=\u001b[1;36m768\u001b[0m, \u001b[33mbias\u001b[0m=\u001b[3;92mTrue\u001b[0m\u001b[1m)\u001b[0m               \u001b[2m               \u001b[0m\n",
       "\u001b[2;36m           \u001b[0m            \u001b[1m(\u001b[0mv_proj\u001b[1m)\u001b[0m: \u001b[1;35mLinear\u001b[0m\u001b[1m(\u001b[0m\u001b[33min_features\u001b[0m=\u001b[1;36m768\u001b[0m, \u001b[33mout_features\u001b[0m=\u001b[1;36m768\u001b[0m, \u001b[33mbias\u001b[0m=\u001b[3;92mTrue\u001b[0m\u001b[1m)\u001b[0m               \u001b[2m               \u001b[0m\n",
       "\u001b[2;36m           \u001b[0m            \u001b[1m(\u001b[0mq_proj\u001b[1m)\u001b[0m: \u001b[1;35mLinear\u001b[0m\u001b[1m(\u001b[0m\u001b[33min_features\u001b[0m=\u001b[1;36m768\u001b[0m, \u001b[33mout_features\u001b[0m=\u001b[1;36m768\u001b[0m, \u001b[33mbias\u001b[0m=\u001b[3;92mTrue\u001b[0m\u001b[1m)\u001b[0m               \u001b[2m               \u001b[0m\n",
       "\u001b[2;36m           \u001b[0m            \u001b[1m(\u001b[0mout_proj\u001b[1m)\u001b[0m: \u001b[1;35mLinear\u001b[0m\u001b[1m(\u001b[0m\u001b[33min_features\u001b[0m=\u001b[1;36m768\u001b[0m, \u001b[33mout_features\u001b[0m=\u001b[1;36m768\u001b[0m, \u001b[33mbias\u001b[0m=\u001b[3;92mTrue\u001b[0m\u001b[1m)\u001b[0m             \u001b[2m               \u001b[0m\n",
       "\u001b[2;36m           \u001b[0m          \u001b[1m)\u001b[0m                                                                              \u001b[2m               \u001b[0m\n",
       "\u001b[2;36m           \u001b[0m          \u001b[1m(\u001b[0mdropout\u001b[1m)\u001b[0m: \u001b[1;35mDropout\u001b[0m\u001b[1m(\u001b[0m\u001b[33mp\u001b[0m=\u001b[1;36m0\u001b[0m\u001b[1;36m.1\u001b[0m, \u001b[33minplace\u001b[0m=\u001b[3;91mFalse\u001b[0m\u001b[1m)\u001b[0m                                       \u001b[2m               \u001b[0m\n",
       "\u001b[2;36m           \u001b[0m          \u001b[1m(\u001b[0mlayer_norm\u001b[1m)\u001b[0m: \u001b[1;35mLayerNorm\u001b[0m\u001b[1m(\u001b[0m\u001b[1m(\u001b[0m\u001b[1;36m768\u001b[0m,\u001b[1m)\u001b[0m, \u001b[33meps\u001b[0m=\u001b[1;36m1e\u001b[0m\u001b[1;36m-05\u001b[0m, \u001b[33melementwise_affine\u001b[0m=\u001b[3;92mTrue\u001b[0m\u001b[1m)\u001b[0m            \u001b[2m               \u001b[0m\n",
       "\u001b[2;36m           \u001b[0m          \u001b[1m(\u001b[0mfeed_forward\u001b[1m)\u001b[0m: \u001b[1;35mFeedForward\u001b[0m\u001b[1m(\u001b[0m                                                   \u001b[2m               \u001b[0m\n",
       "\u001b[2;36m           \u001b[0m            \u001b[1m(\u001b[0mintermediate_dense\u001b[1m)\u001b[0m: \u001b[1;35mLinear\u001b[0m\u001b[1m(\u001b[0m\u001b[33min_features\u001b[0m=\u001b[1;36m768\u001b[0m, \u001b[33mout_features\u001b[0m=\u001b[1;36m3072\u001b[0m, \u001b[33mbias\u001b[0m=\u001b[3;92mTrue\u001b[0m\u001b[1m)\u001b[0m  \u001b[2m               \u001b[0m\n",
       "\u001b[2;36m           \u001b[0m            \u001b[1m(\u001b[0mintermediate_dropout\u001b[1m)\u001b[0m: \u001b[1;35mDropout\u001b[0m\u001b[1m(\u001b[0m\u001b[33mp\u001b[0m=\u001b[1;36m0\u001b[0m\u001b[1;36m.1\u001b[0m, \u001b[33minplace\u001b[0m=\u001b[3;91mFalse\u001b[0m\u001b[1m)\u001b[0m                        \u001b[2m               \u001b[0m\n",
       "\u001b[2;36m           \u001b[0m            \u001b[1m(\u001b[0moutput_dense\u001b[1m)\u001b[0m: \u001b[1;35mLinear\u001b[0m\u001b[1m(\u001b[0m\u001b[33min_features\u001b[0m=\u001b[1;36m3072\u001b[0m, \u001b[33mout_features\u001b[0m=\u001b[1;36m768\u001b[0m, \u001b[33mbias\u001b[0m=\u001b[3;92mTrue\u001b[0m\u001b[1m)\u001b[0m        \u001b[2m               \u001b[0m\n",
       "\u001b[2;36m           \u001b[0m            \u001b[1m(\u001b[0moutput_dropout\u001b[1m)\u001b[0m: \u001b[1;35mDropout\u001b[0m\u001b[1m(\u001b[0m\u001b[33mp\u001b[0m=\u001b[1;36m0\u001b[0m\u001b[1;36m.1\u001b[0m, \u001b[33minplace\u001b[0m=\u001b[3;91mFalse\u001b[0m\u001b[1m)\u001b[0m                              \u001b[2m               \u001b[0m\n",
       "\u001b[2;36m           \u001b[0m          \u001b[1m)\u001b[0m                                                                              \u001b[2m               \u001b[0m\n",
       "\u001b[2;36m           \u001b[0m          \u001b[1m(\u001b[0mfinal_layer_norm\u001b[1m)\u001b[0m: \u001b[1;35mLayerNorm\u001b[0m\u001b[1m(\u001b[0m\u001b[1m(\u001b[0m\u001b[1;36m768\u001b[0m,\u001b[1m)\u001b[0m, \u001b[33meps\u001b[0m=\u001b[1;36m1e\u001b[0m\u001b[1;36m-05\u001b[0m, \u001b[33melementwise_affine\u001b[0m=\u001b[3;92mTrue\u001b[0m\u001b[1m)\u001b[0m      \u001b[2m               \u001b[0m\n",
       "\u001b[2;36m           \u001b[0m        \u001b[1m)\u001b[0m                                                                                \u001b[2m               \u001b[0m\n",
       "\u001b[2;36m           \u001b[0m      \u001b[1m)\u001b[0m                                                                                  \u001b[2m               \u001b[0m\n",
       "\u001b[2;36m           \u001b[0m    \u001b[1m)\u001b[0m                                                                                    \u001b[2m               \u001b[0m\n",
       "\u001b[2;36m           \u001b[0m  \u001b[1m)\u001b[0m                                                                                      \u001b[2m               \u001b[0m\n",
       "\u001b[2;36m           \u001b[0m  \u001b[1m(\u001b[0maux\u001b[1m)\u001b[0m: \u001b[1;35mLinear\u001b[0m\u001b[1m(\u001b[0m\u001b[33min_features\u001b[0m=\u001b[1;36m768\u001b[0m, \u001b[33mout_features\u001b[0m=\u001b[1;36m8\u001b[0m, \u001b[33mbias\u001b[0m=\u001b[3;92mTrue\u001b[0m\u001b[1m)\u001b[0m                              \u001b[2m               \u001b[0m\n",
       "\u001b[2;36m           \u001b[0m\u001b[1m)\u001b[0m                                                                                        \u001b[2m               \u001b[0m\n"
      ]
     },
     "metadata": {},
     "output_type": "display_data"
    }
   ],
   "source": [
    "console.log(model2)"
   ]
  },
  {
   "cell_type": "code",
   "execution_count": 6,
   "id": "7d50ab92-4051-4d35-97a6-8e38971cb255",
   "metadata": {},
   "outputs": [
    {
     "data": {
      "text/html": [
       "<pre style=\"white-space:pre;overflow-x:auto;line-height:normal;font-family:Menlo,'DejaVu Sans Mono',consolas,'Courier New',monospace\"><span style=\"color: #7fbfbf; text-decoration-color: #7fbfbf\">[15:58:41] </span>Loaded <span style=\"color: #008080; text-decoration-color: #008080; font-weight: bold\">5760</span> audios under train                                                          <a href=\"file:///tmp/ipykernel_2645657/2130267752.py\" target=\"_blank\"><span style=\"color: #7f7f7f; text-decoration-color: #7f7f7f\">2130267752.py</span></a><span style=\"color: #7f7f7f; text-decoration-color: #7f7f7f\">:</span><a href=\"file:///tmp/ipykernel_2645657/2130267752.py#24\" target=\"_blank\"><span style=\"color: #7f7f7f; text-decoration-color: #7f7f7f\">24</span></a>\n",
       "</pre>\n"
      ],
      "text/plain": [
       "\u001b[2;36m[15:58:41]\u001b[0m\u001b[2;36m \u001b[0mLoaded \u001b[1;36m5760\u001b[0m audios under train                                                          \u001b]8;id=269201;file:///tmp/ipykernel_2645657/2130267752.py\u001b\\\u001b[2m2130267752.py\u001b[0m\u001b]8;;\u001b\\\u001b[2m:\u001b[0m\u001b]8;id=667520;file:///tmp/ipykernel_2645657/2130267752.py#24\u001b\\\u001b[2m24\u001b[0m\u001b]8;;\u001b\\\n"
      ]
     },
     "metadata": {},
     "output_type": "display_data"
    },
    {
     "data": {
      "text/html": [
       "<pre style=\"white-space:pre;overflow-x:auto;line-height:normal;font-family:Menlo,'DejaVu Sans Mono',consolas,'Courier New',monospace\"><span style=\"color: #7fbfbf; text-decoration-color: #7fbfbf\">           </span>Loaded <span style=\"color: #008080; text-decoration-color: #008080; font-weight: bold\">640</span> audios under val                                                             <a href=\"file:///tmp/ipykernel_2645657/2130267752.py\" target=\"_blank\"><span style=\"color: #7f7f7f; text-decoration-color: #7f7f7f\">2130267752.py</span></a><span style=\"color: #7f7f7f; text-decoration-color: #7f7f7f\">:</span><a href=\"file:///tmp/ipykernel_2645657/2130267752.py#24\" target=\"_blank\"><span style=\"color: #7f7f7f; text-decoration-color: #7f7f7f\">24</span></a>\n",
       "</pre>\n"
      ],
      "text/plain": [
       "\u001b[2;36m          \u001b[0m\u001b[2;36m \u001b[0mLoaded \u001b[1;36m640\u001b[0m audios under val                                                             \u001b]8;id=661494;file:///tmp/ipykernel_2645657/2130267752.py\u001b\\\u001b[2m2130267752.py\u001b[0m\u001b]8;;\u001b\\\u001b[2m:\u001b[0m\u001b]8;id=894837;file:///tmp/ipykernel_2645657/2130267752.py#24\u001b\\\u001b[2m24\u001b[0m\u001b]8;;\u001b\\\n"
      ]
     },
     "metadata": {},
     "output_type": "display_data"
    },
    {
     "data": {
      "text/html": [
       "<pre style=\"white-space:pre;overflow-x:auto;line-height:normal;font-family:Menlo,'DejaVu Sans Mono',consolas,'Courier New',monospace\"><span style=\"color: #7fbfbf; text-decoration-color: #7fbfbf\">           </span>Loaded <span style=\"color: #008080; text-decoration-color: #008080; font-weight: bold\">1600</span> audios under test                                                           <a href=\"file:///tmp/ipykernel_2645657/2130267752.py\" target=\"_blank\"><span style=\"color: #7f7f7f; text-decoration-color: #7f7f7f\">2130267752.py</span></a><span style=\"color: #7f7f7f; text-decoration-color: #7f7f7f\">:</span><a href=\"file:///tmp/ipykernel_2645657/2130267752.py#24\" target=\"_blank\"><span style=\"color: #7f7f7f; text-decoration-color: #7f7f7f\">24</span></a>\n",
       "</pre>\n"
      ],
      "text/plain": [
       "\u001b[2;36m          \u001b[0m\u001b[2;36m \u001b[0mLoaded \u001b[1;36m1600\u001b[0m audios under test                                                           \u001b]8;id=875739;file:///tmp/ipykernel_2645657/2130267752.py\u001b\\\u001b[2m2130267752.py\u001b[0m\u001b]8;;\u001b\\\u001b[2m:\u001b[0m\u001b]8;id=812203;file:///tmp/ipykernel_2645657/2130267752.py#24\u001b\\\u001b[2m24\u001b[0m\u001b]8;;\u001b\\\n"
      ]
     },
     "metadata": {},
     "output_type": "display_data"
    },
    {
     "data": {
      "text/html": [
       "<pre style=\"white-space:pre;overflow-x:auto;line-height:normal;font-family:Menlo,'DejaVu Sans Mono',consolas,'Courier New',monospace\"><span style=\"color: #7fbfbf; text-decoration-color: #7fbfbf\">           </span>Classes:                                                                                <a href=\"file:///tmp/ipykernel_2645657/2130267752.py\" target=\"_blank\"><span style=\"color: #7f7f7f; text-decoration-color: #7f7f7f\">2130267752.py</span></a><span style=\"color: #7f7f7f; text-decoration-color: #7f7f7f\">:</span><a href=\"file:///tmp/ipykernel_2645657/2130267752.py#25\" target=\"_blank\"><span style=\"color: #7f7f7f; text-decoration-color: #7f7f7f\">25</span></a>\n",
       "<span style=\"color: #7fbfbf; text-decoration-color: #7fbfbf\">           </span><span style=\"font-weight: bold\">[</span><span style=\"color: #008000; text-decoration-color: #008000\">'down'</span>, <span style=\"color: #008000; text-decoration-color: #008000\">'go'</span>, <span style=\"color: #008000; text-decoration-color: #008000\">'left'</span>, <span style=\"color: #008000; text-decoration-color: #008000\">'no'</span>, <span style=\"color: #008000; text-decoration-color: #008000\">'right'</span>, <span style=\"color: #008000; text-decoration-color: #008000\">'stop'</span>, <span style=\"color: #008000; text-decoration-color: #008000\">'up'</span>, <span style=\"color: #008000; text-decoration-color: #008000\">'yes'</span><span style=\"font-weight: bold\">]</span>                              <span style=\"color: #7f7f7f; text-decoration-color: #7f7f7f\">                </span>\n",
       "</pre>\n"
      ],
      "text/plain": [
       "\u001b[2;36m          \u001b[0m\u001b[2;36m \u001b[0mClasses:                                                                                \u001b]8;id=214359;file:///tmp/ipykernel_2645657/2130267752.py\u001b\\\u001b[2m2130267752.py\u001b[0m\u001b]8;;\u001b\\\u001b[2m:\u001b[0m\u001b]8;id=317499;file:///tmp/ipykernel_2645657/2130267752.py#25\u001b\\\u001b[2m25\u001b[0m\u001b]8;;\u001b\\\n",
       "\u001b[2;36m           \u001b[0m\u001b[1m[\u001b[0m\u001b[32m'down'\u001b[0m, \u001b[32m'go'\u001b[0m, \u001b[32m'left'\u001b[0m, \u001b[32m'no'\u001b[0m, \u001b[32m'right'\u001b[0m, \u001b[32m'stop'\u001b[0m, \u001b[32m'up'\u001b[0m, \u001b[32m'yes'\u001b[0m\u001b[1m]\u001b[0m                              \u001b[2m                \u001b[0m\n"
      ]
     },
     "metadata": {},
     "output_type": "display_data"
    }
   ],
   "source": [
    "from utils.audio_dataloader import MiniSpeechCommands\n",
    "# from typing import Tuple, List, Dict\n",
    "# from torch.utils.data import Dataset\n",
    "\n",
    "data_dir = './datasets/speech-handsign_commands/speech'\n",
    "TRAIN = 'train'\n",
    "VAL = 'val'\n",
    "TEST = 'test'\n",
    "\n",
    "speech_datasets = {\n",
    "    x: MiniSpeechCommands(os.path.join(data_dir, x))\n",
    "    for x in [TRAIN, VAL, TEST]\n",
    "}\n",
    "\n",
    "dataloaders = {\n",
    "    x: torch.utils.data.DataLoader(speech_datasets[x], batch_size=128, shuffle=True, num_workers=14)  #os.cpu_count() = 24\n",
    "    for x in [TRAIN, VAL, TEST]\n",
    "}\n",
    "\n",
    "dataset_sizes = { x: len(speech_datasets[x]) for x in [TRAIN, VAL, TEST] }\n",
    "class_names = speech_datasets[TRAIN].classes\n",
    "\n",
    "for x in [TRAIN, VAL, TEST]:\n",
    "    console.log(\"Loaded {} audios under {}\".format(dataset_sizes[x], x))\n",
    "console.log(\"Classes: \", class_names)"
   ]
  },
  {
   "cell_type": "code",
   "execution_count": 12,
   "id": "d3105a03-f843-4975-b3e1-3ea3bea19832",
   "metadata": {},
   "outputs": [],
   "source": [
    "inputs, _ = next(iter(dataloaders[TRAIN]))"
   ]
  },
  {
   "cell_type": "code",
   "execution_count": 13,
   "id": "258a941d-ac19-47a7-ab95-3725bd2a9c42",
   "metadata": {},
   "outputs": [
    {
     "data": {
      "text/plain": [
       "torch.Size([128, 16000])"
      ]
     },
     "execution_count": 13,
     "metadata": {},
     "output_type": "execute_result"
    }
   ],
   "source": [
    "inputs.shape"
   ]
  },
  {
   "cell_type": "code",
   "execution_count": 14,
   "id": "8044f1dc-7dfa-4a36-be14-dd9cc072de6b",
   "metadata": {},
   "outputs": [],
   "source": [
    "outputs = model(inputs.to(device))"
   ]
  },
  {
   "cell_type": "code",
   "execution_count": 15,
   "id": "f9380fd4-c30a-487d-b6e0-1874b7b3bf38",
   "metadata": {},
   "outputs": [
    {
     "data": {
      "text/plain": [
       "torch.Size([128, 8])"
      ]
     },
     "execution_count": 15,
     "metadata": {},
     "output_type": "execute_result"
    }
   ],
   "source": [
    "outputs[0].shape"
   ]
  },
  {
   "cell_type": "code",
   "execution_count": 16,
   "id": "db2aacd4-8a5a-4558-9908-dad64c18f961",
   "metadata": {},
   "outputs": [
    {
     "data": {
      "text/plain": [
       "tensor([[ 0.0415,  0.0131,  0.0660,  ..., -0.0428, -0.0345,  0.1240],\n",
       "        [ 0.1763,  0.0545, -0.0361,  ..., -0.0921,  0.1089,  0.1063],\n",
       "        [-0.0022, -0.0502,  0.0143,  ...,  0.0030, -0.0025,  0.2192],\n",
       "        ...,\n",
       "        [-0.0282,  0.0153, -0.0244,  ..., -0.0377, -0.0734,  0.0102],\n",
       "        [-0.0063,  0.0209, -0.0725,  ..., -0.0924,  0.1185,  0.1341],\n",
       "        [ 0.0175,  0.0481,  0.0086,  ..., -0.0490,  0.0337,  0.0410]],\n",
       "       device='cuda:0', grad_fn=<AddmmBackward0>)"
      ]
     },
     "execution_count": 16,
     "metadata": {},
     "output_type": "execute_result"
    }
   ],
   "source": [
    "outputs[0]"
   ]
  },
  {
   "cell_type": "code",
   "execution_count": 17,
   "id": "296ffaf1-4c65-496e-a7f9-e5199f4147f3",
   "metadata": {},
   "outputs": [
    {
     "data": {
      "text/plain": [
       "torch.Size([128])"
      ]
     },
     "execution_count": 17,
     "metadata": {},
     "output_type": "execute_result"
    }
   ],
   "source": [
    "torch.softmax(outputs[0], dim=1).argmax(1).shape"
   ]
  },
  {
   "cell_type": "code",
   "execution_count": 18,
   "id": "c07d4a9a-4205-4ef0-822f-91189fd326c4",
   "metadata": {},
   "outputs": [
    {
     "data": {
      "text/plain": [
       "tensor([7, 0, 7, 7, 7, 0, 7, 7, 7, 1, 7, 0, 7, 7, 7, 6, 7, 7, 7, 6, 7, 6, 7, 7,\n",
       "        7, 7, 3, 7, 2, 7, 7, 7, 0, 7, 0, 1, 2, 0, 0, 7, 0, 7, 7, 7, 7, 7, 6, 7,\n",
       "        7, 7, 7, 6, 7, 0, 0, 7, 2, 7, 6, 7, 1, 7, 6, 7, 6, 7, 7, 7, 7, 7, 7, 7,\n",
       "        0, 0, 7, 6, 7, 0, 7, 7, 6, 0, 6, 3, 7, 1, 7, 7, 7, 7, 7, 7, 7, 7, 7, 7,\n",
       "        7, 7, 3, 7, 7, 7, 7, 7, 7, 0, 7, 7, 7, 7, 3, 7, 7, 7, 7, 7, 7, 0, 6, 7,\n",
       "        7, 7, 7, 7, 7, 1, 7, 1], device='cuda:0')"
      ]
     },
     "execution_count": 18,
     "metadata": {},
     "output_type": "execute_result"
    }
   ],
   "source": [
    "torch.softmax(outputs[0], dim=1).argmax(1)"
   ]
  },
  {
   "cell_type": "code",
   "execution_count": 7,
   "id": "b2fca14a-8cd9-4a4a-8db4-fc8756b28e91",
   "metadata": {},
   "outputs": [],
   "source": [
    "def accuracy_fn(y_true: torch.Tensor, y_pred: torch.Tensor):\n",
    "    correct = torch.eq(y_true, y_pred).sum().item()\n",
    "    acc = correct/len(y_pred)\n",
    "    return acc\n",
    "\n",
    "def train(model, criterion, optimizer, scheduler, dataloader):\n",
    "    model.train()\n",
    "    losses, accs = 0, 0\n",
    "    for i, batch in enumerate(dataloader):\n",
    "        gc.collect()\n",
    "        optimizer.zero_grad()\n",
    "        wav, label = batch\n",
    "        wav, label = wav.to(device), label.to(device).float()\n",
    "        logits, _ = model(wav)\n",
    "        pred = torch.softmax(logits.squeeze(2), dim=1).argmax(dim=1).float()\n",
    "        # pred = torch.mean(logits, dim=1).softmax(dim=1).argmax(dim=1).float()\n",
    "        # pred = torch.softmax(logits, dim=1).argmax(dim=1).float()\n",
    "        loss = criterion(pred, label)\n",
    "        loss.requires_grad = True\n",
    "        acc = accuracy_fn(label, pred)\n",
    "        losses += loss.item()\n",
    "        accs += acc\n",
    "        loss.backward()\n",
    "        optimizer.step()\n",
    "        scheduler.step()\n",
    "    return {\n",
    "        \"train/loss\": losses/dataset_sizes[TRAIN],\n",
    "        \"train/acc\": accs/dataset_sizes[TRAIN]\n",
    "    }\n",
    "\n",
    "def validate(model, criterion, dataloader):\n",
    "    model.eval()\n",
    "    losses, accs = 0, 0\n",
    "    for i, batch in enumerate(dataloader):\n",
    "        gc.collect()\n",
    "        wav, label = batch\n",
    "        wav, label = wav.to(device), label.to(device).float()\n",
    "        with torch.inference_mode():\n",
    "            logits, _ = model(wav)\n",
    "            pred = torch.softmax(logits.squeeze(2), dim=1).argmax(dim=1).float()\n",
    "            # pred = torch.mean(logits, dim=1).softmax(dim=1).argmax(dim=1).float()\n",
    "            # pred = torch.softmax(logits, dim=1).argmax(dim=1).float()\n",
    "            loss = criterion(pred, label)\n",
    "            acc = accuracy_fn(label, pred)\n",
    "            losses += loss.item()\n",
    "            accs += acc\n",
    "    return {\n",
    "        \"val/loss\": losses/dataset_sizes[VAL],\n",
    "        \"val/acc\": accs/dataset_sizes[VAL]\n",
    "    }\n",
    "\n",
    "def evaluate(model, criterion, dataloader):\n",
    "    model.eval()\n",
    "    losses, accs = 0, 0\n",
    "    for i, batch in enumerate(dataloader):\n",
    "        gc.collect()\n",
    "        wav, label = batch\n",
    "        wav, label = wav.to(device), label.to(device).float()\n",
    "        with torch.inference_mode():\n",
    "            logits, _ = model(wav)\n",
    "            pred = torch.softmax(logits.squeeze(2), dim=1).argmax(dim=1).float()\n",
    "            # pred = torch.mean(logits, dim=1).softmax(dim=1).argmax(dim=1).float()\n",
    "            # pred = torch.softmax(logits, dim=1).argmax(dim=1).float()\n",
    "            loss = criterion(pred, label)\n",
    "            acc = accuracy_fn(label, pred)\n",
    "            losses += loss.item()\n",
    "            accs += acc\n",
    "    return {\n",
    "        \"eval/loss\": losses/dataset_sizes[TEST],\n",
    "        \"eval/acc\": accs/dataset_sizes[TEST]\n",
    "    }"
   ]
  },
  {
   "cell_type": "code",
   "execution_count": 8,
   "id": "299bd266-e5ee-4af1-8518-07d757c3514f",
   "metadata": {},
   "outputs": [],
   "source": [
    "def run_optimization_loop():\n",
    "    logger_fields = {\n",
    "        \"epoch\": {},\n",
    "        \"tr/loss\": {\n",
    "            \"goal\": \"lower_is_better\",\n",
    "            \"format\": \"{:.6f}\",\n",
    "            \"name\": r\"train/loss\",\n",
    "        },\n",
    "        \"va/loss\": {\n",
    "            \"goal\": \"lower_is_better\",\n",
    "            \"format\": \"{:.6f}\",\n",
    "            \"name\": r\"val/loss\",\n",
    "        },\n",
    "        \"tr/acc\": {\n",
    "            \"goal\": \"higher_is_better\",\n",
    "            \"format\": \"{:.6f}\",\n",
    "            \"name\": r\"train/acc\",\n",
    "        },\n",
    "        \"va/acc\": {\n",
    "            \"goal\": \"higher_is_better\",\n",
    "            \"format\": \"{:.6f}\",\n",
    "            \"name\": r\"val/acc\",\n",
    "        },\n",
    "        \"duration\": {\"format\": \"{:.1f}\", \"name\": \"dur(s)\"},\n",
    "        \".*\": True,  # Any other field must be logged at the end\n",
    "    }\n",
    "    printer = RichTablePrinter(key=\"epoch\", fields=logger_fields)\n",
    "    printer.hijack_tqdm()\n",
    "    \n",
    "    criterion = nn.CrossEntropyLoss()\n",
    "    optimizer = torch.optim.Adam(model.parameters(), lr = 0.01, betas=(.9, .98), eps= 1e-08)\n",
    "    scheduler = lr_scheduler.StepLR(optimizer, step_size= 10, gamma= .1)\n",
    "    \n",
    "    gc.collect()\n",
    "    start_t = time.time()\n",
    "    for epoch in trange(100):\n",
    "        if use_gpu:\n",
    "            torch.cuda.empty_cache()\n",
    "        t = time.time()\n",
    "        train_metrics = train(model, criterion, optimizer, scheduler, dataloaders[TRAIN])\n",
    "        printer.log(\n",
    "            {\n",
    "                \"epoch\": epoch,\n",
    "                \"tr/loss\": train_metrics['train/loss'],\n",
    "                \"tr/acc\": train_metrics['train/acc'],\n",
    "            }\n",
    "        )\n",
    "        val_metrics = validate(model, criterion, dataloaders[VAL])\n",
    "        printer.log(\n",
    "            {\n",
    "                \"epoch\": epoch,\n",
    "                \"va/loss\": val_metrics['val/loss'],\n",
    "                \"va/acc\": val_metrics['val/acc'],\n",
    "                \"duration\": time.time() - t,\n",
    "            }\n",
    "        )\n",
    "    printer.finalize()\n",
    "    elapsed_time = time.time() - start_t\n",
    "    console.log(\"Total Time Used : {:.0f}m {:.0f}s\".format(elapsed_time // 60, elapsed_time % 60))\n",
    "    start_e = time.time()\n",
    "    eval_metrics = evaluate(model, criterion, dataloaders[TEST])\n",
    "    elapsed_time = time.time() - start_e\n",
    "    console.log(\"Average loss on Test set : {:.6f}\".format(eval_metrics['eval/loss']))\n",
    "    console.log(\"Average accuracy on Test set : {:.6f}\".format(eval_metrics['eval/acc']))\n",
    "    console.log(\"Evaluation completed in {:.0f}m {:.0f}s\".format(elapsed_time // 60, elapsed_time % 60))\n",
    "    return model, scheduler, optimizer"
   ]
  },
  {
   "cell_type": "code",
   "execution_count": null,
   "id": "444e47fa-b518-47ff-bade-afcac85af31b",
   "metadata": {},
   "outputs": [
    {
     "data": {
      "text/html": [
       "<pre style=\"white-space:pre;overflow-x:auto;line-height:normal;font-family:Menlo,'DejaVu Sans Mono',consolas,'Courier New',monospace\">┏━━━━━━━┳━━━━━━━━━━━━┳━━━━━━━━━━━┳━━━━━━━━━━━┳━━━━━━━━━━┳━━━━━━━━┓\n",
       "┃<span style=\"font-weight: bold\"> epoch </span>┃<span style=\"font-weight: bold\"> train/loss </span>┃<span style=\"font-weight: bold\"> val/loss  </span>┃<span style=\"font-weight: bold\"> train/acc </span>┃<span style=\"font-weight: bold\"> val/acc  </span>┃<span style=\"font-weight: bold\"> dur(s) </span>┃\n",
       "┡━━━━━━━╇━━━━━━━━━━━━╇━━━━━━━━━━━╇━━━━━━━━━━━╇━━━━━━━━━━╇━━━━━━━━┩\n",
       "│ 0     │ 21.960777  │ 21.837253 │ 0.000997  │ 0.001025 │ 6.9    │\n",
       "│ 1     │ <span style=\"color: #800000; text-decoration-color: #800000\">21.999228</span>  │ <span style=\"color: #008000; text-decoration-color: #008000\">21.814946</span> │ <span style=\"color: #008000; text-decoration-color: #008000\">0.001080</span>  │ <span style=\"color: #800000; text-decoration-color: #800000\">0.001025</span> │ 5.9    │\n",
       "│ 2     │ <span style=\"color: #800000; text-decoration-color: #800000\">22.022519</span>  │ <span style=\"color: #800000; text-decoration-color: #800000\">21.819518</span> │ <span style=\"color: #800000; text-decoration-color: #800000\">0.001059</span>  │ <span style=\"color: #800000; text-decoration-color: #800000\">0.001025</span> │ 5.9    │\n",
       "│ 3     │ <span style=\"color: #008000; text-decoration-color: #008000\">21.807635</span>  │ <span style=\"color: #800000; text-decoration-color: #800000\">21.842120</span> │ <span style=\"color: #008000; text-decoration-color: #008000\">0.001093</span>  │ <span style=\"color: #800000; text-decoration-color: #800000\">0.001025</span> │ 5.9    │\n",
       "│ 4     │ <span style=\"color: #800000; text-decoration-color: #800000\">21.972453</span>  │ <span style=\"color: #800000; text-decoration-color: #800000\">21.840737</span> │ <span style=\"color: #800000; text-decoration-color: #800000\">0.001038</span>  │ <span style=\"color: #800000; text-decoration-color: #800000\">0.001025</span> │ 6.1    │\n",
       "│ 5     │ <span style=\"color: #800000; text-decoration-color: #800000\">22.011145</span>  │ <span style=\"color: #800000; text-decoration-color: #800000\">21.844699</span> │ <span style=\"color: #800000; text-decoration-color: #800000\">0.001005</span>  │ <span style=\"color: #800000; text-decoration-color: #800000\">0.001025</span> │ 6.2    │\n",
       "│ 6     │ <span style=\"color: #800000; text-decoration-color: #800000\">22.118203</span>  │ <span style=\"color: #008000; text-decoration-color: #008000\">21.806759</span> │ <span style=\"color: #800000; text-decoration-color: #800000\">0.001013</span>  │ <span style=\"color: #800000; text-decoration-color: #800000\">0.001025</span> │ 6.1    │\n",
       "│ 7     │ <span style=\"color: #800000; text-decoration-color: #800000\">22.023744</span>  │ <span style=\"color: #800000; text-decoration-color: #800000\">21.848636</span> │ <span style=\"color: #800000; text-decoration-color: #800000\">0.001046</span>  │ <span style=\"color: #800000; text-decoration-color: #800000\">0.001025</span> │ 6.2    │\n",
       "│ 8     │ <span style=\"color: #800000; text-decoration-color: #800000\">21.901803</span>  │ <span style=\"color: #800000; text-decoration-color: #800000\">21.845760</span> │ <span style=\"color: #800000; text-decoration-color: #800000\">0.001039</span>  │ <span style=\"color: #800000; text-decoration-color: #800000\">0.001025</span> │ 6.4    │\n",
       "│ 9     │ <span style=\"color: #800000; text-decoration-color: #800000\">22.075481</span>  │ <span style=\"color: #800000; text-decoration-color: #800000\">21.826322</span> │ <span style=\"color: #800000; text-decoration-color: #800000\">0.000972</span>  │ <span style=\"color: #800000; text-decoration-color: #800000\">0.001025</span> │ 6.0    │\n",
       "│ 10    │ <span style=\"color: #800000; text-decoration-color: #800000\">22.060517</span>  │ <span style=\"color: #800000; text-decoration-color: #800000\">21.847754</span> │ <span style=\"color: #800000; text-decoration-color: #800000\">0.001047</span>  │ <span style=\"color: #800000; text-decoration-color: #800000\">0.001025</span> │ 6.1    │\n",
       "│ 11    │ <span style=\"color: #008000; text-decoration-color: #008000\">21.753146</span>  │ <span style=\"color: #800000; text-decoration-color: #800000\">21.823861</span> │ <span style=\"color: #800000; text-decoration-color: #800000\">0.001065</span>  │ <span style=\"color: #800000; text-decoration-color: #800000\">0.001025</span> │ 6.2    │\n",
       "│ 12    │ <span style=\"color: #800000; text-decoration-color: #800000\">22.110190</span>  │ <span style=\"color: #800000; text-decoration-color: #800000\">21.833380</span> │ <span style=\"color: #800000; text-decoration-color: #800000\">0.001053</span>  │ <span style=\"color: #800000; text-decoration-color: #800000\">0.001025</span> │ 6.1    │\n",
       "│ 13    │ <span style=\"color: #800000; text-decoration-color: #800000\">22.019134</span>  │ <span style=\"color: #800000; text-decoration-color: #800000\">21.840486</span> │ <span style=\"color: #800000; text-decoration-color: #800000\">0.001005</span>  │ <span style=\"color: #800000; text-decoration-color: #800000\">0.001025</span> │ 6.3    │\n",
       "│ 14    │ <span style=\"color: #800000; text-decoration-color: #800000\">22.082112</span>  │ <span style=\"color: #800000; text-decoration-color: #800000\">21.840646</span> │ <span style=\"color: #800000; text-decoration-color: #800000\">0.001029</span>  │ <span style=\"color: #800000; text-decoration-color: #800000\">0.001025</span> │ 6.4    │\n",
       "│ 15    │ <span style=\"color: #800000; text-decoration-color: #800000\">22.033630</span>  │ <span style=\"color: #008000; text-decoration-color: #008000\">21.800688</span> │ <span style=\"color: #800000; text-decoration-color: #800000\">0.001051</span>  │ <span style=\"color: #800000; text-decoration-color: #800000\">0.001025</span> │ 6.1    │\n",
       "│ 16    │ <span style=\"color: #800000; text-decoration-color: #800000\">22.132235</span>  │ <span style=\"color: #800000; text-decoration-color: #800000\">21.822047</span> │ <span style=\"color: #800000; text-decoration-color: #800000\">0.000991</span>  │ <span style=\"color: #800000; text-decoration-color: #800000\">0.001025</span> │ 6.2    │\n",
       "│ 17    │ <span style=\"color: #800000; text-decoration-color: #800000\">21.985966</span>  │ <span style=\"color: #800000; text-decoration-color: #800000\">21.848256</span> │ <span style=\"color: #800000; text-decoration-color: #800000\">0.001082</span>  │ <span style=\"color: #800000; text-decoration-color: #800000\">0.001025</span> │ 6.5    │\n",
       "│ 18    │ <span style=\"color: #800000; text-decoration-color: #800000\">22.083195</span>  │ <span style=\"color: #800000; text-decoration-color: #800000\">21.846689</span> │ <span style=\"color: #800000; text-decoration-color: #800000\">0.001039</span>  │ <span style=\"color: #800000; text-decoration-color: #800000\">0.001025</span> │ 6.3    │\n",
       "│ 19    │ <span style=\"color: #800000; text-decoration-color: #800000\">22.028708</span>  │ <span style=\"color: #800000; text-decoration-color: #800000\">21.847018</span> │ <span style=\"color: #800000; text-decoration-color: #800000\">0.001013</span>  │ <span style=\"color: #800000; text-decoration-color: #800000\">0.001025</span> │ 6.4    │\n",
       "│ 20    │ <span style=\"color: #800000; text-decoration-color: #800000\">21.977361</span>  │ <span style=\"color: #800000; text-decoration-color: #800000\">21.844926</span> │ <span style=\"color: #800000; text-decoration-color: #800000\">0.001025</span>  │ <span style=\"color: #800000; text-decoration-color: #800000\">0.001025</span> │ 6.3    │\n",
       "│ 21    │ <span style=\"color: #800000; text-decoration-color: #800000\">22.086658</span>  │ <span style=\"color: #800000; text-decoration-color: #800000\">21.839880</span> │ <span style=\"color: #800000; text-decoration-color: #800000\">0.001020</span>  │ <span style=\"color: #800000; text-decoration-color: #800000\">0.001025</span> │ 6.7    │\n",
       "│ 22    │ <span style=\"color: #800000; text-decoration-color: #800000\">22.060078</span>  │ <span style=\"color: #800000; text-decoration-color: #800000\">21.834441</span> │ <span style=\"color: #800000; text-decoration-color: #800000\">0.001004</span>  │ <span style=\"color: #800000; text-decoration-color: #800000\">0.001025</span> │ 6.4    │\n",
       "│ 23    │ <span style=\"color: #800000; text-decoration-color: #800000\">21.847501</span>  │ <span style=\"color: #800000; text-decoration-color: #800000\">21.836887</span> │ <span style=\"color: #800000; text-decoration-color: #800000\">0.001072</span>  │ <span style=\"color: #800000; text-decoration-color: #800000\">0.001025</span> │ 6.7    │\n",
       "│ 24    │ <span style=\"color: #800000; text-decoration-color: #800000\">22.107481</span>  │ <span style=\"color: #008000; text-decoration-color: #008000\">21.800050</span> │ <span style=\"color: #800000; text-decoration-color: #800000\">0.000974</span>  │ <span style=\"color: #800000; text-decoration-color: #800000\">0.001025</span> │ 6.5    │\n",
       "│ 25    │ <span style=\"color: #800000; text-decoration-color: #800000\">21.960583</span>  │ <span style=\"color: #800000; text-decoration-color: #800000\">21.810136</span> │ <span style=\"color: #800000; text-decoration-color: #800000\">0.001057</span>  │ <span style=\"color: #800000; text-decoration-color: #800000\">0.001025</span> │ 6.3    │\n",
       "│ 26    │ <span style=\"color: #800000; text-decoration-color: #800000\">21.963554</span>  │ <span style=\"color: #800000; text-decoration-color: #800000\">21.801702</span> │ <span style=\"color: #800000; text-decoration-color: #800000\">0.001057</span>  │ <span style=\"color: #800000; text-decoration-color: #800000\">0.001025</span> │ 6.4    │\n",
       "│ 27    │ <span style=\"color: #800000; text-decoration-color: #800000\">21.932799</span>  │ <span style=\"color: #800000; text-decoration-color: #800000\">21.817315</span> │ <span style=\"color: #800000; text-decoration-color: #800000\">0.001009</span>  │ <span style=\"color: #800000; text-decoration-color: #800000\">0.001025</span> │ 6.5    │\n",
       "│ 28    │ <span style=\"color: #800000; text-decoration-color: #800000\">21.843423</span>  │ <span style=\"color: #800000; text-decoration-color: #800000\">21.822698</span> │ <span style=\"color: #800000; text-decoration-color: #800000\">0.001047</span>  │ <span style=\"color: #800000; text-decoration-color: #800000\">0.001025</span> │ 6.6    │\n",
       "│ 29    │ <span style=\"color: #800000; text-decoration-color: #800000\">22.062059</span>  │ <span style=\"color: #800000; text-decoration-color: #800000\">21.828049</span> │ <span style=\"color: #800000; text-decoration-color: #800000\">0.001027</span>  │ <span style=\"color: #800000; text-decoration-color: #800000\">0.001025</span> │ 6.6    │\n",
       "│ 30    │ <span style=\"color: #800000; text-decoration-color: #800000\">22.006302</span>  │ <span style=\"color: #800000; text-decoration-color: #800000\">21.844309</span> │ <span style=\"color: #800000; text-decoration-color: #800000\">0.001017</span>  │ <span style=\"color: #800000; text-decoration-color: #800000\">0.001025</span> │ 6.5    │\n",
       "│ 31    │ <span style=\"color: #800000; text-decoration-color: #800000\">21.890476</span>  │ <span style=\"color: #800000; text-decoration-color: #800000\">21.834391</span> │ <span style=\"color: #800000; text-decoration-color: #800000\">0.001090</span>  │ <span style=\"color: #800000; text-decoration-color: #800000\">0.001025</span> │ 6.6    │\n",
       "│ 32    │ <span style=\"color: #800000; text-decoration-color: #800000\">21.944794</span>  │ <span style=\"color: #800000; text-decoration-color: #800000\">21.847700</span> │ <span style=\"color: #800000; text-decoration-color: #800000\">0.001039</span>  │ <span style=\"color: #800000; text-decoration-color: #800000\">0.001025</span> │ 6.4    │\n",
       "│ 33    │ <span style=\"color: #800000; text-decoration-color: #800000\">22.040176</span>  │ <span style=\"color: #008000; text-decoration-color: #008000\">21.794580</span> │ <span style=\"color: #800000; text-decoration-color: #800000\">0.000978</span>  │ <span style=\"color: #800000; text-decoration-color: #800000\">0.001025</span> │ 6.5    │\n",
       "│ 34    │ <span style=\"color: #800000; text-decoration-color: #800000\">22.140384</span>  │ <span style=\"color: #800000; text-decoration-color: #800000\">21.826681</span> │ <span style=\"color: #800000; text-decoration-color: #800000\">0.001043</span>  │ <span style=\"color: #800000; text-decoration-color: #800000\">0.001025</span> │ 6.4    │\n",
       "│ 35    │ <span style=\"color: #800000; text-decoration-color: #800000\">22.068311</span>  │ <span style=\"color: #800000; text-decoration-color: #800000\">21.834175</span> │ <span style=\"color: #800000; text-decoration-color: #800000\">0.001040</span>  │ <span style=\"color: #800000; text-decoration-color: #800000\">0.001025</span> │ 6.6    │\n",
       "│ 36    │ <span style=\"color: #800000; text-decoration-color: #800000\">21.989203</span>  │ <span style=\"color: #800000; text-decoration-color: #800000\">21.825790</span> │ <span style=\"color: #800000; text-decoration-color: #800000\">0.001074</span>  │ <span style=\"color: #800000; text-decoration-color: #800000\">0.001025</span> │ 6.2    │\n",
       "│ 37    │ <span style=\"color: #800000; text-decoration-color: #800000\">22.089188</span>  │ <span style=\"color: #800000; text-decoration-color: #800000\">21.843402</span> │ <span style=\"color: #800000; text-decoration-color: #800000\">0.001010</span>  │ <span style=\"color: #800000; text-decoration-color: #800000\">0.001025</span> │ 6.4    │\n",
       "│ 38    │ <span style=\"color: #800000; text-decoration-color: #800000\">22.116336</span>  │ <span style=\"color: #800000; text-decoration-color: #800000\">21.833327</span> │ <span style=\"color: #800000; text-decoration-color: #800000\">0.001021</span>  │ <span style=\"color: #800000; text-decoration-color: #800000\">0.001025</span> │ 6.6    │\n",
       "│ 39    │ <span style=\"color: #800000; text-decoration-color: #800000\">21.996094</span>  │ <span style=\"color: #800000; text-decoration-color: #800000\">21.843421</span> │ <span style=\"color: #800000; text-decoration-color: #800000\">0.001065</span>  │ <span style=\"color: #800000; text-decoration-color: #800000\">0.001025</span> │ 6.5    │\n",
       "│ 40    │ <span style=\"color: #800000; text-decoration-color: #800000\">21.968361</span>  │ <span style=\"color: #800000; text-decoration-color: #800000\">21.825582</span> │ <span style=\"color: #800000; text-decoration-color: #800000\">0.001024</span>  │ <span style=\"color: #800000; text-decoration-color: #800000\">0.001025</span> │ 6.5    │\n",
       "│ 41    │ <span style=\"color: #800000; text-decoration-color: #800000\">21.999423</span>  │ <span style=\"color: #800000; text-decoration-color: #800000\">21.832989</span> │ <span style=\"color: #800000; text-decoration-color: #800000\">0.001054</span>  │ <span style=\"color: #800000; text-decoration-color: #800000\">0.001025</span> │ 6.7    │\n",
       "│ 42    │ <span style=\"color: #800000; text-decoration-color: #800000\">22.138747</span>  │ <span style=\"color: #800000; text-decoration-color: #800000\">21.848404</span> │ <span style=\"color: #800000; text-decoration-color: #800000\">0.000989</span>  │ <span style=\"color: #800000; text-decoration-color: #800000\">0.001025</span> │ 6.8    │\n",
       "│ 43    │ <span style=\"color: #800000; text-decoration-color: #800000\">21.939850</span>  │ <span style=\"color: #800000; text-decoration-color: #800000\">21.834260</span> │ <span style=\"color: #800000; text-decoration-color: #800000\">0.001074</span>  │ <span style=\"color: #800000; text-decoration-color: #800000\">0.001025</span> │ 6.8    │\n",
       "│ 44    │ <span style=\"color: #800000; text-decoration-color: #800000\">21.851898</span>  │ <span style=\"color: #800000; text-decoration-color: #800000\">21.848591</span> │ <span style=\"color: #800000; text-decoration-color: #800000\">0.001085</span>  │ <span style=\"color: #800000; text-decoration-color: #800000\">0.001025</span> │ 6.7    │\n",
       "│ 45    │ <span style=\"color: #800000; text-decoration-color: #800000\">21.902458</span>  │ <span style=\"color: #800000; text-decoration-color: #800000\">21.824277</span> │ <span style=\"color: #800000; text-decoration-color: #800000\">0.001065</span>  │ <span style=\"color: #800000; text-decoration-color: #800000\">0.001025</span> │ 6.9    │\n",
       "│ 46    │ <span style=\"color: #800000; text-decoration-color: #800000\">22.008917</span>  │ <span style=\"color: #800000; text-decoration-color: #800000\">21.841195</span> │ <span style=\"color: #800000; text-decoration-color: #800000\">0.000996</span>  │ <span style=\"color: #800000; text-decoration-color: #800000\">0.001025</span> │ 6.7    │\n",
       "│ 47    │ <span style=\"color: #800000; text-decoration-color: #800000\">22.046900</span>  │ <span style=\"color: #800000; text-decoration-color: #800000\">21.844176</span> │ <span style=\"color: #800000; text-decoration-color: #800000\">0.001062</span>  │ <span style=\"color: #800000; text-decoration-color: #800000\">0.001025</span> │ 6.3    │\n",
       "│ 48    │ <span style=\"color: #800000; text-decoration-color: #800000\">21.944022</span>  │ <span style=\"color: #800000; text-decoration-color: #800000\">21.840653</span> │ <span style=\"color: #800000; text-decoration-color: #800000\">0.001048</span>  │ <span style=\"color: #800000; text-decoration-color: #800000\">0.001025</span> │ 6.6    │\n",
       "│ 49    │ <span style=\"color: #800000; text-decoration-color: #800000\">22.058904</span>  │ <span style=\"color: #800000; text-decoration-color: #800000\">21.846817</span> │ <span style=\"color: #800000; text-decoration-color: #800000\">0.001038</span>  │ <span style=\"color: #800000; text-decoration-color: #800000\">0.001025</span> │ 6.8    │\n",
       "│ 50    │ <span style=\"color: #800000; text-decoration-color: #800000\">21.952494</span>  │ <span style=\"color: #800000; text-decoration-color: #800000\">21.805006</span> │ <span style=\"color: #800000; text-decoration-color: #800000\">0.001059</span>  │ <span style=\"color: #800000; text-decoration-color: #800000\">0.001025</span> │ 6.6    │\n",
       "│ 51    │ <span style=\"color: #800000; text-decoration-color: #800000\">22.114142</span>  │ <span style=\"color: #800000; text-decoration-color: #800000\">21.845915</span> │ <span style=\"color: #800000; text-decoration-color: #800000\">0.001036</span>  │ <span style=\"color: #800000; text-decoration-color: #800000\">0.001025</span> │ 6.9    │\n",
       "│ 52    │ <span style=\"color: #800000; text-decoration-color: #800000\">21.939853</span>  │ <span style=\"color: #800000; text-decoration-color: #800000\">21.822189</span> │ <span style=\"color: #800000; text-decoration-color: #800000\">0.001050</span>  │ <span style=\"color: #800000; text-decoration-color: #800000\">0.001025</span> │ 6.4    │\n",
       "│ 53    │ <span style=\"color: #800000; text-decoration-color: #800000\">21.977340</span>  │ <span style=\"color: #800000; text-decoration-color: #800000\">21.818811</span> │ <span style=\"color: #800000; text-decoration-color: #800000\">0.001076</span>  │ <span style=\"color: #800000; text-decoration-color: #800000\">0.001025</span> │ 6.4    │\n",
       "│ 54    │ <span style=\"color: #800000; text-decoration-color: #800000\">21.958647</span>  │ <span style=\"color: #800000; text-decoration-color: #800000\">21.843050</span> │ <span style=\"color: #800000; text-decoration-color: #800000\">0.001016</span>  │ <span style=\"color: #800000; text-decoration-color: #800000\">0.001025</span> │ 6.5    │\n",
       "│ 55    │ <span style=\"color: #800000; text-decoration-color: #800000\">21.973229</span>  │ <span style=\"color: #800000; text-decoration-color: #800000\">21.827525</span> │ <span style=\"color: #800000; text-decoration-color: #800000\">0.001039</span>  │ <span style=\"color: #800000; text-decoration-color: #800000\">0.001025</span> │ 6.5    │\n",
       "│ 56    │ <span style=\"color: #800000; text-decoration-color: #800000\">22.143959</span>  │ <span style=\"color: #800000; text-decoration-color: #800000\">21.825645</span> │ <span style=\"color: #800000; text-decoration-color: #800000\">0.001000</span>  │ <span style=\"color: #800000; text-decoration-color: #800000\">0.001025</span> │ 7.2    │\n",
       "│ 57    │ <span style=\"color: #800000; text-decoration-color: #800000\">22.339771</span>  │ <span style=\"color: #800000; text-decoration-color: #800000\">21.832386</span> │ <span style=\"color: #800000; text-decoration-color: #800000\">0.001013</span>  │ <span style=\"color: #800000; text-decoration-color: #800000\">0.001025</span> │ 6.7    │\n",
       "│ 58    │ <span style=\"color: #800000; text-decoration-color: #800000\">21.873056</span>  │ <span style=\"color: #800000; text-decoration-color: #800000\">21.853625</span> │ <span style=\"color: #800000; text-decoration-color: #800000\">0.001058</span>  │ <span style=\"color: #800000; text-decoration-color: #800000\">0.001025</span> │ 6.6    │\n",
       "│ 59    │ <span style=\"color: #800000; text-decoration-color: #800000\">22.032759</span>  │ <span style=\"color: #800000; text-decoration-color: #800000\">21.829240</span> │ <span style=\"color: #800000; text-decoration-color: #800000\">0.001062</span>  │ <span style=\"color: #800000; text-decoration-color: #800000\">0.001025</span> │ 6.7    │\n",
       "│ 60    │ <span style=\"color: #800000; text-decoration-color: #800000\">22.017200</span>  │ <span style=\"color: #800000; text-decoration-color: #800000\">21.848845</span> │ <span style=\"color: #800000; text-decoration-color: #800000\">0.001001</span>  │ <span style=\"color: #800000; text-decoration-color: #800000\">0.001025</span> │ 7.1    │\n",
       "│ 61    │ <span style=\"color: #800000; text-decoration-color: #800000\">22.017156</span>  │ <span style=\"color: #800000; text-decoration-color: #800000\">21.829909</span> │ <span style=\"color: #800000; text-decoration-color: #800000\">0.000985</span>  │ <span style=\"color: #800000; text-decoration-color: #800000\">0.001025</span> │ 6.6    │\n",
       "│ 62    │ <span style=\"color: #800000; text-decoration-color: #800000\">21.879841</span>  │ <span style=\"color: #800000; text-decoration-color: #800000\">21.842386</span> │ <span style=\"color: #800000; text-decoration-color: #800000\">0.001092</span>  │ <span style=\"color: #800000; text-decoration-color: #800000\">0.001025</span> │ 6.7    │\n",
       "│ 63    │ <span style=\"color: #800000; text-decoration-color: #800000\">22.117998</span>  │ <span style=\"color: #800000; text-decoration-color: #800000\">21.823548</span> │ <span style=\"color: #800000; text-decoration-color: #800000\">0.001025</span>  │ <span style=\"color: #800000; text-decoration-color: #800000\">0.001025</span> │ 6.6    │\n",
       "│ 64    │ <span style=\"color: #800000; text-decoration-color: #800000\">22.041915</span>  │ <span style=\"color: #800000; text-decoration-color: #800000\">21.828215</span> │ <span style=\"color: #800000; text-decoration-color: #800000\">0.001001</span>  │ <span style=\"color: #800000; text-decoration-color: #800000\">0.001025</span> │ 6.6    │\n",
       "│ 65    │ <span style=\"color: #800000; text-decoration-color: #800000\">21.984792</span>  │ <span style=\"color: #800000; text-decoration-color: #800000\">21.848317</span> │ <span style=\"color: #800000; text-decoration-color: #800000\">0.001019</span>  │ <span style=\"color: #800000; text-decoration-color: #800000\">0.001025</span> │ 6.7    │\n",
       "│ 66    │ <span style=\"color: #800000; text-decoration-color: #800000\">22.127049</span>  │ <span style=\"color: #800000; text-decoration-color: #800000\">21.833673</span> │ <span style=\"color: #800000; text-decoration-color: #800000\">0.001048</span>  │ <span style=\"color: #800000; text-decoration-color: #800000\">0.001025</span> │ 6.7    │\n",
       "│ 67    │ <span style=\"color: #800000; text-decoration-color: #800000\">22.013762</span>  │ <span style=\"color: #800000; text-decoration-color: #800000\">21.824498</span> │ <span style=\"color: #800000; text-decoration-color: #800000\">0.001008</span>  │ <span style=\"color: #800000; text-decoration-color: #800000\">0.001025</span> │ 6.7    │\n",
       "│ 68    │ <span style=\"color: #800000; text-decoration-color: #800000\">21.847238</span>  │ <span style=\"color: #008000; text-decoration-color: #008000\">21.782135</span> │ <span style=\"color: #800000; text-decoration-color: #800000\">0.001034</span>  │ <span style=\"color: #800000; text-decoration-color: #800000\">0.001025</span> │ 6.8    │\n",
       "│ 69    │ <span style=\"color: #800000; text-decoration-color: #800000\">22.074410</span>  │ <span style=\"color: #800000; text-decoration-color: #800000\">21.844370</span> │ <span style=\"color: #008000; text-decoration-color: #008000\">0.001109</span>  │ <span style=\"color: #800000; text-decoration-color: #800000\">0.001025</span> │ 7.0    │\n",
       "│ 70    │ <span style=\"color: #800000; text-decoration-color: #800000\">22.017915</span>  │ <span style=\"color: #800000; text-decoration-color: #800000\">21.844186</span> │ <span style=\"color: #800000; text-decoration-color: #800000\">0.001028</span>  │ <span style=\"color: #800000; text-decoration-color: #800000\">0.001025</span> │ 6.7    │\n",
       "│ 71    │ <span style=\"color: #800000; text-decoration-color: #800000\">22.207305</span>  │ <span style=\"color: #800000; text-decoration-color: #800000\">21.837315</span> │ <span style=\"color: #800000; text-decoration-color: #800000\">0.000982</span>  │ <span style=\"color: #800000; text-decoration-color: #800000\">0.001025</span> │ 7.2    │\n",
       "│ 72    │ <span style=\"color: #800000; text-decoration-color: #800000\">22.001359</span>  │ <span style=\"color: #800000; text-decoration-color: #800000\">21.847552</span> │ <span style=\"color: #800000; text-decoration-color: #800000\">0.001025</span>  │ <span style=\"color: #800000; text-decoration-color: #800000\">0.001025</span> │ 7.1    │\n",
       "│ 73    │ <span style=\"color: #800000; text-decoration-color: #800000\">22.022303</span>  │ <span style=\"color: #800000; text-decoration-color: #800000\">21.836639</span> │ <span style=\"color: #800000; text-decoration-color: #800000\">0.001002</span>  │ <span style=\"color: #800000; text-decoration-color: #800000\">0.001025</span> │ 6.8    │\n",
       "│ 74    │ <span style=\"color: #800000; text-decoration-color: #800000\">22.061507</span>  │ <span style=\"color: #800000; text-decoration-color: #800000\">21.846769</span> │ <span style=\"color: #800000; text-decoration-color: #800000\">0.001040</span>  │ <span style=\"color: #800000; text-decoration-color: #800000\">0.001025</span> │ 6.7    │\n",
       "│ 75    │ <span style=\"color: #800000; text-decoration-color: #800000\">21.792195</span>  │ <span style=\"color: #800000; text-decoration-color: #800000\">21.846529</span> │ <span style=\"color: #800000; text-decoration-color: #800000\">0.001085</span>  │ <span style=\"color: #800000; text-decoration-color: #800000\">0.001025</span> │ 6.8    │\n",
       "│ 76    │ <span style=\"color: #800000; text-decoration-color: #800000\">22.020878</span>  │ <span style=\"color: #800000; text-decoration-color: #800000\">21.846353</span> │ <span style=\"color: #800000; text-decoration-color: #800000\">0.001023</span>  │ <span style=\"color: #800000; text-decoration-color: #800000\">0.001025</span> │ 6.9    │\n",
       "│ 77    │ <span style=\"color: #800000; text-decoration-color: #800000\">22.064238</span>  │ <span style=\"color: #800000; text-decoration-color: #800000\">21.845895</span> │ <span style=\"color: #800000; text-decoration-color: #800000\">0.001023</span>  │ <span style=\"color: #800000; text-decoration-color: #800000\">0.001025</span> │ 6.7    │\n",
       "│ 78    │ <span style=\"color: #800000; text-decoration-color: #800000\">21.954689</span>  │ <span style=\"color: #800000; text-decoration-color: #800000\">21.835140</span> │ <span style=\"color: #800000; text-decoration-color: #800000\">0.001042</span>  │ <span style=\"color: #800000; text-decoration-color: #800000\">0.001025</span> │ 7.5    │\n",
       "│ 79    │ <span style=\"color: #800000; text-decoration-color: #800000\">22.069420</span>  │ <span style=\"color: #800000; text-decoration-color: #800000\">21.836643</span> │ <span style=\"color: #800000; text-decoration-color: #800000\">0.001012</span>  │ <span style=\"color: #800000; text-decoration-color: #800000\">0.001025</span> │ 6.6    │\n",
       "│ 80    │ <span style=\"color: #800000; text-decoration-color: #800000\">22.128862</span>  │ <span style=\"color: #800000; text-decoration-color: #800000\">21.829076</span> │ <span style=\"color: #800000; text-decoration-color: #800000\">0.001025</span>  │ <span style=\"color: #800000; text-decoration-color: #800000\">0.001025</span> │ 6.8    │\n",
       "│ 81    │ <span style=\"color: #800000; text-decoration-color: #800000\">22.104050</span>  │ <span style=\"color: #800000; text-decoration-color: #800000\">21.853060</span> │ <span style=\"color: #800000; text-decoration-color: #800000\">0.001040</span>  │ <span style=\"color: #800000; text-decoration-color: #800000\">0.001025</span> │ 6.9    │\n",
       "│ 82    │ <span style=\"color: #800000; text-decoration-color: #800000\">22.007730</span>  │ <span style=\"color: #800000; text-decoration-color: #800000\">21.840414</span> │ <span style=\"color: #800000; text-decoration-color: #800000\">0.001062</span>  │ <span style=\"color: #800000; text-decoration-color: #800000\">0.001025</span> │ 6.9    │\n",
       "│ 83    │ <span style=\"color: #800000; text-decoration-color: #800000\">21.966112</span>  │ <span style=\"color: #800000; text-decoration-color: #800000\">21.826051</span> │ <span style=\"color: #800000; text-decoration-color: #800000\">0.001050</span>  │ <span style=\"color: #800000; text-decoration-color: #800000\">0.001025</span> │ 6.7    │\n",
       "│ 84    │ <span style=\"color: #800000; text-decoration-color: #800000\">22.028677</span>  │ <span style=\"color: #800000; text-decoration-color: #800000\">21.841568</span> │ <span style=\"color: #800000; text-decoration-color: #800000\">0.001017</span>  │ <span style=\"color: #800000; text-decoration-color: #800000\">0.001025</span> │ 7.0    │\n",
       "│ 85    │ <span style=\"color: #800000; text-decoration-color: #800000\">22.056778</span>  │ <span style=\"color: #800000; text-decoration-color: #800000\">21.826949</span> │ <span style=\"color: #800000; text-decoration-color: #800000\">0.001058</span>  │ <span style=\"color: #800000; text-decoration-color: #800000\">0.001025</span> │ 6.8    │\n",
       "│ 86    │ <span style=\"color: #800000; text-decoration-color: #800000\">22.112626</span>  │ <span style=\"color: #800000; text-decoration-color: #800000\">21.827582</span> │ <span style=\"color: #800000; text-decoration-color: #800000\">0.001046</span>  │ <span style=\"color: #800000; text-decoration-color: #800000\">0.001025</span> │ 7.2    │\n",
       "│ 87    │ <span style=\"color: #800000; text-decoration-color: #800000\">22.012990</span>  │ <span style=\"color: #800000; text-decoration-color: #800000\">21.823341</span> │ <span style=\"color: #800000; text-decoration-color: #800000\">0.001058</span>  │ <span style=\"color: #800000; text-decoration-color: #800000\">0.001025</span> │ 7.0    │\n",
       "│ 88    │ <span style=\"color: #800000; text-decoration-color: #800000\">21.997771</span>  │ <span style=\"color: #800000; text-decoration-color: #800000\">21.818647</span> │ <span style=\"color: #800000; text-decoration-color: #800000\">0.001008</span>  │ <span style=\"color: #800000; text-decoration-color: #800000\">0.001025</span> │ 6.9    │\n",
       "│ 89    │ <span style=\"color: #800000; text-decoration-color: #800000\">22.059612</span>  │ <span style=\"color: #800000; text-decoration-color: #800000\">21.838592</span> │ <span style=\"color: #800000; text-decoration-color: #800000\">0.001010</span>  │ <span style=\"color: #800000; text-decoration-color: #800000\">0.001025</span> │ 7.6    │\n",
       "└───────┴────────────┴───────────┴───────────┴──────────┴────────┘\n",
       " <span style=\"color: #f92672; text-decoration-color: #f92672\">━━━━━━━━━━━━━━━━━━━━━━━━━━━━━━━━━━━━</span><span style=\"color: #3a3a3a; text-decoration-color: #3a3a3a\">╺━━━</span> <span style=\"color: #800080; text-decoration-color: #800080\"> 90%</span> <span style=\"color: #008080; text-decoration-color: #008080\">0:01:14</span>  \n",
       "</pre>\n"
      ],
      "text/plain": [
       "┏━━━━━━━┳━━━━━━━━━━━━┳━━━━━━━━━━━┳━━━━━━━━━━━┳━━━━━━━━━━┳━━━━━━━━┓\n",
       "┃\u001b[1m \u001b[0m\u001b[1mepoch\u001b[0m\u001b[1m \u001b[0m┃\u001b[1m \u001b[0m\u001b[1mtrain/loss\u001b[0m\u001b[1m \u001b[0m┃\u001b[1m \u001b[0m\u001b[1mval/loss \u001b[0m\u001b[1m \u001b[0m┃\u001b[1m \u001b[0m\u001b[1mtrain/acc\u001b[0m\u001b[1m \u001b[0m┃\u001b[1m \u001b[0m\u001b[1mval/acc \u001b[0m\u001b[1m \u001b[0m┃\u001b[1m \u001b[0m\u001b[1mdur(s)\u001b[0m\u001b[1m \u001b[0m┃\n",
       "┡━━━━━━━╇━━━━━━━━━━━━╇━━━━━━━━━━━╇━━━━━━━━━━━╇━━━━━━━━━━╇━━━━━━━━┩\n",
       "│ 0     │ 21.960777  │ 21.837253 │ 0.000997  │ 0.001025 │ 6.9    │\n",
       "│ 1     │ \u001b[31m21.999228\u001b[0m  │ \u001b[32m21.814946\u001b[0m │ \u001b[32m0.001080\u001b[0m  │ \u001b[31m0.001025\u001b[0m │ 5.9    │\n",
       "│ 2     │ \u001b[31m22.022519\u001b[0m  │ \u001b[31m21.819518\u001b[0m │ \u001b[31m0.001059\u001b[0m  │ \u001b[31m0.001025\u001b[0m │ 5.9    │\n",
       "│ 3     │ \u001b[32m21.807635\u001b[0m  │ \u001b[31m21.842120\u001b[0m │ \u001b[32m0.001093\u001b[0m  │ \u001b[31m0.001025\u001b[0m │ 5.9    │\n",
       "│ 4     │ \u001b[31m21.972453\u001b[0m  │ \u001b[31m21.840737\u001b[0m │ \u001b[31m0.001038\u001b[0m  │ \u001b[31m0.001025\u001b[0m │ 6.1    │\n",
       "│ 5     │ \u001b[31m22.011145\u001b[0m  │ \u001b[31m21.844699\u001b[0m │ \u001b[31m0.001005\u001b[0m  │ \u001b[31m0.001025\u001b[0m │ 6.2    │\n",
       "│ 6     │ \u001b[31m22.118203\u001b[0m  │ \u001b[32m21.806759\u001b[0m │ \u001b[31m0.001013\u001b[0m  │ \u001b[31m0.001025\u001b[0m │ 6.1    │\n",
       "│ 7     │ \u001b[31m22.023744\u001b[0m  │ \u001b[31m21.848636\u001b[0m │ \u001b[31m0.001046\u001b[0m  │ \u001b[31m0.001025\u001b[0m │ 6.2    │\n",
       "│ 8     │ \u001b[31m21.901803\u001b[0m  │ \u001b[31m21.845760\u001b[0m │ \u001b[31m0.001039\u001b[0m  │ \u001b[31m0.001025\u001b[0m │ 6.4    │\n",
       "│ 9     │ \u001b[31m22.075481\u001b[0m  │ \u001b[31m21.826322\u001b[0m │ \u001b[31m0.000972\u001b[0m  │ \u001b[31m0.001025\u001b[0m │ 6.0    │\n",
       "│ 10    │ \u001b[31m22.060517\u001b[0m  │ \u001b[31m21.847754\u001b[0m │ \u001b[31m0.001047\u001b[0m  │ \u001b[31m0.001025\u001b[0m │ 6.1    │\n",
       "│ 11    │ \u001b[32m21.753146\u001b[0m  │ \u001b[31m21.823861\u001b[0m │ \u001b[31m0.001065\u001b[0m  │ \u001b[31m0.001025\u001b[0m │ 6.2    │\n",
       "│ 12    │ \u001b[31m22.110190\u001b[0m  │ \u001b[31m21.833380\u001b[0m │ \u001b[31m0.001053\u001b[0m  │ \u001b[31m0.001025\u001b[0m │ 6.1    │\n",
       "│ 13    │ \u001b[31m22.019134\u001b[0m  │ \u001b[31m21.840486\u001b[0m │ \u001b[31m0.001005\u001b[0m  │ \u001b[31m0.001025\u001b[0m │ 6.3    │\n",
       "│ 14    │ \u001b[31m22.082112\u001b[0m  │ \u001b[31m21.840646\u001b[0m │ \u001b[31m0.001029\u001b[0m  │ \u001b[31m0.001025\u001b[0m │ 6.4    │\n",
       "│ 15    │ \u001b[31m22.033630\u001b[0m  │ \u001b[32m21.800688\u001b[0m │ \u001b[31m0.001051\u001b[0m  │ \u001b[31m0.001025\u001b[0m │ 6.1    │\n",
       "│ 16    │ \u001b[31m22.132235\u001b[0m  │ \u001b[31m21.822047\u001b[0m │ \u001b[31m0.000991\u001b[0m  │ \u001b[31m0.001025\u001b[0m │ 6.2    │\n",
       "│ 17    │ \u001b[31m21.985966\u001b[0m  │ \u001b[31m21.848256\u001b[0m │ \u001b[31m0.001082\u001b[0m  │ \u001b[31m0.001025\u001b[0m │ 6.5    │\n",
       "│ 18    │ \u001b[31m22.083195\u001b[0m  │ \u001b[31m21.846689\u001b[0m │ \u001b[31m0.001039\u001b[0m  │ \u001b[31m0.001025\u001b[0m │ 6.3    │\n",
       "│ 19    │ \u001b[31m22.028708\u001b[0m  │ \u001b[31m21.847018\u001b[0m │ \u001b[31m0.001013\u001b[0m  │ \u001b[31m0.001025\u001b[0m │ 6.4    │\n",
       "│ 20    │ \u001b[31m21.977361\u001b[0m  │ \u001b[31m21.844926\u001b[0m │ \u001b[31m0.001025\u001b[0m  │ \u001b[31m0.001025\u001b[0m │ 6.3    │\n",
       "│ 21    │ \u001b[31m22.086658\u001b[0m  │ \u001b[31m21.839880\u001b[0m │ \u001b[31m0.001020\u001b[0m  │ \u001b[31m0.001025\u001b[0m │ 6.7    │\n",
       "│ 22    │ \u001b[31m22.060078\u001b[0m  │ \u001b[31m21.834441\u001b[0m │ \u001b[31m0.001004\u001b[0m  │ \u001b[31m0.001025\u001b[0m │ 6.4    │\n",
       "│ 23    │ \u001b[31m21.847501\u001b[0m  │ \u001b[31m21.836887\u001b[0m │ \u001b[31m0.001072\u001b[0m  │ \u001b[31m0.001025\u001b[0m │ 6.7    │\n",
       "│ 24    │ \u001b[31m22.107481\u001b[0m  │ \u001b[32m21.800050\u001b[0m │ \u001b[31m0.000974\u001b[0m  │ \u001b[31m0.001025\u001b[0m │ 6.5    │\n",
       "│ 25    │ \u001b[31m21.960583\u001b[0m  │ \u001b[31m21.810136\u001b[0m │ \u001b[31m0.001057\u001b[0m  │ \u001b[31m0.001025\u001b[0m │ 6.3    │\n",
       "│ 26    │ \u001b[31m21.963554\u001b[0m  │ \u001b[31m21.801702\u001b[0m │ \u001b[31m0.001057\u001b[0m  │ \u001b[31m0.001025\u001b[0m │ 6.4    │\n",
       "│ 27    │ \u001b[31m21.932799\u001b[0m  │ \u001b[31m21.817315\u001b[0m │ \u001b[31m0.001009\u001b[0m  │ \u001b[31m0.001025\u001b[0m │ 6.5    │\n",
       "│ 28    │ \u001b[31m21.843423\u001b[0m  │ \u001b[31m21.822698\u001b[0m │ \u001b[31m0.001047\u001b[0m  │ \u001b[31m0.001025\u001b[0m │ 6.6    │\n",
       "│ 29    │ \u001b[31m22.062059\u001b[0m  │ \u001b[31m21.828049\u001b[0m │ \u001b[31m0.001027\u001b[0m  │ \u001b[31m0.001025\u001b[0m │ 6.6    │\n",
       "│ 30    │ \u001b[31m22.006302\u001b[0m  │ \u001b[31m21.844309\u001b[0m │ \u001b[31m0.001017\u001b[0m  │ \u001b[31m0.001025\u001b[0m │ 6.5    │\n",
       "│ 31    │ \u001b[31m21.890476\u001b[0m  │ \u001b[31m21.834391\u001b[0m │ \u001b[31m0.001090\u001b[0m  │ \u001b[31m0.001025\u001b[0m │ 6.6    │\n",
       "│ 32    │ \u001b[31m21.944794\u001b[0m  │ \u001b[31m21.847700\u001b[0m │ \u001b[31m0.001039\u001b[0m  │ \u001b[31m0.001025\u001b[0m │ 6.4    │\n",
       "│ 33    │ \u001b[31m22.040176\u001b[0m  │ \u001b[32m21.794580\u001b[0m │ \u001b[31m0.000978\u001b[0m  │ \u001b[31m0.001025\u001b[0m │ 6.5    │\n",
       "│ 34    │ \u001b[31m22.140384\u001b[0m  │ \u001b[31m21.826681\u001b[0m │ \u001b[31m0.001043\u001b[0m  │ \u001b[31m0.001025\u001b[0m │ 6.4    │\n",
       "│ 35    │ \u001b[31m22.068311\u001b[0m  │ \u001b[31m21.834175\u001b[0m │ \u001b[31m0.001040\u001b[0m  │ \u001b[31m0.001025\u001b[0m │ 6.6    │\n",
       "│ 36    │ \u001b[31m21.989203\u001b[0m  │ \u001b[31m21.825790\u001b[0m │ \u001b[31m0.001074\u001b[0m  │ \u001b[31m0.001025\u001b[0m │ 6.2    │\n",
       "│ 37    │ \u001b[31m22.089188\u001b[0m  │ \u001b[31m21.843402\u001b[0m │ \u001b[31m0.001010\u001b[0m  │ \u001b[31m0.001025\u001b[0m │ 6.4    │\n",
       "│ 38    │ \u001b[31m22.116336\u001b[0m  │ \u001b[31m21.833327\u001b[0m │ \u001b[31m0.001021\u001b[0m  │ \u001b[31m0.001025\u001b[0m │ 6.6    │\n",
       "│ 39    │ \u001b[31m21.996094\u001b[0m  │ \u001b[31m21.843421\u001b[0m │ \u001b[31m0.001065\u001b[0m  │ \u001b[31m0.001025\u001b[0m │ 6.5    │\n",
       "│ 40    │ \u001b[31m21.968361\u001b[0m  │ \u001b[31m21.825582\u001b[0m │ \u001b[31m0.001024\u001b[0m  │ \u001b[31m0.001025\u001b[0m │ 6.5    │\n",
       "│ 41    │ \u001b[31m21.999423\u001b[0m  │ \u001b[31m21.832989\u001b[0m │ \u001b[31m0.001054\u001b[0m  │ \u001b[31m0.001025\u001b[0m │ 6.7    │\n",
       "│ 42    │ \u001b[31m22.138747\u001b[0m  │ \u001b[31m21.848404\u001b[0m │ \u001b[31m0.000989\u001b[0m  │ \u001b[31m0.001025\u001b[0m │ 6.8    │\n",
       "│ 43    │ \u001b[31m21.939850\u001b[0m  │ \u001b[31m21.834260\u001b[0m │ \u001b[31m0.001074\u001b[0m  │ \u001b[31m0.001025\u001b[0m │ 6.8    │\n",
       "│ 44    │ \u001b[31m21.851898\u001b[0m  │ \u001b[31m21.848591\u001b[0m │ \u001b[31m0.001085\u001b[0m  │ \u001b[31m0.001025\u001b[0m │ 6.7    │\n",
       "│ 45    │ \u001b[31m21.902458\u001b[0m  │ \u001b[31m21.824277\u001b[0m │ \u001b[31m0.001065\u001b[0m  │ \u001b[31m0.001025\u001b[0m │ 6.9    │\n",
       "│ 46    │ \u001b[31m22.008917\u001b[0m  │ \u001b[31m21.841195\u001b[0m │ \u001b[31m0.000996\u001b[0m  │ \u001b[31m0.001025\u001b[0m │ 6.7    │\n",
       "│ 47    │ \u001b[31m22.046900\u001b[0m  │ \u001b[31m21.844176\u001b[0m │ \u001b[31m0.001062\u001b[0m  │ \u001b[31m0.001025\u001b[0m │ 6.3    │\n",
       "│ 48    │ \u001b[31m21.944022\u001b[0m  │ \u001b[31m21.840653\u001b[0m │ \u001b[31m0.001048\u001b[0m  │ \u001b[31m0.001025\u001b[0m │ 6.6    │\n",
       "│ 49    │ \u001b[31m22.058904\u001b[0m  │ \u001b[31m21.846817\u001b[0m │ \u001b[31m0.001038\u001b[0m  │ \u001b[31m0.001025\u001b[0m │ 6.8    │\n",
       "│ 50    │ \u001b[31m21.952494\u001b[0m  │ \u001b[31m21.805006\u001b[0m │ \u001b[31m0.001059\u001b[0m  │ \u001b[31m0.001025\u001b[0m │ 6.6    │\n",
       "│ 51    │ \u001b[31m22.114142\u001b[0m  │ \u001b[31m21.845915\u001b[0m │ \u001b[31m0.001036\u001b[0m  │ \u001b[31m0.001025\u001b[0m │ 6.9    │\n",
       "│ 52    │ \u001b[31m21.939853\u001b[0m  │ \u001b[31m21.822189\u001b[0m │ \u001b[31m0.001050\u001b[0m  │ \u001b[31m0.001025\u001b[0m │ 6.4    │\n",
       "│ 53    │ \u001b[31m21.977340\u001b[0m  │ \u001b[31m21.818811\u001b[0m │ \u001b[31m0.001076\u001b[0m  │ \u001b[31m0.001025\u001b[0m │ 6.4    │\n",
       "│ 54    │ \u001b[31m21.958647\u001b[0m  │ \u001b[31m21.843050\u001b[0m │ \u001b[31m0.001016\u001b[0m  │ \u001b[31m0.001025\u001b[0m │ 6.5    │\n",
       "│ 55    │ \u001b[31m21.973229\u001b[0m  │ \u001b[31m21.827525\u001b[0m │ \u001b[31m0.001039\u001b[0m  │ \u001b[31m0.001025\u001b[0m │ 6.5    │\n",
       "│ 56    │ \u001b[31m22.143959\u001b[0m  │ \u001b[31m21.825645\u001b[0m │ \u001b[31m0.001000\u001b[0m  │ \u001b[31m0.001025\u001b[0m │ 7.2    │\n",
       "│ 57    │ \u001b[31m22.339771\u001b[0m  │ \u001b[31m21.832386\u001b[0m │ \u001b[31m0.001013\u001b[0m  │ \u001b[31m0.001025\u001b[0m │ 6.7    │\n",
       "│ 58    │ \u001b[31m21.873056\u001b[0m  │ \u001b[31m21.853625\u001b[0m │ \u001b[31m0.001058\u001b[0m  │ \u001b[31m0.001025\u001b[0m │ 6.6    │\n",
       "│ 59    │ \u001b[31m22.032759\u001b[0m  │ \u001b[31m21.829240\u001b[0m │ \u001b[31m0.001062\u001b[0m  │ \u001b[31m0.001025\u001b[0m │ 6.7    │\n",
       "│ 60    │ \u001b[31m22.017200\u001b[0m  │ \u001b[31m21.848845\u001b[0m │ \u001b[31m0.001001\u001b[0m  │ \u001b[31m0.001025\u001b[0m │ 7.1    │\n",
       "│ 61    │ \u001b[31m22.017156\u001b[0m  │ \u001b[31m21.829909\u001b[0m │ \u001b[31m0.000985\u001b[0m  │ \u001b[31m0.001025\u001b[0m │ 6.6    │\n",
       "│ 62    │ \u001b[31m21.879841\u001b[0m  │ \u001b[31m21.842386\u001b[0m │ \u001b[31m0.001092\u001b[0m  │ \u001b[31m0.001025\u001b[0m │ 6.7    │\n",
       "│ 63    │ \u001b[31m22.117998\u001b[0m  │ \u001b[31m21.823548\u001b[0m │ \u001b[31m0.001025\u001b[0m  │ \u001b[31m0.001025\u001b[0m │ 6.6    │\n",
       "│ 64    │ \u001b[31m22.041915\u001b[0m  │ \u001b[31m21.828215\u001b[0m │ \u001b[31m0.001001\u001b[0m  │ \u001b[31m0.001025\u001b[0m │ 6.6    │\n",
       "│ 65    │ \u001b[31m21.984792\u001b[0m  │ \u001b[31m21.848317\u001b[0m │ \u001b[31m0.001019\u001b[0m  │ \u001b[31m0.001025\u001b[0m │ 6.7    │\n",
       "│ 66    │ \u001b[31m22.127049\u001b[0m  │ \u001b[31m21.833673\u001b[0m │ \u001b[31m0.001048\u001b[0m  │ \u001b[31m0.001025\u001b[0m │ 6.7    │\n",
       "│ 67    │ \u001b[31m22.013762\u001b[0m  │ \u001b[31m21.824498\u001b[0m │ \u001b[31m0.001008\u001b[0m  │ \u001b[31m0.001025\u001b[0m │ 6.7    │\n",
       "│ 68    │ \u001b[31m21.847238\u001b[0m  │ \u001b[32m21.782135\u001b[0m │ \u001b[31m0.001034\u001b[0m  │ \u001b[31m0.001025\u001b[0m │ 6.8    │\n",
       "│ 69    │ \u001b[31m22.074410\u001b[0m  │ \u001b[31m21.844370\u001b[0m │ \u001b[32m0.001109\u001b[0m  │ \u001b[31m0.001025\u001b[0m │ 7.0    │\n",
       "│ 70    │ \u001b[31m22.017915\u001b[0m  │ \u001b[31m21.844186\u001b[0m │ \u001b[31m0.001028\u001b[0m  │ \u001b[31m0.001025\u001b[0m │ 6.7    │\n",
       "│ 71    │ \u001b[31m22.207305\u001b[0m  │ \u001b[31m21.837315\u001b[0m │ \u001b[31m0.000982\u001b[0m  │ \u001b[31m0.001025\u001b[0m │ 7.2    │\n",
       "│ 72    │ \u001b[31m22.001359\u001b[0m  │ \u001b[31m21.847552\u001b[0m │ \u001b[31m0.001025\u001b[0m  │ \u001b[31m0.001025\u001b[0m │ 7.1    │\n",
       "│ 73    │ \u001b[31m22.022303\u001b[0m  │ \u001b[31m21.836639\u001b[0m │ \u001b[31m0.001002\u001b[0m  │ \u001b[31m0.001025\u001b[0m │ 6.8    │\n",
       "│ 74    │ \u001b[31m22.061507\u001b[0m  │ \u001b[31m21.846769\u001b[0m │ \u001b[31m0.001040\u001b[0m  │ \u001b[31m0.001025\u001b[0m │ 6.7    │\n",
       "│ 75    │ \u001b[31m21.792195\u001b[0m  │ \u001b[31m21.846529\u001b[0m │ \u001b[31m0.001085\u001b[0m  │ \u001b[31m0.001025\u001b[0m │ 6.8    │\n",
       "│ 76    │ \u001b[31m22.020878\u001b[0m  │ \u001b[31m21.846353\u001b[0m │ \u001b[31m0.001023\u001b[0m  │ \u001b[31m0.001025\u001b[0m │ 6.9    │\n",
       "│ 77    │ \u001b[31m22.064238\u001b[0m  │ \u001b[31m21.845895\u001b[0m │ \u001b[31m0.001023\u001b[0m  │ \u001b[31m0.001025\u001b[0m │ 6.7    │\n",
       "│ 78    │ \u001b[31m21.954689\u001b[0m  │ \u001b[31m21.835140\u001b[0m │ \u001b[31m0.001042\u001b[0m  │ \u001b[31m0.001025\u001b[0m │ 7.5    │\n",
       "│ 79    │ \u001b[31m22.069420\u001b[0m  │ \u001b[31m21.836643\u001b[0m │ \u001b[31m0.001012\u001b[0m  │ \u001b[31m0.001025\u001b[0m │ 6.6    │\n",
       "│ 80    │ \u001b[31m22.128862\u001b[0m  │ \u001b[31m21.829076\u001b[0m │ \u001b[31m0.001025\u001b[0m  │ \u001b[31m0.001025\u001b[0m │ 6.8    │\n",
       "│ 81    │ \u001b[31m22.104050\u001b[0m  │ \u001b[31m21.853060\u001b[0m │ \u001b[31m0.001040\u001b[0m  │ \u001b[31m0.001025\u001b[0m │ 6.9    │\n",
       "│ 82    │ \u001b[31m22.007730\u001b[0m  │ \u001b[31m21.840414\u001b[0m │ \u001b[31m0.001062\u001b[0m  │ \u001b[31m0.001025\u001b[0m │ 6.9    │\n",
       "│ 83    │ \u001b[31m21.966112\u001b[0m  │ \u001b[31m21.826051\u001b[0m │ \u001b[31m0.001050\u001b[0m  │ \u001b[31m0.001025\u001b[0m │ 6.7    │\n",
       "│ 84    │ \u001b[31m22.028677\u001b[0m  │ \u001b[31m21.841568\u001b[0m │ \u001b[31m0.001017\u001b[0m  │ \u001b[31m0.001025\u001b[0m │ 7.0    │\n",
       "│ 85    │ \u001b[31m22.056778\u001b[0m  │ \u001b[31m21.826949\u001b[0m │ \u001b[31m0.001058\u001b[0m  │ \u001b[31m0.001025\u001b[0m │ 6.8    │\n",
       "│ 86    │ \u001b[31m22.112626\u001b[0m  │ \u001b[31m21.827582\u001b[0m │ \u001b[31m0.001046\u001b[0m  │ \u001b[31m0.001025\u001b[0m │ 7.2    │\n",
       "│ 87    │ \u001b[31m22.012990\u001b[0m  │ \u001b[31m21.823341\u001b[0m │ \u001b[31m0.001058\u001b[0m  │ \u001b[31m0.001025\u001b[0m │ 7.0    │\n",
       "│ 88    │ \u001b[31m21.997771\u001b[0m  │ \u001b[31m21.818647\u001b[0m │ \u001b[31m0.001008\u001b[0m  │ \u001b[31m0.001025\u001b[0m │ 6.9    │\n",
       "│ 89    │ \u001b[31m22.059612\u001b[0m  │ \u001b[31m21.838592\u001b[0m │ \u001b[31m0.001010\u001b[0m  │ \u001b[31m0.001025\u001b[0m │ 7.6    │\n",
       "└───────┴────────────┴───────────┴───────────┴──────────┴────────┘\n",
       " \u001b[38;2;249;38;114m━━━━━━━━━━━━━━━━━━━━━━━━━━━━━━━━━━━━\u001b[0m\u001b[38;5;237m╺\u001b[0m\u001b[38;5;237m━━━\u001b[0m \u001b[35m 90%\u001b[0m \u001b[36m0:01:14\u001b[0m  \n"
      ]
     },
     "metadata": {},
     "output_type": "display_data"
    }
   ],
   "source": [
    "model, scheduler, optimizer = run_optimization_loop()"
   ]
  },
  {
   "cell_type": "code",
   "execution_count": 15,
   "id": "8ef87e8d-6ebb-45e3-bee6-22281f5953f3",
   "metadata": {},
   "outputs": [
    {
     "data": {
      "text/html": [
       "<pre style=\"white-space:pre;overflow-x:auto;line-height:normal;font-family:Menlo,'DejaVu Sans Mono',consolas,'Courier New',monospace\"><span style=\"color: #7fbfbf; text-decoration-color: #7fbfbf\">           </span><span style=\"color: #800080; text-decoration-color: #800080; font-weight: bold\">tensor</span><span style=\"font-weight: bold\">([</span><span style=\"color: #008080; text-decoration-color: #008080; font-weight: bold\">5</span>.<span style=\"font-weight: bold\">]</span>, <span style=\"color: #808000; text-decoration-color: #808000\">device</span>=<span style=\"color: #008000; text-decoration-color: #008000\">'cuda:0'</span><span style=\"font-weight: bold\">)</span>                                                             <a href=\"file:///tmp/ipykernel_1760775/873647403.py\" target=\"_blank\"><span style=\"color: #7f7f7f; text-decoration-color: #7f7f7f\">873647403.py</span></a><span style=\"color: #7f7f7f; text-decoration-color: #7f7f7f\">:</span><a href=\"file:///tmp/ipykernel_1760775/873647403.py#3\" target=\"_blank\"><span style=\"color: #7f7f7f; text-decoration-color: #7f7f7f\">3</span></a>\n",
       "</pre>\n"
      ],
      "text/plain": [
       "\u001b[2;36m          \u001b[0m\u001b[2;36m \u001b[0m\u001b[1;35mtensor\u001b[0m\u001b[1m(\u001b[0m\u001b[1m[\u001b[0m\u001b[1;36m5\u001b[0m.\u001b[1m]\u001b[0m, \u001b[33mdevice\u001b[0m=\u001b[32m'cuda:0'\u001b[0m\u001b[1m)\u001b[0m                                                             \u001b]8;id=115518;file:///tmp/ipykernel_1760775/873647403.py\u001b\\\u001b[2m873647403.py\u001b[0m\u001b]8;;\u001b\\\u001b[2m:\u001b[0m\u001b]8;id=985729;file:///tmp/ipykernel_1760775/873647403.py#3\u001b\\\u001b[2m3\u001b[0m\u001b]8;;\u001b\\\n"
      ]
     },
     "metadata": {},
     "output_type": "display_data"
    }
   ],
   "source": [
    "out, _ = model(wav)\n",
    "pred = torch.softmax(out, dim=1).argmax(dim=1).float()\n",
    "console.log(pred)"
   ]
  },
  {
   "cell_type": "code",
   "execution_count": null,
   "id": "b23e48ae-03a0-4c95-b75e-43c8d3fe7e89",
   "metadata": {},
   "outputs": [],
   "source": []
  }
 ],
 "metadata": {
  "kernelspec": {
   "display_name": "Python 3 (ipykernel)",
   "language": "python",
   "name": "python3"
  },
  "language_info": {
   "codemirror_mode": {
    "name": "ipython",
    "version": 3
   },
   "file_extension": ".py",
   "mimetype": "text/x-python",
   "name": "python",
   "nbconvert_exporter": "python",
   "pygments_lexer": "ipython3",
   "version": "3.10.9"
  }
 },
 "nbformat": 4,
 "nbformat_minor": 5
}
