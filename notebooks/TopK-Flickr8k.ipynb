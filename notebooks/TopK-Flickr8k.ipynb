{
 "cells": [
  {
   "cell_type": "code",
   "execution_count": 1,
   "id": "c96c41ab-f018-458b-87c1-4e6c2b98d83a",
   "metadata": {},
   "outputs": [
    {
     "name": "stderr",
     "output_type": "stream",
     "text": [
      "/home/enemy/miniconda3/envs/mmir/lib/python3.11/site-packages/tqdm/auto.py:21: TqdmWarning: IProgress not found. Please update jupyter and ipywidgets. See https://ipywidgets.readthedocs.io/en/stable/user_install.html\n",
      "  from .autonotebook import tqdm as notebook_tqdm\n",
      "Some weights of Wav2Vec2ConformerModel were not initialized from the model checkpoint at facebook/wav2vec2-conformer-rope-large-960h-ft and are newly initialized: ['wav2vec2_conformer.encoder.pos_conv_embed.conv.parametrizations.weight.original0', 'wav2vec2_conformer.encoder.pos_conv_embed.conv.parametrizations.weight.original1']\n",
      "You should probably TRAIN this model on a down-stream task to be able to use it for predictions and inference.\n",
      "/home/enemy/miniconda3/envs/mmir/lib/python3.11/site-packages/torch/nn/modules/conv.py:306: UserWarning: Plan failed with a cudnnException: CUDNN_BACKEND_EXECUTION_PLAN_DESCRIPTOR: cudnnFinalize Descriptor Failed cudnn_status: CUDNN_STATUS_NOT_SUPPORTED (Triggered internally at /opt/conda/conda-bld/pytorch_1712608853085/work/aten/src/ATen/native/cudnn/Conv_v8.cpp:919.)\n",
      "  return F.conv1d(input, weight, bias, self.stride,\n"
     ]
    }
   ],
   "source": [
    "import torch\n",
    "import torch.nn as nn\n",
    "import pandas as pd\n",
    "import pathlib\n",
    "import os, sys\n",
    "from typing import List\n",
    "\n",
    "currentUrl = os.path.dirname(\"./notebooks\")\n",
    "parentUrl = os.path.abspath(os.path.join(currentUrl, os.pardir))\n",
    "sys.path.append(parentUrl)\n",
    "\n",
    "from src.models.MultiModalFusion import MultiModalFusion\n",
    "from src.trainer.MultiModalFusionTrainer import MultiModalFusionTrainer\n",
    "from src.utils.Retrieval import FetchSimilar\n",
    "import yaml\n",
    "from IPython.display import Audio, display, display_jpeg, Image\n",
    "from IPython.core.display import HTML\n",
    "from PIL import Image\n",
    "\n",
    "with open('../configs/MultiModalFusion.yaml', 'r') as f:\n",
    "    config = yaml.safe_load(f)\n",
    "\n",
    "fetcher = FetchSimilar(\n",
    "    chkpt_path=\"../logs/MultiModalFusion/uel3r2lo/checkpoints/epoch=95-val_loss=3.12-val_mean_similarity=0.37.ckpt\",\n",
    "    image_path=\"../datasets/flickr8k_audio_test/images/\",\n",
    "    audio_path=\"../datasets/flickr8k_audio_test/wavs/\",\n",
    "    device=\"cuda\"\n",
    ")"
   ]
  },
  {
   "cell_type": "code",
   "execution_count": 2,
   "id": "ffeb6388-9741-489d-b75e-22d6054a4915",
   "metadata": {},
   "outputs": [
    {
     "data": {
      "text/html": [
       "<div>\n",
       "<style scoped>\n",
       "    .dataframe tbody tr th:only-of-type {\n",
       "        vertical-align: middle;\n",
       "    }\n",
       "\n",
       "    .dataframe tbody tr th {\n",
       "        vertical-align: top;\n",
       "    }\n",
       "\n",
       "    .dataframe thead th {\n",
       "        text-align: right;\n",
       "    }\n",
       "</style>\n",
       "<table border=\"1\" class=\"dataframe\">\n",
       "  <thead>\n",
       "    <tr style=\"text-align: right;\">\n",
       "      <th></th>\n",
       "      <th>image</th>\n",
       "      <th>caption</th>\n",
       "    </tr>\n",
       "  </thead>\n",
       "  <tbody>\n",
       "    <tr>\n",
       "      <th>0</th>\n",
       "      <td>1000268201_693b08cb0e.jpg</td>\n",
       "      <td>A child in a pink dress is climbing up a set o...</td>\n",
       "    </tr>\n",
       "    <tr>\n",
       "      <th>1</th>\n",
       "      <td>1000268201_693b08cb0e.jpg</td>\n",
       "      <td>A girl going into a wooden building .</td>\n",
       "    </tr>\n",
       "    <tr>\n",
       "      <th>2</th>\n",
       "      <td>1000268201_693b08cb0e.jpg</td>\n",
       "      <td>A little girl climbing into a wooden playhouse .</td>\n",
       "    </tr>\n",
       "    <tr>\n",
       "      <th>3</th>\n",
       "      <td>1000268201_693b08cb0e.jpg</td>\n",
       "      <td>A little girl climbing the stairs to her playh...</td>\n",
       "    </tr>\n",
       "    <tr>\n",
       "      <th>4</th>\n",
       "      <td>1000268201_693b08cb0e.jpg</td>\n",
       "      <td>A little girl in a pink dress going into a woo...</td>\n",
       "    </tr>\n",
       "  </tbody>\n",
       "</table>\n",
       "</div>"
      ],
      "text/plain": [
       "                       image  \\\n",
       "0  1000268201_693b08cb0e.jpg   \n",
       "1  1000268201_693b08cb0e.jpg   \n",
       "2  1000268201_693b08cb0e.jpg   \n",
       "3  1000268201_693b08cb0e.jpg   \n",
       "4  1000268201_693b08cb0e.jpg   \n",
       "\n",
       "                                             caption  \n",
       "0  A child in a pink dress is climbing up a set o...  \n",
       "1              A girl going into a wooden building .  \n",
       "2   A little girl climbing into a wooden playhouse .  \n",
       "3  A little girl climbing the stairs to her playh...  \n",
       "4  A little girl in a pink dress going into a woo...  "
      ]
     },
     "execution_count": 2,
     "metadata": {},
     "output_type": "execute_result"
    }
   ],
   "source": [
    "captions = pd.read_csv(\"../datasets/flickr8k_audio_test/captions.txt\", sep=',')\n",
    "captions.loc[captions['image'] == '1000268201_693b08cb0e.jpg']#.iloc[0].caption"
   ]
  },
  {
   "cell_type": "code",
   "execution_count": 32,
   "id": "4083a903-7a6b-45af-b1e2-73aeaa618cb4",
   "metadata": {},
   "outputs": [],
   "source": [
    "def extract_captions(file:str|pathlib.PosixPath) -> str:\n",
    "    if type(file) == str:\n",
    "        file = pathlib.Path(file)\n",
    "    if file.suffix == \".wav\":\n",
    "        stem_split = file.stem.split('_')\n",
    "        filename, speaker = \"_\".join(stem_split[:-1]) + \".jpg\", int(stem_split[-1])\n",
    "        return captions.loc[captions['image'] == filename].iloc[speaker].caption\n",
    "    else:\n",
    "        return \" / \".join([caption for caption in captions.loc[captions['image'] == file.name].caption])"
   ]
  },
  {
   "cell_type": "code",
   "execution_count": 39,
   "id": "4f55d589-864a-4047-b468-61b3419afc1d",
   "metadata": {},
   "outputs": [],
   "source": [
    "def render_top_k(query_path:str|pathlib.PosixPath, top_k:dict, query_class:str|None=None) -> None:\n",
    "    data = []\n",
    "    if type(query_path) == str:\n",
    "        query_path = pathlib.Path(query_path)\n",
    "    if query_path.suffix == \".wav\":\n",
    "        query_html = f'<audio controls src=\"{query_path}\" style=\"display:block; margin:0 auto;\"></audio>'\n",
    "    else:\n",
    "        query_html = f'<img src=\"{query_path}\" alt=\"query image\" style=\"max-width:300px; height:auto; display:block; margin:0 auto;\">'\n",
    "        \n",
    "    for k, v in top_k.items():\n",
    "        path, cls, embed, score = v.values()\n",
    "        caption = extract_captions(path)\n",
    "        data += [{ \"path\": path, \"caption\": caption, \"embed\": embed, \"score\": score, \"modality\": k.split(\"#\")[1]}]\n",
    "    # Define a function to render HTML for images and audio\n",
    "    def render_table(idx, row):\n",
    "        if row[\"modality\"] == \"image\":\n",
    "            display = f'<img src=\"{row[\"path\"]}\" alt=\"{row[\"caption\"]}\" style=\"width:100px;height:auto;\">'\n",
    "        else:\n",
    "            display = f'<audio controls src=\"{row[\"path\"]}\" style=\"width:200px;\"></audio>'\n",
    "        return f'<tr><td>{idx+1}</td><td>{display}</td><td>{row[\"caption\"]}</td><td>{row[\"score\"]:.3f}</td></tr>'\n",
    "    \n",
    "    # Generate the table HTML\n",
    "    table_html = \"\"\"\n",
    "    <table border=\"1\" style=\"border-collapse:collapse; text-align:center; margin:auto;\">\n",
    "        <tr>\n",
    "            <th>Rank</th>\n",
    "            <th>Display</th>\n",
    "            <th>Caption</th>\n",
    "            <th>Similarity Score</th>\n",
    "        </tr>\n",
    "    \"\"\"\n",
    "    for idx, row in enumerate(data):\n",
    "        table_html += render_table(idx, row)\n",
    "    table_html += \"</table>\"\n",
    "\n",
    "    # Combine top media and the table\n",
    "    full_html = f\"\"\"\n",
    "    <div style=\"text-align:center; margin-bottom:20px;\">\n",
    "        <b>{query_class if query_class is not None else str(query_path)}</b>\n",
    "        {query_html}\n",
    "    </div>\n",
    "    {table_html}\n",
    "    \"\"\"\n",
    "    \n",
    "    # Display the complete HTML\n",
    "    display(HTML(full_html))"
   ]
  },
  {
   "cell_type": "code",
   "execution_count": 40,
   "id": "63af7c0e-8839-47e1-9aea-eafe25a998bc",
   "metadata": {},
   "outputs": [
    {
     "data": {
      "text/html": [
       "\n",
       "    <div style=\"text-align:center; margin-bottom:20px;\">\n",
       "        <b>Two toddlers are eating corndogs in a small wagon or bin .</b>\n",
       "        <audio controls src=\"../datasets/flickr8k_audio_test/wavs/1977827746_4e13d7e19f_3.wav\" style=\"display:block; margin:0 auto;\"></audio>\n",
       "    </div>\n",
       "    \n",
       "    <table border=\"1\" style=\"border-collapse:collapse; text-align:center; margin:auto;\">\n",
       "        <tr>\n",
       "            <th>Rank</th>\n",
       "            <th>Display</th>\n",
       "            <th>Caption</th>\n",
       "            <th>Similarity Score</th>\n",
       "        </tr>\n",
       "    <tr><td>1</td><td><img src=\"../datasets/flickr8k_audio_test/images/1977827746_4e13d7e19f.jpg\" alt=\"A young boy and girl sit in a wagon eating corndogs . / Two kids eat corndogs outside . / Two kids sit in a plastic tub outdoors , holding corndogs . / Two toddlers are eating corndogs in a small wagon or bin . / two young children eat corndogs .\" style=\"width:100px;height:auto;\"></td><td>A young boy and girl sit in a wagon eating corndogs . / Two kids eat corndogs outside . / Two kids sit in a plastic tub outdoors , holding corndogs . / Two toddlers are eating corndogs in a small wagon or bin . / two young children eat corndogs .</td><td>0.183</td></tr><tr><td>2</td><td><img src=\"../datasets/flickr8k_audio_test/images/2467803152_70eeca1334.jpg\" alt=\"A big brown dog runs with a stick in his mouth , and a big black down runs behind him . / A black dog and a brown dog with a stick in his mouth are running in the field . / A brown dog runs with a stick in its mouth and a black dog follows . / A dog running with a stick in its mouth . / Two dogs are running , one of them has a stick in its mouth .\" style=\"width:100px;height:auto;\"></td><td>A big brown dog runs with a stick in his mouth , and a big black down runs behind him . / A black dog and a brown dog with a stick in his mouth are running in the field . / A brown dog runs with a stick in its mouth and a black dog follows . / A dog running with a stick in its mouth . / Two dogs are running , one of them has a stick in its mouth .</td><td>0.142</td></tr><tr><td>3</td><td><img src=\"../datasets/flickr8k_audio_test/images/3109780402_dbae082dc5.jpg\" alt=\"a girl in colorful leggings and a white shirt sits next to similarly dressed girl in a small cubicle . / Two girls crouch in a small stall . / Two women in a bathroom stall . / Two young woman dressed in white shirts sit in a small space . / Two young women sitting against a concrete wall .\" style=\"width:100px;height:auto;\"></td><td>a girl in colorful leggings and a white shirt sits next to similarly dressed girl in a small cubicle . / Two girls crouch in a small stall . / Two women in a bathroom stall . / Two young woman dressed in white shirts sit in a small space . / Two young women sitting against a concrete wall .</td><td>0.139</td></tr><tr><td>4</td><td><img src=\"../datasets/flickr8k_audio_test/images/2578289278_01516d23a0.jpg\" alt=\"a man dragging between two horses holding on to the horse on his right / A man falls off his horse on a racetrack . / A person is kneeling between two horses / A rodeo contestent being drug between two horses . / Cowboy in blue and red pants getting bucked off a horse .\" style=\"width:100px;height:auto;\"></td><td>a man dragging between two horses holding on to the horse on his right / A man falls off his horse on a racetrack . / A person is kneeling between two horses / A rodeo contestent being drug between two horses . / Cowboy in blue and red pants getting bucked off a horse .</td><td>0.129</td></tr><tr><td>5</td><td><img src=\"../datasets/flickr8k_audio_test/images/1417941060_2a0f7908bc.jpg\" alt=\"A baby plays with a young boys face . / A baby touches the mans face while he is lying down . / A boy who seems ill is being touched in the face by a toddler . / A little baby holds the head of his older brother / An infant sitting on a cot reaching over to touch the face of an older boy .\" style=\"width:100px;height:auto;\"></td><td>A baby plays with a young boys face . / A baby touches the mans face while he is lying down . / A boy who seems ill is being touched in the face by a toddler . / A little baby holds the head of his older brother / An infant sitting on a cot reaching over to touch the face of an older boy .</td><td>0.128</td></tr><tr><td>6</td><td><img src=\"../datasets/flickr8k_audio_test/images/424779662_568f9606d0.jpg\" alt=\"There are women in St Patrick 's Day costumes / Three women celebrate St Patrick 's day by dressing up in green and white on a busy street . / Three women dressed in green celebrating St Patricks Day . / Three women dressed up in green and shamrocks . / Three women wearing plenty of green and shamrocks .\" style=\"width:100px;height:auto;\"></td><td>There are women in St Patrick 's Day costumes / Three women celebrate St Patrick 's day by dressing up in green and white on a busy street . / Three women dressed in green celebrating St Patricks Day . / Three women dressed up in green and shamrocks . / Three women wearing plenty of green and shamrocks .</td><td>0.125</td></tr><tr><td>7</td><td><img src=\"../datasets/flickr8k_audio_test/images/2613209320_edf6a2b7e9.jpg\" alt=\"A brown dog is soaked and is walking out of the water . / a dog walks out of the water . / a long brown haired dog walking through a river . / A very wet brown dog is emerging from the water . / A wet dog walks out of the water .\" style=\"width:100px;height:auto;\"></td><td>A brown dog is soaked and is walking out of the water . / a dog walks out of the water . / a long brown haired dog walking through a river . / A very wet brown dog is emerging from the water . / A wet dog walks out of the water .</td><td>0.124</td></tr><tr><td>8</td><td><img src=\"../datasets/flickr8k_audio_test/images/3666324102_18ecdf8253.jpg\" alt=\"A girl and woman jump off of their swings . / Two females jump off of swings . / Two girls jump out of swings . / Two girls riding on swings . / Two girls swing over a red patterned surface .\" style=\"width:100px;height:auto;\"></td><td>A girl and woman jump off of their swings . / Two females jump off of swings . / Two girls jump out of swings . / Two girls riding on swings . / Two girls swing over a red patterned surface .</td><td>0.120</td></tr><tr><td>9</td><td><img src=\"../datasets/flickr8k_audio_test/images/3569420080_72fbe84751.jpg\" alt=\"A man in a uniform stands next to a girl with purple hair holding a cup . / A military uniformed man with a purple accented hair female standing on concrete . / A smiling man in naval officers uniform stands next to a woman with purple hair . / A woman with purple hair and a man in military regalia . / Man in uniform stands near woman with purple hair .\" style=\"width:100px;height:auto;\"></td><td>A man in a uniform stands next to a girl with purple hair holding a cup . / A military uniformed man with a purple accented hair female standing on concrete . / A smiling man in naval officers uniform stands next to a woman with purple hair . / A woman with purple hair and a man in military regalia . / Man in uniform stands near woman with purple hair .</td><td>0.112</td></tr><tr><td>10</td><td><img src=\"../datasets/flickr8k_audio_test/images/2890057168_c712f932e0.jpg\" alt=\"A couple with a small child is standing on a busy street . / A family is standing in front of a silver car in a metro area . / A family waits to cross a busy street . / The man in blue , woman in white , and child in blue stand before a silver car . / Two adults and a child wait to cross a street .\" style=\"width:100px;height:auto;\"></td><td>A couple with a small child is standing on a busy street . / A family is standing in front of a silver car in a metro area . / A family waits to cross a busy street . / The man in blue , woman in white , and child in blue stand before a silver car . / Two adults and a child wait to cross a street .</td><td>0.093</td></tr></table>\n",
       "    "
      ],
      "text/plain": [
       "<IPython.core.display.HTML object>"
      ]
     },
     "metadata": {},
     "output_type": "display_data"
    }
   ],
   "source": [
    "query_path = \"../datasets/flickr8k_audio_test/wavs/1977827746_4e13d7e19f_3.wav\"\n",
    "caption = extract_captions(query_path)\n",
    "top_k, query_info = fetcher.top_k(\n",
    "    path=query_path,\n",
    "    modality=\"image\",\n",
    "    k=10\n",
    ")\n",
    "render_top_k(query_path, top_k, caption)"
   ]
  },
  {
   "cell_type": "code",
   "execution_count": 41,
   "id": "561be7c2-0d94-43df-b8cf-84a03e12a4c8",
   "metadata": {},
   "outputs": [
    {
     "data": {
      "text/html": [
       "\n",
       "    <div style=\"text-align:center; margin-bottom:20px;\">\n",
       "        <b>Two kids sit in a plastic tub outdoors , holding corndogs .</b>\n",
       "        <audio controls src=\"../datasets/flickr8k_audio_test/wavs/1977827746_4e13d7e19f_2.wav\" style=\"display:block; margin:0 auto;\"></audio>\n",
       "    </div>\n",
       "    \n",
       "    <table border=\"1\" style=\"border-collapse:collapse; text-align:center; margin:auto;\">\n",
       "        <tr>\n",
       "            <th>Rank</th>\n",
       "            <th>Display</th>\n",
       "            <th>Caption</th>\n",
       "            <th>Similarity Score</th>\n",
       "        </tr>\n",
       "    <tr><td>1</td><td><audio controls src=\"../datasets/flickr8k_audio_test/wavs/1977827746_4e13d7e19f_2.wav\" style=\"width:200px;\"></audio></td><td>Two kids sit in a plastic tub outdoors , holding corndogs .</td><td>1.000</td></tr><tr><td>2</td><td><audio controls src=\"../datasets/flickr8k_audio_test/wavs/1977827746_4e13d7e19f_1.wav\" style=\"width:200px;\"></audio></td><td>Two kids eat corndogs outside .</td><td>0.458</td></tr><tr><td>3</td><td><audio controls src=\"../datasets/flickr8k_audio_test/wavs/2578289278_01516d23a0_3.wav\" style=\"width:200px;\"></audio></td><td>A rodeo contestent being drug between two horses .</td><td>0.376</td></tr><tr><td>4</td><td><audio controls src=\"../datasets/flickr8k_audio_test/wavs/3243591844_791cfa62eb_4.wav\" style=\"width:200px;\"></audio></td><td>Two young girls sumo wrestle while others watch .</td><td>0.346</td></tr><tr><td>5</td><td><audio controls src=\"../datasets/flickr8k_audio_test/wavs/3620343911_64a862904e_4.wav\" style=\"width:200px;\"></audio></td><td>Two kids in bathing suits hugging .</td><td>0.345</td></tr><tr><td>6</td><td><audio controls src=\"../datasets/flickr8k_audio_test/wavs/488089932_c3a5fa4140_3.wav\" style=\"width:200px;\"></audio></td><td>Girl sticks tongue out while hula hooping with two hoops</td><td>0.342</td></tr><tr><td>7</td><td><audio controls src=\"../datasets/flickr8k_audio_test/wavs/1977827746_4e13d7e19f_3.wav\" style=\"width:200px;\"></audio></td><td>Two toddlers are eating corndogs in a small wagon or bin .</td><td>0.333</td></tr><tr><td>8</td><td><audio controls src=\"../datasets/flickr8k_audio_test/wavs/3529721084_4b405baf54_2.wav\" style=\"width:200px;\"></audio></td><td>Two bikers pose for a picture , one of which is wearing a skull mask .</td><td>0.329</td></tr><tr><td>9</td><td><audio controls src=\"../datasets/flickr8k_audio_test/wavs/488089932_c3a5fa4140_2.wav\" style=\"width:200px;\"></audio></td><td>a young girl uses two hula hoops .</td><td>0.313</td></tr><tr><td>10</td><td><audio controls src=\"../datasets/flickr8k_audio_test/wavs/1977827746_4e13d7e19f_4.wav\" style=\"width:200px;\"></audio></td><td>two young children eat corndogs .</td><td>0.312</td></tr></table>\n",
       "    "
      ],
      "text/plain": [
       "<IPython.core.display.HTML object>"
      ]
     },
     "metadata": {},
     "output_type": "display_data"
    }
   ],
   "source": [
    "query_path = \"../datasets/flickr8k_audio_test/wavs/1977827746_4e13d7e19f_2.wav\"\n",
    "caption = extract_captions(query_path)\n",
    "top_k, query_info = fetcher.top_k(\n",
    "    path=query_path,\n",
    "    modality=\"audio\",\n",
    "    k=10\n",
    ")\n",
    "render_top_k(query_path, top_k, caption)"
   ]
  },
  {
   "cell_type": "code",
   "execution_count": 42,
   "id": "689be978-eabc-4931-81f0-2c8afaa45795",
   "metadata": {},
   "outputs": [
    {
     "data": {
      "text/html": [
       "\n",
       "    <div style=\"text-align:center; margin-bottom:20px;\">\n",
       "        <b>A Greyhound dog is wearing a red jersey with the number one on it and is mid run . / A greyhound with a red shirt and blue muzzle on running a race . / A large greyhound dog races wearing a red shirt . / A white greyhound dog is wearing a red jacket with the number one printed on it . / White greyhound racing as dog number 1 .</b>\n",
       "        <img src=\"../datasets/flickr8k_audio_test/images/2936590102_25036069a6.jpg\" alt=\"query image\" style=\"max-width:300px; height:auto; display:block; margin:0 auto;\">\n",
       "    </div>\n",
       "    \n",
       "    <table border=\"1\" style=\"border-collapse:collapse; text-align:center; margin:auto;\">\n",
       "        <tr>\n",
       "            <th>Rank</th>\n",
       "            <th>Display</th>\n",
       "            <th>Caption</th>\n",
       "            <th>Similarity Score</th>\n",
       "        </tr>\n",
       "    <tr><td>1</td><td><audio controls src=\"../datasets/flickr8k_audio_test/wavs/2936590102_25036069a6_4.wav\" style=\"width:200px;\"></audio></td><td>White greyhound racing as dog number 1 .</td><td>0.363</td></tr><tr><td>2</td><td><audio controls src=\"../datasets/flickr8k_audio_test/wavs/2936590102_25036069a6_3.wav\" style=\"width:200px;\"></audio></td><td>A white greyhound dog is wearing a red jacket with the number one printed on it .</td><td>0.354</td></tr><tr><td>3</td><td><audio controls src=\"../datasets/flickr8k_audio_test/wavs/2936590102_25036069a6_2.wav\" style=\"width:200px;\"></audio></td><td>A large greyhound dog races wearing a red shirt .</td><td>0.303</td></tr><tr><td>4</td><td><audio controls src=\"../datasets/flickr8k_audio_test/wavs/2936590102_25036069a6_1.wav\" style=\"width:200px;\"></audio></td><td>A greyhound with a red shirt and blue muzzle on running a race .</td><td>0.247</td></tr><tr><td>5</td><td><audio controls src=\"../datasets/flickr8k_audio_test/wavs/2578289278_01516d23a0_3.wav\" style=\"width:200px;\"></audio></td><td>A rodeo contestent being drug between two horses .</td><td>0.210</td></tr><tr><td>6</td><td><audio controls src=\"../datasets/flickr8k_audio_test/wavs/2541104331_a2d65cfa54_2.wav\" style=\"width:200px;\"></audio></td><td>a dog pounces into the water .</td><td>0.204</td></tr><tr><td>7</td><td><audio controls src=\"../datasets/flickr8k_audio_test/wavs/3019917636_4e0bb0acc4_0.wav\" style=\"width:200px;\"></audio></td><td>A woman in a race turning a corner .</td><td>0.200</td></tr><tr><td>8</td><td><audio controls src=\"../datasets/flickr8k_audio_test/wavs/3441531010_8eebbb507e_3.wav\" style=\"width:200px;\"></audio></td><td>A tan and white dog runs through water .</td><td>0.199</td></tr><tr><td>9</td><td><audio controls src=\"../datasets/flickr8k_audio_test/wavs/3694071771_ce760db4c7_3.wav\" style=\"width:200px;\"></audio></td><td>A man with a red helmet and numbers on his arm and leg is riding a red racing bike .</td><td>0.198</td></tr><tr><td>10</td><td><audio controls src=\"../datasets/flickr8k_audio_test/wavs/1287920676_d21a0b289b_3.wav\" style=\"width:200px;\"></audio></td><td>The dog has red straps in its back .</td><td>0.188</td></tr></table>\n",
       "    "
      ],
      "text/plain": [
       "<IPython.core.display.HTML object>"
      ]
     },
     "metadata": {},
     "output_type": "display_data"
    }
   ],
   "source": [
    "query_path = \"../datasets/flickr8k_audio_test/images/2936590102_25036069a6.jpg\"\n",
    "caption = extract_captions(query_path)\n",
    "top_k, query_info = fetcher.top_k(\n",
    "    path=query_path,\n",
    "    modality=\"audio\",\n",
    "    k=10\n",
    ")\n",
    "render_top_k(query_path, top_k, caption)"
   ]
  },
  {
   "cell_type": "code",
   "execution_count": 43,
   "id": "ab7f403c-03b9-4b07-8cd0-f7d733cd3e22",
   "metadata": {},
   "outputs": [
    {
     "data": {
      "text/html": [
       "\n",
       "    <div style=\"text-align:center; margin-bottom:20px;\">\n",
       "        <b>A Greyhound dog is wearing a red jersey with the number one on it and is mid run . / A greyhound with a red shirt and blue muzzle on running a race . / A large greyhound dog races wearing a red shirt . / A white greyhound dog is wearing a red jacket with the number one printed on it . / White greyhound racing as dog number 1 .</b>\n",
       "        <img src=\"../datasets/flickr8k_audio_test/images/2936590102_25036069a6.jpg\" alt=\"query image\" style=\"max-width:300px; height:auto; display:block; margin:0 auto;\">\n",
       "    </div>\n",
       "    \n",
       "    <table border=\"1\" style=\"border-collapse:collapse; text-align:center; margin:auto;\">\n",
       "        <tr>\n",
       "            <th>Rank</th>\n",
       "            <th>Display</th>\n",
       "            <th>Caption</th>\n",
       "            <th>Similarity Score</th>\n",
       "        </tr>\n",
       "    <tr><td>1</td><td><img src=\"../datasets/flickr8k_audio_test/images/2936590102_25036069a6.jpg\" alt=\"A Greyhound dog is wearing a red jersey with the number one on it and is mid run . / A greyhound with a red shirt and blue muzzle on running a race . / A large greyhound dog races wearing a red shirt . / A white greyhound dog is wearing a red jacket with the number one printed on it . / White greyhound racing as dog number 1 .\" style=\"width:100px;height:auto;\"></td><td>A Greyhound dog is wearing a red jersey with the number one on it and is mid run . / A greyhound with a red shirt and blue muzzle on running a race . / A large greyhound dog races wearing a red shirt . / A white greyhound dog is wearing a red jacket with the number one printed on it . / White greyhound racing as dog number 1 .</td><td>1.000</td></tr><tr><td>2</td><td><img src=\"../datasets/flickr8k_audio_test/images/2165459064_5b81ff23eb.jpg\" alt=\"Two white dogs are running on the grass . / Two white dogs are running through the grass . / Two white dogs running in a field / two white dogs running through the grass / Two white dogs with cutoff tails running in green grass .\" style=\"width:100px;height:auto;\"></td><td>Two white dogs are running on the grass . / Two white dogs are running through the grass . / Two white dogs running in a field / two white dogs running through the grass / Two white dogs with cutoff tails running in green grass .</td><td>0.434</td></tr><tr><td>3</td><td><img src=\"../datasets/flickr8k_audio_test/images/2578289278_01516d23a0.jpg\" alt=\"a man dragging between two horses holding on to the horse on his right / A man falls off his horse on a racetrack . / A person is kneeling between two horses / A rodeo contestent being drug between two horses . / Cowboy in blue and red pants getting bucked off a horse .\" style=\"width:100px;height:auto;\"></td><td>a man dragging between two horses holding on to the horse on his right / A man falls off his horse on a racetrack . / A person is kneeling between two horses / A rodeo contestent being drug between two horses . / Cowboy in blue and red pants getting bucked off a horse .</td><td>0.413</td></tr><tr><td>4</td><td><img src=\"../datasets/flickr8k_audio_test/images/2522540026_6ee8ab4c6a.jpg\" alt=\"A race car moves down the road as two people watch from a distance . / A race car , numbered 104 is rounding a bend as two people watch and take pictures . / A silver and blue rally car is passing two spectators who are standing at the roadside . / Blue and silver car going around curve being watched by people standing in grass / Silver and blue car marked 104 raises dust on road as two background people watch .\" style=\"width:100px;height:auto;\"></td><td>A race car moves down the road as two people watch from a distance . / A race car , numbered 104 is rounding a bend as two people watch and take pictures . / A silver and blue rally car is passing two spectators who are standing at the roadside . / Blue and silver car going around curve being watched by people standing in grass / Silver and blue car marked 104 raises dust on road as two background people watch .</td><td>0.365</td></tr><tr><td>5</td><td><img src=\"../datasets/flickr8k_audio_test/images/3488087117_2719647989.jpg\" alt=\"a brown and white dog jumps on the sidewalk . / A little white dog in running on the sidewalk . / A white dog with brown ears is running on the sidewalk . / Little brown and white dog running on the sidewalk . / The dog is running .\" style=\"width:100px;height:auto;\"></td><td>a brown and white dog jumps on the sidewalk . / A little white dog in running on the sidewalk . / A white dog with brown ears is running on the sidewalk . / Little brown and white dog running on the sidewalk . / The dog is running .</td><td>0.346</td></tr><tr><td>6</td><td><img src=\"../datasets/flickr8k_audio_test/images/2099323664_bb20457f26.jpg\" alt=\"a dog jumps onto the sidewalk . / A small dog runs from the dirt onto the street / A tan , white , and black dog runs towards a sidewalk . / Dog leaps out . / The brown and white dog is standing on its hind legs beside the path .\" style=\"width:100px;height:auto;\"></td><td>a dog jumps onto the sidewalk . / A small dog runs from the dirt onto the street / A tan , white , and black dog runs towards a sidewalk . / Dog leaps out . / The brown and white dog is standing on its hind legs beside the path .</td><td>0.317</td></tr><tr><td>7</td><td><img src=\"../datasets/flickr8k_audio_test/images/2467803152_70eeca1334.jpg\" alt=\"A big brown dog runs with a stick in his mouth , and a big black down runs behind him . / A black dog and a brown dog with a stick in his mouth are running in the field . / A brown dog runs with a stick in its mouth and a black dog follows . / A dog running with a stick in its mouth . / Two dogs are running , one of them has a stick in its mouth .\" style=\"width:100px;height:auto;\"></td><td>A big brown dog runs with a stick in his mouth , and a big black down runs behind him . / A black dog and a brown dog with a stick in his mouth are running in the field . / A brown dog runs with a stick in its mouth and a black dog follows . / A dog running with a stick in its mouth . / Two dogs are running , one of them has a stick in its mouth .</td><td>0.307</td></tr><tr><td>8</td><td><img src=\"../datasets/flickr8k_audio_test/images/3694071771_ce760db4c7.jpg\" alt=\"a cyclist / A man riding on a red bicycle . / a man wearing a white and red helmet riding his red bike down the street . / A man with a red helmet and numbers on his arm and leg is riding a red racing bike . / A man with a red helmet is riding on a red bicycle .\" style=\"width:100px;height:auto;\"></td><td>a cyclist / A man riding on a red bicycle . / a man wearing a white and red helmet riding his red bike down the street . / A man with a red helmet and numbers on his arm and leg is riding a red racing bike . / A man with a red helmet is riding on a red bicycle .</td><td>0.303</td></tr><tr><td>9</td><td><img src=\"../datasets/flickr8k_audio_test/images/1392272228_cf104086e6.jpg\" alt=\"A black dog carrying an object out of the water . / A black dog carrying some seaweed out of the water . / A black dog is coming out of the ocean water on the beach with something in its mouth . / A black dog with a stick in its mouth is walking out of the water onto a beach . / A dog retrieves a branch from on a beach .\" style=\"width:100px;height:auto;\"></td><td>A black dog carrying an object out of the water . / A black dog carrying some seaweed out of the water . / A black dog is coming out of the ocean water on the beach with something in its mouth . / A black dog with a stick in its mouth is walking out of the water onto a beach . / A dog retrieves a branch from on a beach .</td><td>0.303</td></tr><tr><td>10</td><td><img src=\"../datasets/flickr8k_audio_test/images/1526325728_74eb4153d8.jpg\" alt=\"A grey colored dog walks in wet sand at a beach . / A grey dog plays in the sand at the ocean . / Light brown dog running towards something at the beach . / The brown dog is standing on the sandy beach . / The large grey colored dog is jumping on the beach .\" style=\"width:100px;height:auto;\"></td><td>A grey colored dog walks in wet sand at a beach . / A grey dog plays in the sand at the ocean . / Light brown dog running towards something at the beach . / The brown dog is standing on the sandy beach . / The large grey colored dog is jumping on the beach .</td><td>0.286</td></tr></table>\n",
       "    "
      ],
      "text/plain": [
       "<IPython.core.display.HTML object>"
      ]
     },
     "metadata": {},
     "output_type": "display_data"
    }
   ],
   "source": [
    "query_path = \"../datasets/flickr8k_audio_test/images/2936590102_25036069a6.jpg\"\n",
    "caption = extract_captions(query_path)\n",
    "top_k, query_info = fetcher.top_k(\n",
    "    path=query_path,\n",
    "    modality=\"image\",\n",
    "    k=10\n",
    ")\n",
    "render_top_k(query_path, top_k, caption)"
   ]
  }
 ],
 "metadata": {
  "kernelspec": {
   "display_name": "Python 3 (ipykernel)",
   "language": "python",
   "name": "python3"
  },
  "language_info": {
   "codemirror_mode": {
    "name": "ipython",
    "version": 3
   },
   "file_extension": ".py",
   "mimetype": "text/x-python",
   "name": "python",
   "nbconvert_exporter": "python",
   "pygments_lexer": "ipython3",
   "version": "3.11.9"
  }
 },
 "nbformat": 4,
 "nbformat_minor": 5
}
